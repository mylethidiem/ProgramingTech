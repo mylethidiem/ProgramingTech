{
 "cells": [
  {
   "cell_type": "code",
   "execution_count": null,
   "id": "a71c88c0",
   "metadata": {
    "id": "a71c88c0"
   },
   "outputs": [],
   "source": [
    "#/11/2024 2194. Cells in a Range on an Excel Sheet\n"
   ]
  },
  {
   "cell_type": "code",
   "execution_count": null,
   "id": "3de86eec",
   "metadata": {
    "id": "3de86eec"
   },
   "outputs": [],
   "source": [
    "#/11/2024 1389. Create Target Array in the Given Order"
   ]
  },
  {
   "cell_type": "code",
   "execution_count": null,
   "id": "fdc0ec7b",
   "metadata": {
    "id": "fdc0ec7b"
   },
   "outputs": [],
   "source": [
    "#/11/2024 938. Range Sum of BST"
   ]
  },
  {
   "cell_type": "code",
   "execution_count": null,
   "id": "f6cbe8e8",
   "metadata": {
    "id": "f6cbe8e8"
   },
   "outputs": [],
   "source": [
    "#/06/2022 1221. Split a String in Balanced Strings"
   ]
  },
  {
   "cell_type": "code",
   "execution_count": null,
   "id": "014a5258",
   "metadata": {
    "id": "014a5258"
   },
   "outputs": [],
   "source": [
    "#/06/2022 1773. Count Items Matching a Rule"
   ]
  },
  {
   "cell_type": "code",
   "execution_count": null,
   "id": "4148c993",
   "metadata": {
    "id": "4148c993"
   },
   "outputs": [],
   "source": [
    "#/06/2022 1859. Sorting the Sentence"
   ]
  },
  {
   "cell_type": "code",
   "execution_count": null,
   "id": "2e2525bc",
   "metadata": {
    "id": "2e2525bc"
   },
   "outputs": [],
   "source": [
    "#/06/2022 1656. Design an Ordered Stream"
   ]
  },
  {
   "cell_type": "code",
   "execution_count": null,
   "id": "28d3c379",
   "metadata": {
    "id": "28d3c379"
   },
   "outputs": [],
   "source": [
    "#/06/2022 1486. XOR Operation in an Array"
   ]
  },
  {
   "cell_type": "code",
   "execution_count": null,
   "id": "75cd2ba2",
   "metadata": {
    "id": "75cd2ba2"
   },
   "outputs": [],
   "source": [
    "#/06/2022 1791. Find Center of Star Graph"
   ]
  },
  {
   "cell_type": "code",
   "execution_count": null,
   "id": "8dd40fc6",
   "metadata": {
    "id": "8dd40fc6"
   },
   "outputs": [],
   "source": [
    "#/06/2022 1588. Sum of All Odd Length Subarrays"
   ]
  },
  {
   "cell_type": "code",
   "execution_count": null,
   "id": "7b3a26a8",
   "metadata": {
    "id": "7b3a26a8"
   },
   "outputs": [],
   "source": [
    "#/06/2022 1688. Count of Matches in Tournament"
   ]
  },
  {
   "cell_type": "code",
   "execution_count": null,
   "id": "c0c8e0c6",
   "metadata": {
    "id": "c0c8e0c6"
   },
   "outputs": [],
   "source": [
    "#/06/2022 1614. Maximum Nesting Depth of the Parentheses\n"
   ]
  },
  {
   "cell_type": "code",
   "execution_count": null,
   "id": "f51dac28",
   "metadata": {
    "id": "f51dac28"
   },
   "outputs": [],
   "source": [
    "#/06/2022 2037. Minimum Number of Moves to Seat Everyone"
   ]
  },
  {
   "cell_type": "code",
   "execution_count": null,
   "id": "36931e6c",
   "metadata": {
    "id": "36931e6c"
   },
   "outputs": [],
   "source": [
    "#/06/2022 1290. Convert Binary Number in a Linked List to Integer"
   ]
  },
  {
   "cell_type": "code",
   "execution_count": null,
   "id": "8bbdeca0",
   "metadata": {
    "id": "8bbdeca0"
   },
   "outputs": [],
   "source": [
    "#/06/2022 2006. Count Number of Pairs With Absolute Difference K"
   ]
  },
  {
   "cell_type": "code",
   "execution_count": null,
   "id": "2c4e359e",
   "metadata": {
    "id": "2c4e359e"
   },
   "outputs": [],
   "source": [
    "#/06/2022 1684. Count the Number of Consistent Strings"
   ]
  },
  {
   "cell_type": "code",
   "execution_count": null,
   "id": "356be665",
   "metadata": {
    "id": "356be665"
   },
   "outputs": [],
   "source": [
    "#/06/2022 1662. Check If Two String Arrays are Equivalent"
   ]
  },
  {
   "cell_type": "code",
   "execution_count": null,
   "id": "2152391a",
   "metadata": {
    "id": "2152391a"
   },
   "outputs": [],
   "source": [
    "#/06/2022 2220. Minimum Bit Flips to Convert Number"
   ]
  },
  {
   "cell_type": "code",
   "execution_count": null,
   "id": "a0e9321d",
   "metadata": {
    "id": "a0e9321d"
   },
   "outputs": [],
   "source": [
    "#/06/2022 2103. Rings and Rods"
   ]
  },
  {
   "cell_type": "code",
   "execution_count": null,
   "id": "5c43fa02",
   "metadata": {
    "id": "5c43fa02"
   },
   "outputs": [],
   "source": [
    "#/06/2022 709. To Lower Case"
   ]
  },
  {
   "cell_type": "code",
   "execution_count": null,
   "id": "1a47fc06",
   "metadata": {
    "id": "1a47fc06"
   },
   "outputs": [],
   "source": [
    "#/06/2022 1816. Truncate Sentence"
   ]
  },
  {
   "cell_type": "code",
   "execution_count": null,
   "id": "ce33bf5b",
   "metadata": {
    "id": "ce33bf5b"
   },
   "outputs": [],
   "source": [
    "#/06/2022 804. Unique Morse Code Words"
   ]
  },
  {
   "cell_type": "code",
   "execution_count": null,
   "id": "3ad156f7",
   "metadata": {
    "id": "3ad156f7"
   },
   "outputs": [],
   "source": [
    "#/06/2022 2176. Count Equal and Divisible Pairs in an Array"
   ]
  },
  {
   "cell_type": "code",
   "execution_count": null,
   "id": "5a4ca09c",
   "metadata": {
    "id": "5a4ca09c"
   },
   "outputs": [],
   "source": [
    "#/06/2022 1534. Count Good Triplets"
   ]
  },
  {
   "cell_type": "code",
   "execution_count": null,
   "id": "e9173b19",
   "metadata": {
    "id": "e9173b19"
   },
   "outputs": [],
   "source": [
    "#/06/2022 1913. Maximum Product Difference Between Two Pairs"
   ]
  },
  {
   "cell_type": "code",
   "execution_count": null,
   "id": "75327003",
   "metadata": {
    "id": "75327003"
   },
   "outputs": [],
   "source": [
    "#/06/2022 1832. Check if the Sentence Is Pangram"
   ]
  },
  {
   "cell_type": "code",
   "execution_count": null,
   "id": "80f7908c",
   "metadata": {
    "id": "80f7908c"
   },
   "outputs": [],
   "source": [
    "#/06/2022 1021. Remove Outermost Parentheses"
   ]
  },
  {
   "cell_type": "code",
   "execution_count": null,
   "id": "21b4a6cd",
   "metadata": {
    "id": "21b4a6cd"
   },
   "outputs": [],
   "source": [
    "#/06/2022 832. Flipping an Image"
   ]
  },
  {
   "cell_type": "code",
   "execution_count": null,
   "id": "dcca96f8",
   "metadata": {
    "id": "dcca96f8"
   },
   "outputs": [],
   "source": [
    "#/06/2022 1844. Replace All Digits with Characters"
   ]
  },
  {
   "cell_type": "code",
   "execution_count": null,
   "id": "844a9168",
   "metadata": {
    "id": "844a9168"
   },
   "outputs": [],
   "source": [
    "#/06/2022 1967. Number of Strings That Appear as Substrings in Word"
   ]
  },
  {
   "cell_type": "code",
   "execution_count": null,
   "id": "bf8a7a5e",
   "metadata": {
    "id": "bf8a7a5e"
   },
   "outputs": [],
   "source": [
    "#/06/2022 1572. Matrix Diagonal Sum"
   ]
  },
  {
   "cell_type": "code",
   "execution_count": null,
   "id": "4acf96dd",
   "metadata": {
    "id": "4acf96dd"
   },
   "outputs": [],
   "source": [
    "#/06/2022 557. Reverse Words in a String III"
   ]
  },
  {
   "cell_type": "code",
   "execution_count": null,
   "id": "c0af9150",
   "metadata": {
    "id": "c0af9150"
   },
   "outputs": [],
   "source": [
    "#/06/2022 1266. Minimum Time Visiting All Points"
   ]
  },
  {
   "cell_type": "code",
   "execution_count": null,
   "id": "4c0ffb5a",
   "metadata": {
    "id": "4c0ffb5a"
   },
   "outputs": [],
   "source": [
    "#/06/2022 1323. Maximum 69 Number"
   ]
  },
  {
   "cell_type": "code",
   "execution_count": null,
   "id": "38e42321",
   "metadata": {
    "id": "38e42321"
   },
   "outputs": [],
   "source": [
    "#/06/2022 1309. Decrypt String from Alphabet to Integer Mapping"
   ]
  },
  {
   "cell_type": "code",
   "execution_count": null,
   "id": "a311b278",
   "metadata": {
    "id": "a311b278"
   },
   "outputs": [],
   "source": [
    "#/06/2022 2108. Find First Palindromic String in the Array"
   ]
  },
  {
   "cell_type": "code",
   "execution_count": null,
   "id": "76f6a504",
   "metadata": {
    "id": "76f6a504"
   },
   "outputs": [],
   "source": [
    "#/06/2022 1725. Number Of Rectangles That Can Form The Largest Square"
   ]
  },
  {
   "cell_type": "code",
   "execution_count": null,
   "id": "ca1c274c",
   "metadata": {
    "id": "ca1c274c"
   },
   "outputs": [],
   "source": [
    "#/06/2022 1732. Find the Highest Altitude"
   ]
  },
  {
   "cell_type": "code",
   "execution_count": null,
   "id": "8ae26e80",
   "metadata": {
    "id": "8ae26e80"
   },
   "outputs": [],
   "source": [
    "#/06/2022 1863. Sum of All Subset XOR Totals"
   ]
  },
  {
   "cell_type": "code",
   "execution_count": null,
   "id": "18ae1013",
   "metadata": {
    "id": "18ae1013"
   },
   "outputs": [],
   "source": [
    "#/06/2022 1464. Maximum Product of Two Elements in an Array"
   ]
  },
  {
   "cell_type": "code",
   "execution_count": null,
   "id": "1abf6759",
   "metadata": {
    "id": "1abf6759"
   },
   "outputs": [],
   "source": [
    "#/06/2022 1252. Cells with Odd Values in a Matrix"
   ]
  },
  {
   "cell_type": "code",
   "execution_count": null,
   "id": "bf6e1734",
   "metadata": {
    "id": "bf6e1734"
   },
   "outputs": [],
   "source": [
    "#/06/2022 897. Increasing Order Search Tree"
   ]
  },
  {
   "cell_type": "code",
   "execution_count": null,
   "id": "1200b9f2",
   "metadata": {
    "id": "1200b9f2"
   },
   "outputs": [],
   "source": [
    "#/06/2022 1827. Minimum Operations to Make the Array Incr"
   ]
  },
  {
   "cell_type": "code",
   "execution_count": null,
   "id": "1fa3bb65",
   "metadata": {
    "id": "1fa3bb65"
   },
   "outputs": [],
   "source": [
    "#/06/2022 2089. Find Target Indices After Sorting Array"
   ]
  },
  {
   "cell_type": "code",
   "execution_count": null,
   "id": "e33b0a4b",
   "metadata": {
    "id": "e33b0a4b"
   },
   "outputs": [],
   "source": [
    "#/06/2022 617. Merge Two Binary Trees"
   ]
  },
  {
   "cell_type": "code",
   "execution_count": null,
   "id": "768e879b",
   "metadata": {
    "id": "768e879b"
   },
   "outputs": [],
   "source": [
    "#/06/2022 1704. Determine if String Halves Are Alike"
   ]
  },
  {
   "cell_type": "code",
   "execution_count": null,
   "id": "b509f7da",
   "metadata": {
    "id": "b509f7da"
   },
   "outputs": [],
   "source": [
    "#/06/2022 2000. Reverse Prefix of Word"
   ]
  },
  {
   "cell_type": "code",
   "execution_count": null,
   "id": "b76cb9db",
   "metadata": {
    "id": "b76cb9db"
   },
   "outputs": [],
   "source": [
    "#/06/2022 1370. Increasing Decreasing String\n"
   ]
  },
  {
   "cell_type": "code",
   "execution_count": null,
   "id": "0caf67c7",
   "metadata": {
    "id": "0caf67c7"
   },
   "outputs": [],
   "source": [
    "#/06/2022 1436. Destination City"
   ]
  },
  {
   "cell_type": "code",
   "execution_count": null,
   "id": "a0e257f6",
   "metadata": {
    "id": "a0e257f6"
   },
   "outputs": [],
   "source": [
    "#/06/2022 1812. Determine Color of a Chessboard Square"
   ]
  },
  {
   "cell_type": "code",
   "execution_count": null,
   "id": "3ccaf72f",
   "metadata": {
    "id": "3ccaf72f"
   },
   "outputs": [],
   "source": [
    "#/06/2022 1979. Find Greatest Common Divisor of Array"
   ]
  },
  {
   "cell_type": "code",
   "execution_count": null,
   "id": "ffde8764",
   "metadata": {
    "id": "ffde8764"
   },
   "outputs": [],
   "source": [
    "#/06/2022 1374. Generate a String With Characters That Have Odd Counts"
   ]
  },
  {
   "cell_type": "code",
   "execution_count": null,
   "id": "d273baf4",
   "metadata": {
    "id": "d273baf4"
   },
   "outputs": [],
   "source": [
    "#/06/2022 2185. Counting Words With a Given Prefix"
   ]
  },
  {
   "cell_type": "code",
   "execution_count": null,
   "id": "7cdedd40",
   "metadata": {
    "id": "7cdedd40"
   },
   "outputs": [],
   "source": [
    "#/06/2022 728. Self Dividing Numbers"
   ]
  },
  {
   "cell_type": "code",
   "execution_count": null,
   "id": "c738b5ac",
   "metadata": {
    "id": "c738b5ac"
   },
   "outputs": [],
   "source": [
    "#/06/2022 1941. Check if All Characters Have Equal Number of Occurrences"
   ]
  },
  {
   "cell_type": "code",
   "execution_count": null,
   "id": "f5940957",
   "metadata": {
    "id": "f5940957"
   },
   "outputs": [],
   "source": [
    "#/06/2022 1304. Find N Unique Integers Sum up to Zero"
   ]
  },
  {
   "cell_type": "code",
   "execution_count": null,
   "id": "98c4d732",
   "metadata": {
    "id": "98c4d732"
   },
   "outputs": [],
   "source": [
    "#/06/2022 1295. Find Numbers with Even Number of Digits"
   ]
  },
  {
   "cell_type": "code",
   "execution_count": null,
   "id": "d5e3ce4d",
   "metadata": {
    "id": "d5e3ce4d"
   },
   "outputs": [],
   "source": [
    "#/06/2022 700. Search in a Binary Search Tree"
   ]
  },
  {
   "cell_type": "code",
   "execution_count": null,
   "id": "8c8184ee",
   "metadata": {
    "id": "8c8184ee"
   },
   "outputs": [],
   "source": [
    "#/06/2022 1837. Sum of Digits in Base K"
   ]
  },
  {
   "cell_type": "code",
   "execution_count": null,
   "id": "2588c8ed",
   "metadata": {
    "id": "2588c8ed"
   },
   "outputs": [],
   "source": [
    "#/06/2022 590. N-ary Tree Postorder Traversal"
   ]
  },
  {
   "cell_type": "code",
   "execution_count": null,
   "id": "6617586d",
   "metadata": {
    "id": "6617586d"
   },
   "outputs": [],
   "source": [
    "#/06/2022 2206. Divide Array Into Equal Pairs"
   ]
  },
  {
   "cell_type": "code",
   "execution_count": null,
   "id": "ab081797",
   "metadata": {
    "id": "ab081797"
   },
   "outputs": [],
   "source": [
    "#/06/2022 1450. Number of Students Doing Homework at a Given Time"
   ]
  },
  {
   "cell_type": "code",
   "execution_count": null,
   "id": "54a7e716",
   "metadata": {
    "id": "54a7e716"
   },
   "outputs": [],
   "source": [
    "#/06/2022 589. N-ary Tree Preorder Traversal"
   ]
  },
  {
   "cell_type": "code",
   "execution_count": null,
   "id": "a1d65495",
   "metadata": {
    "id": "a1d65495"
   },
   "outputs": [],
   "source": [
    "#/06/2022 2119. A Number After a Double Reversal"
   ]
  },
  {
   "cell_type": "code",
   "execution_count": null,
   "id": "72f56b08",
   "metadata": {
    "id": "72f56b08"
   },
   "outputs": [],
   "source": [
    "#/06/2022 942. DI String Match"
   ]
  },
  {
   "cell_type": "code",
   "execution_count": null,
   "id": "9277ce10",
   "metadata": {
    "id": "9277ce10"
   },
   "outputs": [],
   "source": [
    "#/06/2022 1332. Remove Palindromic Subsequences"
   ]
  },
  {
   "cell_type": "code",
   "execution_count": null,
   "id": "db1a905a",
   "metadata": {
    "id": "db1a905a"
   },
   "outputs": [],
   "source": [
    "#/06/2022 561. Array Partition I"
   ]
  },
  {
   "cell_type": "code",
   "execution_count": null,
   "id": "a7999171",
   "metadata": {
    "id": "a7999171"
   },
   "outputs": [],
   "source": [
    "#/06/2022 1768. Merge Strings Alternately"
   ]
  },
  {
   "cell_type": "code",
   "execution_count": null,
   "id": "59b515a0",
   "metadata": {
    "id": "59b515a0"
   },
   "outputs": [],
   "source": [
    "#/06/2022 905. Sort Array By Parity"
   ]
  },
  {
   "cell_type": "code",
   "execution_count": null,
   "id": "1128418c",
   "metadata": {
    "id": "1128418c"
   },
   "outputs": [],
   "source": [
    "#/06/2022"
   ]
  }
 ],
 "metadata": {
  "colab": {
   "include_colab_link": true,
   "name": "easy_algorithm_page1_100problems.ipynb",
   "provenance": []
  },
  "kernelspec": {
   "display_name": "Python 3 (ipykernel)",
   "language": "python",
   "name": "python3"
  },
  "language_info": {
   "codemirror_mode": {
    "name": "ipython",
    "version": 3
   },
   "file_extension": ".py",
   "mimetype": "text/x-python",
   "name": "python",
   "nbconvert_exporter": "python",
   "pygments_lexer": "ipython3",
   "version": "3.9.12"
  }
 },
 "nbformat": 4,
 "nbformat_minor": 5
}
