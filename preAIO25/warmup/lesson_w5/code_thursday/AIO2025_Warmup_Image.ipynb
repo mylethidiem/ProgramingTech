{
 "cells": [
  {
   "cell_type": "code",
   "execution_count": null,
   "metadata": {
    "colab": {
     "base_uri": "https://localhost:8080/",
     "height": 365
    },
    "id": "kUFAYrk-Zmjx",
    "outputId": "e04f1ec0-8876-4bc3-e781-9266623a7ee4"
   },
   "outputs": [],
   "source": []
  },
  {
   "cell_type": "code",
   "execution_count": null,
   "metadata": {
    "colab": {
     "base_uri": "https://localhost:8080/",
     "height": 365
    },
    "id": "l8hTcLjIbUBa",
    "outputId": "e4bc03da-964b-4eb0-e256-04940c3aee6a"
   },
   "outputs": [],
   "source": []
  },
  {
   "cell_type": "code",
   "execution_count": null,
   "metadata": {
    "id": "trD0RDeRcOtt"
   },
   "outputs": [],
   "source": []
  },
  {
   "cell_type": "code",
   "execution_count": null,
   "metadata": {
    "colab": {
     "base_uri": "https://localhost:8080/"
    },
    "id": "Sp7JOTQyjeLD",
    "outputId": "6e6113f9-6db2-4f68-86b4-74accc61aef2"
   },
   "outputs": [],
   "source": []
  },
  {
   "cell_type": "code",
   "execution_count": null,
   "metadata": {
    "colab": {
     "base_uri": "https://localhost:8080/"
    },
    "id": "a37DCiyikmxY",
    "outputId": "4eaa5d9b-2b43-40c4-8fc4-32c658c76fba"
   },
   "outputs": [],
   "source": []
  },
  {
   "cell_type": "code",
   "execution_count": null,
   "metadata": {
    "colab": {
     "base_uri": "https://localhost:8080/"
    },
    "id": "APh9TCARl9ne",
    "outputId": "fd061bc2-164a-4137-991b-849df44f11b4"
   },
   "outputs": [],
   "source": []
  },
  {
   "cell_type": "code",
   "execution_count": null,
   "metadata": {
    "id": "i0OSm-A-oT2k"
   },
   "outputs": [],
   "source": []
  },
  {
   "cell_type": "code",
   "execution_count": null,
   "metadata": {
    "id": "3UhzKAXRnP-S"
   },
   "outputs": [],
   "source": []
  },
  {
   "cell_type": "code",
   "execution_count": null,
   "metadata": {
    "colab": {
     "base_uri": "https://localhost:8080/"
    },
    "id": "eMSQwPO6pyUJ",
    "outputId": "16446e37-0f18-4bcc-df35-72eb7990435a"
   },
   "outputs": [],
   "source": []
  },
  {
   "cell_type": "code",
   "execution_count": null,
   "metadata": {
    "colab": {
     "base_uri": "https://localhost:8080/"
    },
    "id": "YPUw9kNlpRSZ",
    "outputId": "d4f2da1c-8f79-47e4-d0d1-2079472b7cf6"
   },
   "outputs": [],
   "source": []
  },
  {
   "cell_type": "code",
   "execution_count": null,
   "metadata": {
    "colab": {
     "base_uri": "https://localhost:8080/"
    },
    "id": "sRHqDP7q7bTR",
    "outputId": "0f48de75-e290-4363-fa3f-ade413dd8cd5"
   },
   "outputs": [],
   "source": []
  },
  {
   "cell_type": "code",
   "execution_count": null,
   "metadata": {
    "colab": {
     "base_uri": "https://localhost:8080/"
    },
    "id": "AXHGeTU772Q6",
    "outputId": "6b7c1db0-8c4b-465c-b2a7-1f540ce18953"
   },
   "outputs": [],
   "source": []
  },
  {
   "cell_type": "code",
   "execution_count": null,
   "metadata": {
    "colab": {
     "base_uri": "https://localhost:8080/"
    },
    "id": "4eR_ry828wQ2",
    "outputId": "dd4c3b60-a2e9-4e8c-fe24-b3df80d3ec22"
   },
   "outputs": [],
   "source": []
  }
 ],
 "metadata": {
  "colab": {
   "provenance": []
  },
  "kernelspec": {
   "display_name": "Python 3",
   "name": "python3"
  },
  "language_info": {
   "name": "python"
  }
 },
 "nbformat": 4,
 "nbformat_minor": 0
}
