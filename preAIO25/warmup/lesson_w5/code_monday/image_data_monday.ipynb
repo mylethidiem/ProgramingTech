{
  "cells": [
    {
      "cell_type": "markdown",
      "metadata": {
        "id": "view-in-github",
        "colab_type": "text"
      },
      "source": [
        "<a href=\"https://colab.research.google.com/github/mylethidiem/zero-to-hero/blob/main/preAIO25/warmup/lesson_w5/code_monday/image_data_monday.ipynb\" target=\"_parent\"><img src=\"https://colab.research.google.com/assets/colab-badge.svg\" alt=\"Open In Colab\"/></a>"
      ]
    },
    {
      "cell_type": "markdown",
      "metadata": {
        "id": "L18ipKSLITMt"
      },
      "source": [
        "# **Basic**"
      ]
    },
    {
      "cell_type": "markdown",
      "source": [
        "## **Numpy array creation**"
      ],
      "metadata": {
        "id": "CqSwS0wJdz8L"
      }
    },
    {
      "cell_type": "code",
      "source": [
        "import numpy as np\n",
        "\n",
        "arr = np.array([1, 2, 3])\n",
        "print(arr)\n",
        "\n",
        "arr = np.zeros(4)\n",
        "print(arr)\n",
        "\n",
        "arr = np.arange(start=1, stop=4, step=2)\n",
        "print(arr)\n",
        "\n",
        "arr = np.random.rand(2)\n",
        "print(arr)\n",
        "\n",
        "arr = np.empty(3)\n",
        "print(arr)"
      ],
      "metadata": {
        "id": "kywJWKB_d3x6",
        "outputId": "5788b50f-3696-43f2-a735-3591ffe0cf3d",
        "colab": {
          "base_uri": "https://localhost:8080/"
        }
      },
      "execution_count": 3,
      "outputs": [
        {
          "output_type": "stream",
          "name": "stdout",
          "text": [
            "[1 2 3]\n",
            "[0. 0. 0. 0.]\n",
            "[1 3]\n",
            "[0.18537775 0.03859664]\n",
            "[4.9e-324 9.9e-324 1.5e-323]\n"
          ]
        }
      ]
    },
    {
      "cell_type": "code",
      "source": [
        "arr = np.array([[1, 2, 3], [1, 2, 3]], dtype=float)\n",
        "print(arr)\n",
        "\n",
        "arr = np.zeros((2, 4))\n",
        "print(arr)\n",
        "\n",
        "arr = np.full(shape=(2,4), fill_value=2.0)\n",
        "print(arr)"
      ],
      "metadata": {
        "id": "oJ80okUoe4Yr",
        "outputId": "00841064-71b1-48a8-c98b-603b7255901c",
        "colab": {
          "base_uri": "https://localhost:8080/"
        }
      },
      "execution_count": 5,
      "outputs": [
        {
          "output_type": "stream",
          "name": "stdout",
          "text": [
            "[[1. 2. 3.]\n",
            " [1. 2. 3.]]\n",
            "[[0. 0. 0. 0.]\n",
            " [0. 0. 0. 0.]]\n",
            "[[2. 2. 2. 2.]\n",
            " [2. 2. 2. 2.]]\n"
          ]
        }
      ]
    },
    {
      "cell_type": "code",
      "source": [
        "arr = np.array([1.0, 2.0, 3.0, 4.0])\n",
        "print(arr[0])\n",
        "arr[1] = 3\n",
        "print(arr)\n",
        "\n",
        "print(arr[-4])\n",
        "print(arr)\n",
        "\n",
        "arr[-3] = 2.0\n",
        "print(arr)\n",
        "\n",
        "print(\"###\")\n",
        "arr = np.array([\n",
        "    [1.0, 2.0, 3.0, 4.0],\n",
        "    [5.0, 6.0, 7.0, 8.0]\n",
        "])\n",
        "print(arr[0][3])\n",
        "print(arr[-2][3])\n",
        "\n",
        "arr[1] = 3.0\n",
        "print(arr)\n",
        "arr[0][-3] = 3.0\n",
        "print(arr)\n",
        "print(\"###\")\n",
        "arr = np.array([\n",
        "    [1.0, 2.0, 3.0, 4.0],\n",
        "    [5.0, 6.0, 7.0, 8.0]\n",
        "])\n",
        "\n",
        "print(arr[0], end='\\n')\n",
        "print(arr[0][0::2], end='\\n')#Lấy hàng đầu, chọn cột 0, 2\n",
        "\n",
        "print(arr[0:2, 1:3])#Lấy hàng 0,1 và cột 1,2\n",
        "print(arr[0:2, -4::2])#Lấy hàng 0,1 và cột 0,2"
      ],
      "metadata": {
        "id": "Vt_xL8Yfe4Q6",
        "outputId": "d27a9434-e8d8-447d-cceb-4782b9b169dd",
        "colab": {
          "base_uri": "https://localhost:8080/"
        }
      },
      "execution_count": 11,
      "outputs": [
        {
          "output_type": "stream",
          "name": "stdout",
          "text": [
            "1.0\n",
            "[1. 3. 3. 4.]\n",
            "1.0\n",
            "[1. 3. 3. 4.]\n",
            "[1. 2. 3. 4.]\n",
            "###\n",
            "4.0\n",
            "4.0\n",
            "[[1. 2. 3. 4.]\n",
            " [3. 3. 3. 3.]]\n",
            "[[1. 3. 3. 4.]\n",
            " [3. 3. 3. 3.]]\n",
            "###\n",
            "[1. 2. 3. 4.]\n",
            "[1. 3.]\n",
            "[[2. 3.]\n",
            " [6. 7.]]\n",
            "[[1. 3.]\n",
            " [5. 7.]]\n"
          ]
        }
      ]
    },
    {
      "cell_type": "code",
      "source": [
        "arr = np.array([\n",
        "    [1.0, 2.0, 3.0, 4.0],\n",
        "    [5.0, 6.0, 7.0, 8.0]\n",
        "])\n",
        "print(np.where(arr%2 == 0, 'even', 'odd'))\n",
        "print(np.where(arr<5, arr, arr + 10))\n",
        "print(np.where(arr>5, arr, -1))"
      ],
      "metadata": {
        "id": "8veU80hzg3OK",
        "outputId": "acbdcaf5-53a9-4718-9313-72cfd07578ea",
        "colab": {
          "base_uri": "https://localhost:8080/"
        }
      },
      "execution_count": 10,
      "outputs": [
        {
          "output_type": "stream",
          "name": "stdout",
          "text": [
            "[['odd' 'even' 'odd' 'even']\n",
            " ['odd' 'even' 'odd' 'even']]\n",
            "[[ 1.  2.  3.  4.]\n",
            " [15. 16. 17. 18.]]\n",
            "[[-1. -1. -1. -1.]\n",
            " [-1.  6.  7.  8.]]\n"
          ]
        }
      ]
    },
    {
      "cell_type": "markdown",
      "source": [
        "## **Vector Operations**"
      ],
      "metadata": {
        "id": "XPFTT3KXhAqi"
      }
    },
    {
      "cell_type": "code",
      "source": [],
      "metadata": {
        "id": "oJa0RNpGhFpi"
      },
      "execution_count": null,
      "outputs": []
    },
    {
      "cell_type": "code",
      "source": [],
      "metadata": {
        "id": "JqP0v7wHhGUy"
      },
      "execution_count": null,
      "outputs": []
    },
    {
      "cell_type": "code",
      "source": [],
      "metadata": {
        "id": "KRWZSVbUhGxa"
      },
      "execution_count": null,
      "outputs": []
    },
    {
      "cell_type": "markdown",
      "source": [
        "## **Matrix Operations**"
      ],
      "metadata": {
        "id": "abR6YwY8hHBy"
      }
    },
    {
      "cell_type": "code",
      "source": [],
      "metadata": {
        "id": "07NcPoLVhMcy"
      },
      "execution_count": null,
      "outputs": []
    },
    {
      "cell_type": "code",
      "source": [],
      "metadata": {
        "id": "T1zoV2uShMUy"
      },
      "execution_count": null,
      "outputs": []
    },
    {
      "cell_type": "code",
      "source": [],
      "metadata": {
        "id": "Rovj-a0whL76"
      },
      "execution_count": null,
      "outputs": []
    },
    {
      "cell_type": "markdown",
      "metadata": {
        "id": "_Sl9exqlILX_"
      },
      "source": [
        "## **Read and show an image**"
      ]
    },
    {
      "cell_type": "markdown",
      "metadata": {
        "id": "ng2Ed5MmIadB"
      },
      "source": [
        "###**Using matplotlib**"
      ]
    },
    {
      "cell_type": "code",
      "execution_count": null,
      "metadata": {
        "id": "iaaF1nA4HtgU"
      },
      "outputs": [],
      "source": []
    },
    {
      "cell_type": "markdown",
      "metadata": {
        "id": "OeU25IeEIvPX"
      },
      "source": [
        "###**Using matplotlib and opencv**"
      ]
    },
    {
      "cell_type": "code",
      "execution_count": null,
      "metadata": {
        "colab": {
          "base_uri": "https://localhost:8080/"
        },
        "id": "0PLBWBuKTucW",
        "outputId": "6f8f59dc-07ba-4fe3-b190-ded9ffb85eb9"
      },
      "outputs": [
        {
          "data": {
            "text/plain": [
              "True"
            ]
          },
          "execution_count": 22,
          "metadata": {},
          "output_type": "execute_result"
        }
      ],
      "source": []
    },
    {
      "cell_type": "code",
      "execution_count": null,
      "metadata": {
        "id": "-xLewr6mXGLR"
      },
      "outputs": [],
      "source": []
    },
    {
      "cell_type": "code",
      "execution_count": null,
      "metadata": {
        "id": "5gQ_DGQ7YAPR"
      },
      "outputs": [],
      "source": []
    },
    {
      "cell_type": "code",
      "execution_count": null,
      "metadata": {
        "id": "gEcSWkcCXz-x"
      },
      "outputs": [],
      "source": []
    },
    {
      "cell_type": "code",
      "execution_count": null,
      "metadata": {
        "id": "aNguC8sQIx96"
      },
      "outputs": [],
      "source": []
    },
    {
      "cell_type": "code",
      "execution_count": null,
      "metadata": {
        "id": "ulJPBWqTI6D6"
      },
      "outputs": [],
      "source": []
    },
    {
      "cell_type": "code",
      "execution_count": null,
      "metadata": {
        "id": "L8oexD_uUp8G"
      },
      "outputs": [],
      "source": []
    },
    {
      "cell_type": "code",
      "execution_count": null,
      "metadata": {
        "colab": {
          "base_uri": "https://localhost:8080/"
        },
        "id": "bIxlYkwgI-UB",
        "outputId": "cf809f72-4574-4db8-a1be-b69ef3b982ba"
      },
      "outputs": [
        {
          "data": {
            "text/plain": [
              "0"
            ]
          },
          "execution_count": 6,
          "metadata": {},
          "output_type": "execute_result"
        }
      ],
      "source": []
    },
    {
      "cell_type": "code",
      "execution_count": null,
      "metadata": {
        "colab": {
          "base_uri": "https://localhost:8080/"
        },
        "id": "dSoX-4ESJAD0",
        "outputId": "70c94c81-f8fa-47ce-d7d6-9b84006e32d4"
      },
      "outputs": [
        {
          "data": {
            "text/plain": [
              "255"
            ]
          },
          "execution_count": 7,
          "metadata": {},
          "output_type": "execute_result"
        }
      ],
      "source": []
    },
    {
      "cell_type": "markdown",
      "metadata": {
        "id": "pFUbqHznJE5T"
      },
      "source": [
        "##**Read and Write an image**"
      ]
    },
    {
      "cell_type": "code",
      "execution_count": null,
      "metadata": {
        "colab": {
          "base_uri": "https://localhost:8080/"
        },
        "id": "XAbGeff_JHrg",
        "outputId": "c581cdef-e0e4-4d3a-94fe-da0e7aa33287"
      },
      "outputs": [
        {
          "data": {
            "text/plain": [
              "True"
            ]
          },
          "execution_count": 8,
          "metadata": {},
          "output_type": "execute_result"
        }
      ],
      "source": []
    },
    {
      "cell_type": "markdown",
      "metadata": {
        "id": "-vPhadHJJTnu"
      },
      "source": [
        "###**Using list as intermediate data**"
      ]
    },
    {
      "cell_type": "code",
      "execution_count": null,
      "metadata": {
        "colab": {
          "base_uri": "https://localhost:8080/"
        },
        "id": "2XdSH6fwJY68",
        "outputId": "5a137344-a293-41fe-c917-37fa17253e22"
      },
      "outputs": [
        {
          "name": "stdout",
          "output_type": "stream",
          "text": [
            "Height: 500 and width:1200\n"
          ]
        },
        {
          "data": {
            "text/plain": [
              "True"
            ]
          },
          "execution_count": 9,
          "metadata": {},
          "output_type": "execute_result"
        }
      ],
      "source": []
    },
    {
      "cell_type": "markdown",
      "metadata": {
        "id": "xFzFcWfoJ8Kr"
      },
      "source": [
        "##**Create black and noise images**"
      ]
    },
    {
      "cell_type": "code",
      "execution_count": null,
      "metadata": {
        "colab": {
          "base_uri": "https://localhost:8080/"
        },
        "id": "rWJkz7TUKA5b",
        "outputId": "f569581b-b427-41c9-b822-f46412d3d02c"
      },
      "outputs": [
        {
          "data": {
            "text/plain": [
              "True"
            ]
          },
          "execution_count": 12,
          "metadata": {},
          "output_type": "execute_result"
        }
      ],
      "source": []
    },
    {
      "cell_type": "code",
      "execution_count": null,
      "metadata": {
        "colab": {
          "base_uri": "https://localhost:8080/"
        },
        "id": "DRho2pxtKOUF",
        "outputId": "6ce1c66c-74e6-4da2-b303-26587402aa84"
      },
      "outputs": [
        {
          "data": {
            "text/plain": [
              "True"
            ]
          },
          "execution_count": 11,
          "metadata": {},
          "output_type": "execute_result"
        }
      ],
      "source": []
    },
    {
      "cell_type": "markdown",
      "metadata": {
        "id": "hnTfI9_3Kac-"
      },
      "source": [
        "#**Simple Applications**"
      ]
    },
    {
      "cell_type": "markdown",
      "metadata": {
        "id": "heLdZ3ddKrVP"
      },
      "source": [
        "##**Copy an image**"
      ]
    },
    {
      "cell_type": "code",
      "execution_count": null,
      "metadata": {
        "colab": {
          "base_uri": "https://localhost:8080/"
        },
        "id": "QMLlyNwhKd9z",
        "outputId": "cd2dcb04-1fcc-4468-b96a-61d1a96fc62a"
      },
      "outputs": [
        {
          "data": {
            "text/plain": [
              "True"
            ]
          },
          "execution_count": 14,
          "metadata": {},
          "output_type": "execute_result"
        }
      ],
      "source": []
    },
    {
      "cell_type": "code",
      "execution_count": null,
      "metadata": {
        "colab": {
          "base_uri": "https://localhost:8080/"
        },
        "id": "VR1EYt7RKlYc",
        "outputId": "7da70cb9-addd-4364-d268-5ae99de4ae22"
      },
      "outputs": [
        {
          "data": {
            "text/plain": [
              "True"
            ]
          },
          "execution_count": 35,
          "metadata": {},
          "output_type": "execute_result"
        }
      ],
      "source": []
    },
    {
      "cell_type": "markdown",
      "metadata": {
        "id": "NGD76r0AKvFu"
      },
      "source": [
        "**For Color Image**"
      ]
    },
    {
      "cell_type": "code",
      "execution_count": null,
      "metadata": {
        "colab": {
          "base_uri": "https://localhost:8080/"
        },
        "id": "FvJ4fdDtKpSw",
        "outputId": "714b90d1-8292-4400-ccd3-0c883ef32059"
      },
      "outputs": [
        {
          "data": {
            "text/plain": [
              "True"
            ]
          },
          "execution_count": 2,
          "metadata": {},
          "output_type": "execute_result"
        }
      ],
      "source": []
    },
    {
      "cell_type": "markdown",
      "metadata": {
        "id": "BDBe7-pzK0c3"
      },
      "source": [
        "##**Change illuminations**"
      ]
    },
    {
      "cell_type": "code",
      "execution_count": null,
      "metadata": {
        "colab": {
          "base_uri": "https://localhost:8080/"
        },
        "id": "812pXrvHK82s",
        "outputId": "b9c59950-b387-4411-bb0b-580c40d23985"
      },
      "outputs": [
        {
          "data": {
            "text/plain": [
              "True"
            ]
          },
          "execution_count": 17,
          "metadata": {},
          "output_type": "execute_result"
        }
      ],
      "source": []
    },
    {
      "cell_type": "code",
      "execution_count": null,
      "metadata": {
        "colab": {
          "base_uri": "https://localhost:8080/"
        },
        "id": "Gx8Uiw5QLEJy",
        "outputId": "5ec28fd1-26de-43c9-d849-a71954586a00"
      },
      "outputs": [
        {
          "data": {
            "text/plain": [
              "True"
            ]
          },
          "execution_count": 18,
          "metadata": {},
          "output_type": "execute_result"
        }
      ],
      "source": []
    },
    {
      "cell_type": "markdown",
      "metadata": {
        "id": "_1kjk1gjLceC"
      },
      "source": [
        "#**Background Subtraction**"
      ]
    },
    {
      "cell_type": "code",
      "execution_count": null,
      "metadata": {
        "colab": {
          "base_uri": "https://localhost:8080/"
        },
        "id": "uxUHwK9vwSaJ",
        "outputId": "d47a9465-0681-49bf-8145-0c92bb605d13"
      },
      "outputs": [
        {
          "data": {
            "text/plain": [
              "array([[4, 5, 7, 8],\n",
              "       [4, 4, 6, 7],\n",
              "       [3, 3, 4, 5],\n",
              "       [2, 2, 3, 4]], dtype=uint8)"
            ]
          },
          "execution_count": 1,
          "metadata": {},
          "output_type": "execute_result"
        }
      ],
      "source": [
        "\n",
        "resized_matrix"
      ]
    },
    {
      "cell_type": "code",
      "execution_count": null,
      "metadata": {
        "colab": {
          "base_uri": "https://localhost:8080/"
        },
        "id": "AbMjaa_m0cQq",
        "outputId": "bd5029e6-1e72-4b7c-86fb-98138297d784"
      },
      "outputs": [
        {
          "data": {
            "text/plain": [
              "True"
            ]
          },
          "execution_count": 7,
          "metadata": {},
          "output_type": "execute_result"
        }
      ],
      "source": []
    },
    {
      "cell_type": "code",
      "execution_count": null,
      "metadata": {
        "id": "GYL7RbkV1mXj"
      },
      "outputs": [],
      "source": []
    },
    {
      "cell_type": "code",
      "execution_count": null,
      "metadata": {
        "colab": {
          "base_uri": "https://localhost:8080/"
        },
        "id": "MW3EKiRk1uiw",
        "outputId": "be6b9c77-f03b-4f52-d865-3f4bd7738412"
      },
      "outputs": [
        {
          "data": {
            "text/plain": [
              "array([[ 0,  0,  0,  0],\n",
              "       [ 0, 20, 11,  0],\n",
              "       [ 0,  0,  0,  0]], dtype=uint8)"
            ]
          },
          "execution_count": 14,
          "metadata": {},
          "output_type": "execute_result"
        }
      ],
      "source": []
    },
    {
      "cell_type": "code",
      "execution_count": null,
      "metadata": {
        "colab": {
          "base_uri": "https://localhost:8080/"
        },
        "id": "t6_RGGV25n_r",
        "outputId": "60bc0a29-d75b-48c7-b103-989a52714e43"
      },
      "outputs": [
        {
          "data": {
            "text/plain": [
              "array([[ 0,  0,  0,  0],\n",
              "       [ 0, 20, 11,  0],\n",
              "       [ 0,  0,  0,  0]], dtype=uint8)"
            ]
          },
          "execution_count": 15,
          "metadata": {},
          "output_type": "execute_result"
        }
      ],
      "source": []
    },
    {
      "cell_type": "code",
      "execution_count": null,
      "metadata": {
        "colab": {
          "base_uri": "https://localhost:8080/"
        },
        "id": "lpsO9tGW2PO5",
        "outputId": "2ae9a95d-ae9c-4cf6-f63a-8bc515e755fe"
      },
      "outputs": [
        {
          "data": {
            "text/plain": [
              "array([[  0,   0,   0,   0],\n",
              "       [  0, 255,   0,   0],\n",
              "       [  0,   0,   0,   0]], dtype=uint8)"
            ]
          },
          "execution_count": 19,
          "metadata": {},
          "output_type": "execute_result"
        }
      ],
      "source": []
    },
    {
      "cell_type": "code",
      "execution_count": null,
      "metadata": {
        "colab": {
          "base_uri": "https://localhost:8080/"
        },
        "id": "HbzAnNRrLlJP",
        "outputId": "038ee2ca-9c5c-47f7-b941-bd3a9184b4a2"
      },
      "outputs": [
        {
          "data": {
            "text/plain": [
              "True"
            ]
          },
          "execution_count": 19,
          "metadata": {},
          "output_type": "execute_result"
        }
      ],
      "source": []
    },
    {
      "cell_type": "code",
      "execution_count": null,
      "metadata": {
        "colab": {
          "base_uri": "https://localhost:8080/"
        },
        "id": "iP4m9O_RMDg4",
        "outputId": "e815fe49-c32b-4274-8ee6-e159828c417d"
      },
      "outputs": [
        {
          "data": {
            "text/plain": [
              "True"
            ]
          },
          "execution_count": 20,
          "metadata": {},
          "output_type": "execute_result"
        }
      ],
      "source": []
    }
  ],
  "metadata": {
    "colab": {
      "provenance": [],
      "include_colab_link": true
    },
    "kernelspec": {
      "display_name": "Python 3",
      "name": "python3"
    },
    "language_info": {
      "name": "python"
    }
  },
  "nbformat": 4,
  "nbformat_minor": 0
}