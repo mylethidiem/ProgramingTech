{
 "cells": [
  {
   "cell_type": "markdown",
   "metadata": {
    "id": "epqIX4k0VSAA"
   },
   "source": [
    "# **W7**"
   ]
  },
  {
   "cell_type": "markdown",
   "metadata": {
    "id": "8ARGaVTG08pf"
   },
   "source": [
    "## **Linear Regression**"
   ]
  },
  {
   "cell_type": "markdown",
   "metadata": {
    "id": "GQ9vzXXv9_Sz"
   },
   "source": [
    "#### Exercise 1"
   ]
  },
  {
   "cell_type": "code",
   "execution_count": null,
   "metadata": {
    "colab": {
     "base_uri": "https://localhost:8080/"
    },
    "id": "YbloDbvO9_S1",
    "outputId": "3c10c4f5-94e7-4bf1-992b-b8c3bc20a38b"
   },
   "outputs": [],
   "source": [
    "#q1\n",
    "import numpy as np\n",
    "arr = np.arrange(0,10,1)\n",
    "print(arr)"
   ]
  },
  {
   "cell_type": "code",
   "execution_count": null,
   "metadata": {},
   "outputs": [],
   "source": [
    "#q2\n",
    "arr2 = np.full((3,3), True, dtype=bool)"
   ]
  },
  {
   "cell_type": "code",
   "execution_count": null,
   "metadata": {},
   "outputs": [],
   "source": [
    "#q3\n",
    "arr3 = np.arrange(0,10)\n",
    "print(arr3[arr3 % 2 == 1])"
   ]
  },
  {
   "cell_type": "code",
   "execution_count": null,
   "metadata": {},
   "outputs": [],
   "source": [
    "#q4\n",
    "arr4 = np.arrange(0,10)\n",
    "arr4[arr4 % 2 == 1] = -1\n",
    "print(arr4)"
   ]
  },
  {
   "cell_type": "code",
   "execution_count": null,
   "metadata": {},
   "outputs": [],
   "source": [
    "#q5\n",
    "arr5 = np.arrange(10)\n",
    "arr_2d = arr5.reshape(2,1)\n",
    "print(arr_2d)"
   ]
  },
  {
   "cell_type": "code",
   "execution_count": null,
   "metadata": {},
   "outputs": [],
   "source": [
    "#q6\n",
    "arr5 = np.arrange(10).reshape(2,-1)\n",
    "print(arr5)\n",
    "print(arr5.shape)\n",
    "arr6 = np.repeat(1, 10).reshape(2,-1)\n",
    "print(np.repeat(1, 10))\n",
    "print(arr6)\n",
    "print(arr6.shape)\n",
    "c = np.concatenate([arr5, arr6], axis=0)\n",
    "print(\"Result of concatenation along axis 0:\",c)"
   ]
  },
  {
   "cell_type": "code",
   "execution_count": null,
   "metadata": {},
   "outputs": [],
   "source": [
    "#q7\n",
    "arr7 = np.arrange(10).reshape(2,-1)\n",
    "print(arr7)\n",
    "arr8 = np.repeat(1, 10).reshape(2,-1)\n",
    "print(arr8)\n",
    "d = np.concatenate([arr7, arr8], axis=1)\n",
    "print(\"Result of concatenation along axis 1:\",d)"
   ]
  },
  {
   "cell_type": "code",
   "execution_count": null,
   "metadata": {},
   "outputs": [],
   "source": [
    "#q8\n",
    "arr9 = np.arr([1,2,3])\n",
    "print(np.repeat(arr9, 3))\n",
    "print(np.tile(arr9, 3))"
   ]
  },
  {
   "cell_type": "code",
   "execution_count": null,
   "metadata": {},
   "outputs": [],
   "source": [
    "#q9\n",
    "a = np.array([2,6,1,9,10,3,27])\n",
    "index = np.where((a >= 5) & (a <= 10))\n",
    "print(\"result of index where values are between 5 and 10:\",index)"
   ]
  },
  {
   "cell_type": "code",
   "execution_count": null,
   "metadata": {},
   "outputs": [],
   "source": [
    "arr = np.arange(0, 10, 1)\n",
    "print(arr)"
   ]
  }
 ],
 "metadata": {
  "colab": {
   "include_colab_link": true,
   "provenance": []
  },
  "kernelspec": {
   "display_name": "base",
   "language": "python",
   "name": "python3"
  },
  "language_info": {
   "codemirror_mode": {
    "name": "ipython",
    "version": 3
   },
   "file_extension": ".py",
   "mimetype": "text/x-python",
   "name": "python",
   "nbconvert_exporter": "python",
   "pygments_lexer": "ipython3",
   "version": "3.9.20"
  }
 },
 "nbformat": 4,
 "nbformat_minor": 0
}
