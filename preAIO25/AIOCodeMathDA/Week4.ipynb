{
  "cells": [
    {
      "cell_type": "markdown",
      "metadata": {
        "id": "view-in-github",
        "colab_type": "text"
      },
      "source": [
        "<a href=\"https://colab.research.google.com/github/mylethidiem/zero-to-hero/blob/main/preAIO25/AIOCodeMathDA/Week4.ipynb\" target=\"_parent\"><img src=\"https://colab.research.google.com/assets/colab-badge.svg\" alt=\"Open In Colab\"/></a>"
      ]
    },
    {
      "cell_type": "markdown",
      "source": [
        "[AIO2025] LẬP TRÌNH - TOÁN - DATA ANALYSIS \\\n",
        "LÊ THỊ DIỄM MY"
      ],
      "metadata": {
        "id": "3fnuGyrSQ7kq"
      }
    },
    {
      "cell_type": "markdown",
      "source": [
        "# Day 1̉6: Gram Matrix in Style transfer\n",
        "---"
      ],
      "metadata": {
        "id": "04uSCDbApxxZ"
      }
    },
    {
      "cell_type": "markdown",
      "source": [
        "Set up Gram Matrix by using Numpy"
      ],
      "metadata": {
        "id": "GseamKCpxTRf"
      }
    },
    {
      "cell_type": "code",
      "source": [
        "import numpy as np\n",
        "\n",
        "def compute_gram_matrix(feature_map: np.ndarray) -> np.ndarray:\n",
        "  \"\"\"\n",
        "  Compute Gram Matrix from feature map\n",
        "  Args: feature_map(np.ndarray) matrix size (C, H, W)\n",
        "  Returns: (np.ndarray) Gram matrix size (C, C)\n",
        "  \"\"\"\n",
        "  # Get size of input\n",
        "  C, H, W = feature_map.shape\n",
        "\n",
        "  # Convert matrix to shape (C, H*W)\n",
        "  F = feature_map.reshape(C, H*W)\n",
        "\n",
        "  # Calculate Gram Matrix G = F <dot product> F.T\n",
        "  G = np.dot(F, F.transpose())\n",
        "\n",
        "  # Normalise by pixel count\n",
        "  G = G / float(H * W)\n",
        "\n",
        "  return G"
      ],
      "metadata": {
        "id": "EazUl53Nqj6f"
      },
      "execution_count": null,
      "outputs": []
    },
    {
      "cell_type": "code",
      "execution_count": null,
      "metadata": {
        "id": "JZJH1v68YX4M",
        "colab": {
          "base_uri": "https://localhost:8080/"
        },
        "outputId": "975229d7-5019-4a33-dfa4-f03991ea4839"
      },
      "outputs": [
        {
          "output_type": "stream",
          "name": "stdout",
          "text": [
            "Compute Gram Matrix: \n",
            "[[0.33432857 0.2207897  0.27598961]\n",
            " [0.2207897  0.19580158 0.19452994]\n",
            " [0.27598961 0.19452994 0.32603015]]\n"
          ]
        }
      ],
      "source": [
        "# Generate data set with size (3, 4, 4)\n",
        "np.random.seed(42)\n",
        "feature_map = np.random.rand(3, 4, 4)\n",
        "\n",
        "# Compute Gram Matrix\n",
        "grand_matrix = compute_gram_matrix(feature_map)\n",
        "\n",
        "# Print result\n",
        "print(f\"Compute Gram Matrix: \\n{grand_matrix}\")"
      ]
    },
    {
      "cell_type": "markdown",
      "source": [
        "Set up Gram Matrix by using Pytorch"
      ],
      "metadata": {
        "id": "HGuCOmXjxeI4"
      }
    },
    {
      "cell_type": "code",
      "source": [
        "import torch\n",
        "import numpy as np\n",
        "\n",
        "def compute_gram_matrix_torch(feature_map: np.ndarray):\n",
        "  feature_map_torch = torch.tensor(feature_map, dtype=torch.float32)\n",
        "  F_torch = feature_map_torch.view(3, -1)\n",
        "  grand_matrix_torch = torch.mm(F_torch, F_torch.t()) / (4 * 4)\n",
        "  return grand_matrix_torch"
      ],
      "metadata": {
        "id": "rrA_43WdxhQ_"
      },
      "execution_count": null,
      "outputs": []
    },
    {
      "cell_type": "code",
      "source": [
        "# Generate data set with size (3, 4, 4)\n",
        "np.random.seed(42)\n",
        "feature_map = np.random.rand(3, 4, 4)\n",
        "\n",
        "grand_matrix_torch = compute_gram_matrix_torch(feature_map)\n",
        "print(f\"\\n Gram Matrix Pytorch:\\n {grand_matrix_torch.numpy()}\")"
      ],
      "metadata": {
        "id": "1t2tjFkS0fkI",
        "colab": {
          "base_uri": "https://localhost:8080/"
        },
        "outputId": "bd2dc41a-b4f9-4ff0-a064-b97f15192d68"
      },
      "execution_count": null,
      "outputs": [
        {
          "output_type": "stream",
          "name": "stdout",
          "text": [
            "\n",
            " Gram Matrix Pytorch:\n",
            " [[0.33432856 0.2207897  0.2759896 ]\n",
            " [0.2207897  0.19580159 0.19452995]\n",
            " [0.2759896  0.19452995 0.32603014]]\n"
          ]
        }
      ]
    },
    {
      "cell_type": "markdown",
      "source": [
        "## Exercise 1:"
      ],
      "metadata": {
        "id": "0NXRGzrCxJIA"
      }
    },
    {
      "cell_type": "code",
      "source": [
        "feature_map = np.array([\n",
        "    [[1, 2], [3, 4]], # channel 1\n",
        "    [[5, 6], [7, 8]], # channel 2\n",
        "    [[9, 10], [11, 12]] # channel 3\n",
        "])\n",
        "\n",
        "grand_matrix = compute_gram_matrix(feature_map)\n",
        "print(grand_matrix)"
      ],
      "metadata": {
        "id": "P9KzeFs7xNE3",
        "colab": {
          "base_uri": "https://localhost:8080/"
        },
        "outputId": "8dd46855-962a-40a4-f676-ae9f80a53a17"
      },
      "execution_count": null,
      "outputs": [
        {
          "output_type": "stream",
          "name": "stdout",
          "text": [
            "[[  7.5  17.5  27.5]\n",
            " [ 17.5  43.5  69.5]\n",
            " [ 27.5  69.5 111.5]]\n"
          ]
        }
      ]
    },
    {
      "cell_type": "markdown",
      "source": [
        "## Exercise 2:"
      ],
      "metadata": {
        "id": "NucXqk34ZHeR"
      }
    },
    {
      "cell_type": "code",
      "source": [
        "def compute_similarity(gram1: np.ndarray, gram2: np.ndarray) -> float:\n",
        "  \"\"\"\n",
        "  Compute similarity between 2 Gram Matrix\n",
        "  Args:\n",
        "    gram1 (np.ndarray): Gram Matrix image 1\n",
        "    gram2 (np.ndarray): Gram Matrix image 2\n",
        "  Returns:\n",
        "    float: Similarity between [0, 1]\n",
        "  \"\"\"\n",
        "  numerator = np.sum(gram1 * gram2)\n",
        "  denominator = np.sqrt(np.sum(gram1 * gram1)) * np.sqrt(np.sum(gram2 * gram2))\n",
        "  similarity = numerator / denominator\n",
        "  return similarity"
      ],
      "metadata": {
        "id": "SIQ3GBF3ZF2r"
      },
      "execution_count": null,
      "outputs": []
    },
    {
      "cell_type": "code",
      "source": [
        "feature_map1 = np.array([\n",
        "    [[1, 2], [3, 4]], # channel 1\n",
        "    [[5, 6], [7, 8]], # channel 2\n",
        "    [[9, 10], [11, 12]] # channel 3\n",
        "])\n",
        "\n",
        "feature_map2 = np.array([\n",
        "    [[2, 4], [6, 8]], # channel 1\n",
        "    [[1, 3], [5, 7]], # channel 2\n",
        "    [[0, 2], [4, 6]] # channel 3\n",
        "])\n",
        "\n",
        "# Compute gram matrix\n",
        "gram1 = compute_gram_matrix(feature_map1)\n",
        "gram2 = compute_gram_matrix(feature_map2)\n",
        "\n",
        "# Compute similarity\n",
        "similarity = compute_similarity(gram1, gram2)\n",
        "print(f\"Similarity: {similarity:.2f}\")"
      ],
      "metadata": {
        "colab": {
          "base_uri": "https://localhost:8080/"
        },
        "id": "YvOXoyivcojb",
        "outputId": "440356bc-3697-49c5-bc3c-6970e9ce43f8"
      },
      "execution_count": null,
      "outputs": [
        {
          "output_type": "stream",
          "name": "stdout",
          "text": [
            "Similarity: 0.67\n"
          ]
        }
      ]
    },
    {
      "cell_type": "markdown",
      "source": [
        "# Day 17: Getting Started with WandB\n",
        "\n",
        "\n",
        "---\n",
        "\n"
      ],
      "metadata": {
        "id": "QMmVLEXZqBrK"
      }
    },
    {
      "cell_type": "code",
      "execution_count": 33,
      "metadata": {
        "id": "L9QZbsqlXKvu",
        "colab": {
          "base_uri": "https://localhost:8080/"
        },
        "outputId": "9fc4c5c9-34c9-452a-82c9-68761b7357a9"
      },
      "outputs": [
        {
          "output_type": "stream",
          "name": "stdout",
          "text": [
            "Requirement already satisfied: wandb in /usr/local/lib/python3.11/dist-packages (0.19.6)\n",
            "Requirement already satisfied: click!=8.0.0,>=7.1 in /usr/local/lib/python3.11/dist-packages (from wandb) (8.1.8)\n",
            "Requirement already satisfied: docker-pycreds>=0.4.0 in /usr/local/lib/python3.11/dist-packages (from wandb) (0.4.0)\n",
            "Requirement already satisfied: gitpython!=3.1.29,>=1.0.0 in /usr/local/lib/python3.11/dist-packages (from wandb) (3.1.44)\n",
            "Requirement already satisfied: platformdirs in /usr/local/lib/python3.11/dist-packages (from wandb) (4.3.6)\n",
            "Requirement already satisfied: protobuf!=4.21.0,!=5.28.0,<6,>=3.19.0 in /usr/local/lib/python3.11/dist-packages (from wandb) (4.25.6)\n",
            "Requirement already satisfied: psutil>=5.0.0 in /usr/local/lib/python3.11/dist-packages (from wandb) (5.9.5)\n",
            "Requirement already satisfied: pydantic<3,>=2.6 in /usr/local/lib/python3.11/dist-packages (from wandb) (2.10.6)\n",
            "Requirement already satisfied: pyyaml in /usr/local/lib/python3.11/dist-packages (from wandb) (6.0.2)\n",
            "Requirement already satisfied: requests<3,>=2.0.0 in /usr/local/lib/python3.11/dist-packages (from wandb) (2.32.3)\n",
            "Requirement already satisfied: sentry-sdk>=2.0.0 in /usr/local/lib/python3.11/dist-packages (from wandb) (2.22.0)\n",
            "Requirement already satisfied: setproctitle in /usr/local/lib/python3.11/dist-packages (from wandb) (1.3.4)\n",
            "Requirement already satisfied: setuptools in /usr/local/lib/python3.11/dist-packages (from wandb) (75.1.0)\n",
            "Requirement already satisfied: typing-extensions<5,>=4.4 in /usr/local/lib/python3.11/dist-packages (from wandb) (4.12.2)\n",
            "Requirement already satisfied: six>=1.4.0 in /usr/local/lib/python3.11/dist-packages (from docker-pycreds>=0.4.0->wandb) (1.17.0)\n",
            "Requirement already satisfied: gitdb<5,>=4.0.1 in /usr/local/lib/python3.11/dist-packages (from gitpython!=3.1.29,>=1.0.0->wandb) (4.0.12)\n",
            "Requirement already satisfied: annotated-types>=0.6.0 in /usr/local/lib/python3.11/dist-packages (from pydantic<3,>=2.6->wandb) (0.7.0)\n",
            "Requirement already satisfied: pydantic-core==2.27.2 in /usr/local/lib/python3.11/dist-packages (from pydantic<3,>=2.6->wandb) (2.27.2)\n",
            "Requirement already satisfied: charset-normalizer<4,>=2 in /usr/local/lib/python3.11/dist-packages (from requests<3,>=2.0.0->wandb) (3.4.1)\n",
            "Requirement already satisfied: idna<4,>=2.5 in /usr/local/lib/python3.11/dist-packages (from requests<3,>=2.0.0->wandb) (3.10)\n",
            "Requirement already satisfied: urllib3<3,>=1.21.1 in /usr/local/lib/python3.11/dist-packages (from requests<3,>=2.0.0->wandb) (2.3.0)\n",
            "Requirement already satisfied: certifi>=2017.4.17 in /usr/local/lib/python3.11/dist-packages (from requests<3,>=2.0.0->wandb) (2025.1.31)\n",
            "Requirement already satisfied: smmap<6,>=3.0.1 in /usr/local/lib/python3.11/dist-packages (from gitdb<5,>=4.0.1->gitpython!=3.1.29,>=1.0.0->wandb) (5.0.2)\n"
          ]
        }
      ],
      "source": [
        "# install\n",
        "!pip install wandb"
      ]
    },
    {
      "cell_type": "code",
      "source": [
        "!wandb login"
      ],
      "metadata": {
        "id": "Dq48D5_Gg3n5",
        "colab": {
          "base_uri": "https://localhost:8080/"
        },
        "outputId": "18514106-78c8-4147-9dd9-dcc7fec36898"
      },
      "execution_count": 34,
      "outputs": [
        {
          "output_type": "stream",
          "name": "stdout",
          "text": [
            "\u001b[34m\u001b[1mwandb\u001b[0m: Currently logged in as: \u001b[33mlethidiemmy961996\u001b[0m (\u001b[33mlethidiemmy961996-aivietnam-edu-vn\u001b[0m) to \u001b[32mhttps://api.wandb.ai\u001b[0m. Use \u001b[1m`wandb login --relogin`\u001b[0m to force relogin\n"
          ]
        }
      ]
    },
    {
      "cell_type": "markdown",
      "source": [
        "### Model Linear Regression"
      ],
      "metadata": {
        "id": "Zq3_MIeI4A7g"
      }
    },
    {
      "cell_type": "code",
      "source": [
        "import pandas as pd\n",
        "import wandb\n",
        "\n",
        "areas = [6.7, 4.6, 3.5, 5.5]\n",
        "prices = [9.1, 5.9, 4.6, 6.7]\n",
        "\n",
        "dataset = pd.DataFrame({\n",
        "    'areas': areas,\n",
        "    'prices': prices\n",
        "})"
      ],
      "metadata": {
        "id": "KfS2XxnLg8vc"
      },
      "execution_count": 35,
      "outputs": []
    },
    {
      "cell_type": "code",
      "source": [
        "# forward\n",
        "def predict(x, w, b):\n",
        "  return w * x + b\n",
        "\n",
        "# compute gradient\n",
        "def gradient(y_hat, y, x):\n",
        "  dw = 2 * x * (y_hat - y)\n",
        "  db = 2 * (y_hat - y)\n",
        "\n",
        "  return (dw, db)\n",
        "\n",
        "# update weights\n",
        "def update(w, b, lr, dw, db):\n",
        "  w -= lr * dw\n",
        "  b -= lr * db\n",
        "  return w, b"
      ],
      "metadata": {
        "id": "NuulFAPr3y_V"
      },
      "execution_count": 36,
      "outputs": []
    },
    {
      "cell_type": "code",
      "source": [
        "# init weights\n",
        "b = 0.04\n",
        "w = -0.34\n",
        "lr = 0.01\n",
        "epochs = 10\n",
        "\n",
        "# init project wandb\n",
        "wandb.init(\n",
        "  # Set the project where this run will be logged\n",
        "  project=\"demo-linear-regression\",\n",
        "  config={\n",
        "      \"learning_rate\": lr,\n",
        "      \"epochs\": epochs,\n",
        "  },\n",
        ")"
      ],
      "metadata": {
        "id": "kDg9TLnS5X-6",
        "colab": {
          "base_uri": "https://localhost:8080/",
          "height": 125
        },
        "outputId": "edfbf1cc-f4f4-44fa-e312-1069f0569be7"
      },
      "execution_count": 37,
      "outputs": [
        {
          "output_type": "display_data",
          "data": {
            "text/plain": [
              "<IPython.core.display.HTML object>"
            ],
            "text/html": [
              "Tracking run with wandb version 0.19.6"
            ]
          },
          "metadata": {}
        },
        {
          "output_type": "display_data",
          "data": {
            "text/plain": [
              "<IPython.core.display.HTML object>"
            ],
            "text/html": [
              "Run data is saved locally in <code>/content/wandb/run-20250223_112432-wz0w9dsl</code>"
            ]
          },
          "metadata": {}
        },
        {
          "output_type": "display_data",
          "data": {
            "text/plain": [
              "<IPython.core.display.HTML object>"
            ],
            "text/html": [
              "Syncing run <strong><a href='https://wandb.ai/lethidiemmy961996-aivietnam-edu-vn/demo-linear-regression/runs/wz0w9dsl' target=\"_blank\">likely-disco-2</a></strong> to <a href='https://wandb.ai/lethidiemmy961996-aivietnam-edu-vn/demo-linear-regression' target=\"_blank\">Weights & Biases</a> (<a href='https://wandb.me/developer-guide' target=\"_blank\">docs</a>)<br>"
            ]
          },
          "metadata": {}
        },
        {
          "output_type": "display_data",
          "data": {
            "text/plain": [
              "<IPython.core.display.HTML object>"
            ],
            "text/html": [
              " View project at <a href='https://wandb.ai/lethidiemmy961996-aivietnam-edu-vn/demo-linear-regression' target=\"_blank\">https://wandb.ai/lethidiemmy961996-aivietnam-edu-vn/demo-linear-regression</a>"
            ]
          },
          "metadata": {}
        },
        {
          "output_type": "display_data",
          "data": {
            "text/plain": [
              "<IPython.core.display.HTML object>"
            ],
            "text/html": [
              " View run at <a href='https://wandb.ai/lethidiemmy961996-aivietnam-edu-vn/demo-linear-regression/runs/wz0w9dsl' target=\"_blank\">https://wandb.ai/lethidiemmy961996-aivietnam-edu-vn/demo-linear-regression/runs/wz0w9dsl</a>"
            ]
          },
          "metadata": {}
        },
        {
          "output_type": "execute_result",
          "data": {
            "text/html": [
              "<button onClick=\"this.nextSibling.style.display='block';this.style.display='none';\">Display W&B run</button><iframe src='https://wandb.ai/lethidiemmy961996-aivietnam-edu-vn/demo-linear-regression/runs/wz0w9dsl?jupyter=true' style='border:none;width:100%;height:420px;display:none;'></iframe>"
            ],
            "text/plain": [
              "<wandb.sdk.wandb_run.Run at 0x7b13de97ba50>"
            ]
          },
          "metadata": {},
          "execution_count": 37
        }
      ]
    },
    {
      "cell_type": "code",
      "source": [
        "wandb.run.log({\"Dataset\" :  wandb.Table(dataframe=dataset)})\n",
        "\n",
        "X_train = dataset['areas']\n",
        "Y_train = dataset['areas']\n",
        "\n",
        "N = len(X_train)\n",
        "\n",
        "# parameters\n",
        "losses = [] # for visualize, debug, evaluate model\n",
        "\n",
        "for epoch in range(epochs):\n",
        "  # for an epoch\n",
        "  for i in range(N):\n",
        "    # get a sample\n",
        "    x = X_train[i]\n",
        "    y = Y_train[i]\n",
        "\n",
        "    # predict y_hat\n",
        "    y_hat = predict(x, w, b)\n",
        "\n",
        "    # compute loss\n",
        "    loss = 0.5 * ((y_hat - y) ** 2)\n",
        "\n",
        "    # tracking loss with wandb\n",
        "    wandb.log({\"loss\": loss})\n",
        "\n",
        "    # compute gradient\n",
        "    dw, db = gradient(y_hat, y, x)\n",
        "\n",
        "    # update weights\n",
        "    w, b = update(w, b, lr, dw, db)\n",
        "\n",
        "# Mark a run as finished, and finish uploading all data\n",
        "wandb.finish()\n"
      ],
      "metadata": {
        "id": "R_rnb2nPAnlJ",
        "colab": {
          "base_uri": "https://localhost:8080/",
          "height": 319
        },
        "outputId": "bb467bd5-9751-4207-ceb4-029a198b834b"
      },
      "execution_count": 38,
      "outputs": [
        {
          "output_type": "display_data",
          "data": {
            "text/plain": [
              "<IPython.core.display.HTML object>"
            ],
            "text/html": []
          },
          "metadata": {}
        },
        {
          "output_type": "display_data",
          "data": {
            "text/plain": [
              "<IPython.core.display.HTML object>"
            ],
            "text/html": [
              "<br>    <style><br>        .wandb-row {<br>            display: flex;<br>            flex-direction: row;<br>            flex-wrap: wrap;<br>            justify-content: flex-start;<br>            width: 100%;<br>        }<br>        .wandb-col {<br>            display: flex;<br>            flex-direction: column;<br>            flex-basis: 100%;<br>            flex: 1;<br>            padding: 10px;<br>        }<br>    </style><br><div class=\"wandb-row\"><div class=\"wandb-col\"><h3>Run history:</h3><br/><table class=\"wandb\"><tr><td>loss</td><td>█▁▁▁▁▁▁▁▁▁▁▁▁▁▁▁▁▁▁▁▁▁▁▁▁▁▁▁▁▁▁▁▁▁▁▁▁▁▁▁</td></tr></table><br/></div><div class=\"wandb-col\"><h3>Run summary:</h3><br/><table class=\"wandb\"><tr><td>loss</td><td>0.00055</td></tr></table><br/></div></div>"
            ]
          },
          "metadata": {}
        },
        {
          "output_type": "display_data",
          "data": {
            "text/plain": [
              "<IPython.core.display.HTML object>"
            ],
            "text/html": [
              " View run <strong style=\"color:#cdcd00\">likely-disco-2</strong> at: <a href='https://wandb.ai/lethidiemmy961996-aivietnam-edu-vn/demo-linear-regression/runs/wz0w9dsl' target=\"_blank\">https://wandb.ai/lethidiemmy961996-aivietnam-edu-vn/demo-linear-regression/runs/wz0w9dsl</a><br> View project at: <a href='https://wandb.ai/lethidiemmy961996-aivietnam-edu-vn/demo-linear-regression' target=\"_blank\">https://wandb.ai/lethidiemmy961996-aivietnam-edu-vn/demo-linear-regression</a><br>Synced 5 W&B file(s), 1 media file(s), 2 artifact file(s) and 0 other file(s)"
            ]
          },
          "metadata": {}
        },
        {
          "output_type": "display_data",
          "data": {
            "text/plain": [
              "<IPython.core.display.HTML object>"
            ],
            "text/html": [
              "Find logs at: <code>./wandb/run-20250223_112432-wz0w9dsl/logs</code>"
            ]
          },
          "metadata": {}
        }
      ]
    },
    {
      "cell_type": "markdown",
      "source": [
        "Result:\n",
        "- xlabel: computation step epochs x len(data)\n",
        "- ylabel: loss value"
      ],
      "metadata": {
        "id": "oLhc2mTAjYl0"
      }
    },
    {
      "cell_type": "markdown",
      "source": [
        "![image.png](data:image/png;base64,iVBORw0KGgoAAAANSUhEUgAAAusAAAHRCAYAAADT8PdrAAAAAXNSR0IArs4c6QAAAARnQU1BAACxjwv8YQUAAAAJcEhZcwAAEnQAABJ0Ad5mH3gAACrsSURBVHhe7d1/lN11fe/7155JJjMTyG9IApiUJppYhLNAKVoFRZCKWtRFVerRw9FefhRDz6FaPJb6W/QSaWkvw6mGFm8O1gaRiqmK5Yc/QKs0atYlUhNNGgOEJJBkkhCYTJKZuX9kZjPzZZLMwGTv7ySPx1qzSD7f7+ywGJg88+H9/exKZ2dnTwAAgNJpKC4AAADlINYBAKCkxDoAAJSUWAcAgJIS6wAAUFJiHQAASkqsAwBASYl1AAAoKbEOAAAlJdYBAKCkxDoAAJSUWAcAgJIS6wAAUFJiHQAASkqsAwBASYl1AAAoKbHOiOjp6RnwAQDAC1fp7OxUVgxbT09Puru7DxjnlUollUolDQ0NqVQqxcsAAByEWGdY+iK9u7u7eOmAGhoaRDsAwDBVx2Du/+FPcutXvpZ1jzw28I4k6x55LLd+5Wu5/4c/KV7iCNLd3Z29e/cOO9TzAj8XAOBI1ZAkDy5bnpu/9I+5+74f5B8W/1PxnvzD4n/K3ff9IDd/6R/z7z9dXrzMEaC7uztdXV3F5WHr6uoS7AAAQ9SQJJs3b6kuPPnksz8ebG2w6yT5t8/mzLPPzaf+rXhh9BupUO8j2AEAhqYhSc4685V5+amnZNrUKTnv3NcW78l5574206ZOyctPPSVnnfnK4uUjwIP51Nnn5sz+H5fcng3F22psw5LLa/L3MZKh3udQvCYAwOHGA6YHsWHJ5XnnF1fnJZd9Of9w0Yze1Y1Zcsl7ctPq12fh9/4ir0rvzvo1380brr03H/u9ga9xqGxYcnneed85+erN78jM4sURcih3wRsaGtLY2FhcBgCgl3PWD+TfPpt3fnF13nDtvf1CPUlm5KKb780DfaFeJ79Zu7q4NOKGHOqP35HLzjs/r/+TO4a80z/k1wYAOEI1JElXV3du+9rSLPzrm/KTf/9Z8Z785N9/loV/fVNu+9o3ajq+8M/f+Hb++RvfLi4PsHnz1iy65cv55apfFy+9QBuz5EvfTeZelkuGu1PeO7/e9zHYHPuGJZcPHKs5+/IsWV+8a9/4zaf+beBrfupfbs8fn31urr47yeov5p2963+8ZGP1M3/8ucLYzuceHPDKQzHUmH5w4fl5/X//+zyfr8BQfw0AgCNRQ5Lc/8Mf55t33ZMVD6/M177+zeI9+drXv5kVD6/MN++6t6bHNx4zbWq+vvSu/QZ7X6hv3rw1L5334uLlF2b9A7lndfKSc84cxojJ3Kz70rk58wfn5IHv3ZsHvvflfGBucs81n82P+921b7RmVhZ+797e++7NwvNW56b3DBbsybovXd7vNe/Nx/7gHfmH792bheclmXtZvtq73rf7/+PPnZur7359v9f/cj7wn9cM+oeGA9nfmx0VnXH1Xfnu3Xflc+cWrxzcUH8NAIAjUanHYM589Rm59P3vGTTY+0I9Sf7i6j8dcG1ErPt1fpVk9qz+4y8Hszqz33dvHvjIGb0/n5GL3vf6JN/NPf1CeeZFX3jOCM2r/ttleUlW554Hnt0d7/OrnJOvVl/zYB7MPXcnOe+cfq+/b2xnuLP0tQjpWvwaAACj1b7TYF7zqrzl/HNz8knz84dvf0vxnvzh29+Sk0+an7ec/4ac9ZraTmkPFuyHPNSTbHjkkeLS8zP7xXlJknWPPDfCBzh+VmYn+dXadcUryW/PGsbu/uy8ZG6Su7806C79cNQipGvxawAAjFYNSdLY2JB3/eFbc/WffSCv/N2XF+/JK3/35bn6zz6Qd/3hBWlsrP1mfDHYD3WoJ8nMWbOKS4dA/yMhr8k9xcvPy4xcdPO1eUNW56b37H9mHgCA8qt9eT9P/YM9hzjUk2HsiD8f6/c9IHrm2ddk3WVf7p0rvzZvKN73vJ2Rj/V7zXuu2d8DrAAAlFlDkjy1c2f+pu3mXHX1x6sx3N/Xl96Vq67+eP6m7eY8tXNn8XLNnPnqM3LDdZ889KGefmMp9z0w5KMIh2Zjlnzii/lV9j0AOvBIyJHWG+1f3jcPf9P/Gd6JMJVKpbg04mrxawAAjFb7ToN54Cf52fKHsnnL1tx97w+K9+Tue3+QzVu25mfLH8r9D9TuNJjBTJs2pbh0iJyRSy6bm6z+Ym4e0TGSdfnV6uIDoC/A6l/nN8W1ouPPzBvmFhcPrhYhXYtfAwBgtGpIkmOOmVpd6P/jwdamTXvu9cPVzIu+kIXn7Rsj6X+G+b53MH2+oyV9D4De9+xxjutvzx8/j5n13zpx7nNOmukbsRkwp/5vt+Sm1ckbXjvUE2X2aWg49FNStfg1AABGq0pnZ2dPktz/w59k3SOP5azXvDKzZ50w4KZ1jzyW+3/4k8yedULOes0rB1w7Iqy/PX/8ni/mV/3X5l6Wr958ZrJ+RmYe3/umRdd8N2+4tnBEYu/n5rIv9xt5eTCf6h/nva/1g0vek5t++9p+Rz/23nde/7WB9p2p3vuTuZel7X2zcmzuyzuv+e6A+57z9zVEe/fuPfCJLY/fkcsGfUOkObn8/23LO48rrj+rUqlkzJgxxWUAAHpVYx0G093dfcjetbaxsdHOOgDAASglDqihoeGQBPWhel0AgMOJWuKgGhsbR/RB0EqlksbGxuIyAAAFYp0hGTNmzIgEuzl1AIChE+sM2ZgxY17Q6EpDQ4NQBwAYBg+YMmw9PT3p7u5Od3d38dKg+ubTR2JnHgDgSCLWed56enoGfPRXqVQGfAAAMHxiHQAASur5DyADAACHlFgHAICSEusAAFBSYh0AAEpKrAMAQEmJdQAAKCmxDgAAJSXWAQCgpMQ6AACUlFgHAICSEusAAFBSYh0AAEpKrAMAQEmJdQAAKCmxDgAAJVXp7OzsKS4+Hzt37szWrVvT0dFRvAQAMGq0tLRkypQpOeqoo4qXoOZGJNZ37tyZTZs25bjjjsuECRNSqVSKtwAAlF5PT0927NiRxx9/PNOnTxfs1N2IjMFs3bo1xx13XCZOnCjUAYBRq1KpZOLEiTnuuOOydevW4mWouRGJ9Y6OjkyYMKG4DAAwKk2YMMFoL6UwIrGe3j+JAgAcDnQNZTFisQ4AAIwssQ4AACUl1gEAoKTEOgAAlJRYBwCAkhLrAABQUmIdAABKSqwDAEBJiXUAACgpsQ4AACUl1gEAoKTEOgAAlJRYBwCAkhLrAABQUmIdAABKSqwDAEBJiXUAACgpsQ4AACUl1gEAoKTEOgAAlJRYBwCAkhLrAABQUmIdAABKSqwDAEBJiXUAACgpsQ4AACUl1gEAoKTEOgAAlJRYBwCAkhLrAABQUmIdAABKSqwDAEBJiXUAACgpsQ4AACUl1gEAoKTEOgAAlJRYBwCAkhLrAABQUmIdAABKSqwDAEBJiXWgLlauWpVz3/jmfOBP/2c6OjqKlwEAsQ4AAOUl1gEAoKTEOgAAlJRYB0rnU5/5bM549VnVjwd+9KMB1zdv2ZIL3/lH1esXvvOPsnnLlur1vnn4vuvm4gEYrcQ6UBp9Ef6tu74zYP1DV38kt/7jV5IkHR0d+fgnP53H1q+vXn9s/fpc9icLsnnLlmzesiXXfPQTeeqpp6rXf/qzn+dDH/6IYAdg1BHrQGnc9Z1/zWPr1+cVLz8t37/3X/Pgj+7P9Qs/lyS58xv/ks1btmTdI49k1a9+PeCev2v721z76U9k2tSp+eXKlXls/fq8+fw35sEf3Z8Hf3R/PvWJj+WTH/9oWlpair8kAJSaWAdKoaOjIz958N+TJBe96x3VsH7FaaflFS8/LY+tX59frlyZ2bNmZd5LXjxgt/y0U0/N/HnzkiQvnT8/Jxx/fL5113fyqc98Nkny+284N9OmTu33qwHA6CDWgVJ4+plnsnHjphx99NE5Ztq06npLS0umH3tskuQ3v1mXlpaWXH/d5/KKl5+Wn/7s53ndub8/YK592tSp+eLftVWD/YxXn5Vz3/jmrFy1qvqaADBaiHWgFMa3tmbGjOl56qmn8uTmzdX1jo6ObHriiSTJb/3W7KQ34G/6f/5mwJjM3/xtW/Uh02lTp+aOr/5THvzR/VlwxeV56qmncuNNf2dmHYBRR6wDpdDS0pJXnvG7SZIlt91eDeuf/vzn+enPfp4Tjj8+L50/P5u3bMnF77+kulPeNyazfceObN68OStXrcrF77+kGu7nv/H3c8Lxx2fjxk15+pln+v2KAFB+Yh2oi2nTpmXihAn56c9+ns//1Q1Jv7DuP97yoas/kiR521v/INOmTs1d3/nXapCf8eqz8rpzfz8//dnPM3HChEybNi1fvf2OrFy1Km++4O0549Vn5c0XvD2PrV+fGTOmZ3xra+HvAgDKTawDdTFt6tT8l1NOTpL8fw+tyOYtWzJt6tR8efEtecXLTxtw7/ULP5f3/td3J0ne+1/fncW33Jyjjz66ev2E44/PF/+uLdOmTs3H/vIvqqMxfV7x8tNy/XWfcxoMAKNOpbOzs6e4OFyrVq3KySfv+00XAOBwsGLFiszrPWkK6sXOOgAAlJRYBwCAkhLrAABQUmIdAABKSqwDAEBJiXUAACgpsQ4AACUl1gEAoKTEOgAAlJRYBwCAkhLrAABQUmIdAABKSqwDAEBJiXUAACgpsQ4AACUl1gEAoKTEOgAAlJRYBwCAkhLrAABQUmIdAABK6oiP9S1b2vPX96zLF+5fX7wEAAB1dcTHep+OPT3FJQAAqCux3kusAwBQNmK91zN7uotLAABQV2K91669dtYBACgXsd7rGWMwAACUjFjv9cxusQ4AQLmI9V521gEAKBux3qvDzDoAACUj1pM0Vhoc3QgAQOmI9SRjKt2ObgQAoHTEepKxYxqyuyvptrkOAECJiPUkjZV9f31mt911AADKQ6wnaer9pyDWAQAoE7HeOwaTJE+bWwcAoETEepIxDfuG1e2sAwBQJmI9ydiGfUPrT4t1AABKRKzbWQcAoKTEepIxDfv+MYh1AADKRKwnGdu3s+4BUwAASkSsJxlrZx0AgBIS60nG9L4rkgdMAQAoE7GeZGyjMRgAAMpHrCdprNhZBwCgfMR6kqYx+/5qZh0AgDIR60nG9O6si3UAAMpErCfpfb7UzDoAAKUi1pM0jbGzDgBA+Yj1JL2t7gFTAABKRawnqVSS5jEVO+sAAJSKWO/VPMbOOgAA5SLWe7WObcjurp5073t/JAAAqDux3qtl7L7B9Z2dXcVLAABQF2K9V2tvrDu+EQCAshDrvVqqxzeagwEAoBzEeq++MRgnwgAAUBZivVdrkzEYAADKRaz36ttZd3wjAABlIdZ7tY7Z94/CGAwAAGUh1nvZWQcAoGzEeq/q0Y1iHQCAkhDrvaqnwXjAFACAkhDrvRzdCABA2Yj1Xs++KZJYBwCgHMR6r+oDpsZgAAAoCbHeq3WsoxsBACgXsd6rbwzG0Y0AAJSFWO/l6EYAAMpGrPdyGgwAAGUj1vtpGdvgnHUAAEpDrPfT2tRgZx0AgNIQ6/2Mb2rI7q6edPcUrwAAQO2J9X76jm/c2dlVvAQAADUn1vtpbdr3j8PxjQAAlIFY72d8b6ybWwcAoAzEej/VnXUnwgAAUAJivZ++N0bqsLMOAEAJlCbWly69KwsWfLj6sWzZ8gHXly1bXr22cOGN6ejYNeD6SDCzDgBAmZQi1pcuvSsrV67O5z//ybS1XZeLL74od9757bS3b0uSrFmzNnfe+a1cddXlaWu7LpMmTcitt95WfJkXrDqzbgwGAIASKEWsX3DB+bn66ivT0tKcJJk798Q0N4/L1q3tSZKHH16Z2bNflDlzTkySnHPOWdm06clqzI+Uvp11D5gCAFAGpYj1ottv/0bGjRuX446bmY6OXVm5cnVmzDi2en3KlMlJUo35kdJ3zroxGAAAyqDS2dn5gt+vc9WqVTn55JOLy8PS0bErN954cx555LGcd97rcsEF5w9YP/vs1+T000/d79rBbN26vbiUJNmzZ3e6u3tSqVTyw0f35P9+4KlcdHJL/vupR1XvGT9+/IDPAQAOrZaWccWlmluxYkXmzZtXXIaaKk2s97d06V158MGf50Mf+kCam5ufE+bPJ9Z37NhZXEqS7Nq1K11d3WloaMjPNnXnY/e2560vHZ8Frzy6es/48S0DPgcAOLSampqKSzUn1imDUsZ6X4zPnz83F1xwfhYtWpwZM46t7ra3t29LW9vf593vvrA6x/58bdnSnt2796SpaWx+88y4XHb7o3nL70zIJ944s3grAHAEEeuUQSln1otmzDg2Gzc+Uf1536x63+z6SKk+YLrnBf/5BQAAXrBSxPqiRYuzaNHi6s9/8YtfZtOmJ3PSSfOTJCedND/r1j2aNWvWJknuu+/+TJ9+TCZPnlT9nJFQPbrRA6YAAJRAKcZg2tu35fbbv5GHHvqPJMm4ceNyxRXvGzDismzZ8ixevCRJMmvWCbnyykuqRz2+EP3HYHqaj84bv7gmp8xsyS1/NKt4KwBwBDEGQxmUItbrqX+st0yYmLNu/HXmTBuX2/7bbxVvBQCOIGKdMijFGExZ9J2zbgwGAIAyEOsFrWMbvCkSAAClINYLWpsasrOzq7gMAAA1J9YLWpsa0t2T7O56waP8AADwgoj1gr7jGzv2GIUBAKC+xHpB3xsjmVsHAKDexHrBeCfCAABQEmK9oMW7mAIAUBJivWB8UyUxBgMAQAmI9YLWsY2JnXUAAEpArBdUHzB1GgwAAHUm1guqRzfaWQcAoM7EeoGjGwEAKAuxXtC3s/6MMRgAAOpMrBe0jN13GowHTAEAqDexXtC3s24MBgCAehPrBX0z63bWAQCoN7Fe0DrWzjoAAOUg1gs8YAoAQFmI9YJnx2B6ipcAAKCmxHpBS+8YjJl1AADqTawPorWpQawDAFB3Yn0Q45sasnN3V3EZAABqSqwPonVsQ7p7kt17za0DAFA/Yn0Q1TdGciIMAAB1JNYH4Y2RAAAoA7E+CLEOAEAZiPVB9L2LqTdGAgCgnsT6IPp21p+2sw4AQB2J9UH0PWBqDAYAgHoS64Mwsw4AQBmI9UGM751ZNwYDAEA9ifVBVHfWPWAKAEAdifVBeMAUAIAyEOuD6Du6sUOsAwBQR2J9ENWddWMwAADUkVgfxPimSuI0GAAA6kysD8LRjQAAlIFYH0TfmyJ5wBQAgHoS64Owsw4AQBmI9UE0j2lIQ8UDpgAA1JdY34+WsQ2ObgQAoK7E+n6Mb2owsw4AQF2J9f1obWpId0/SubeneAkAAGpCrO9H9Y2R7K4DAFAnYn0/xo91IgwAAPUl1vejenyjE2EAAKgTsb4fxmAAAKg3sb4frcZgAACoM7G+H+ONwQAAUGdifT+qM+t21gEAqJPSxPrSpXdlwYIPZ8GCD+eaa65Ne/u2AdeXLVtevb5w4Y3p6Ng14PpIM7MOAEC9lSLWFy1anJUrV+fzn/9k2tquyxlnnJabb761GuRr1qzNnXd+K1dddXna2q7LpEkTcuuttxVfZkRVx2DEOgAAdVKKWL/00otz9dVXpqWlOUly0knzs3379jz++IYkycMPr8zs2S/KnDknJknOOeesbNr05HN230dSiwdMAQCos1LE+mCam5szZcrkdHTsysqVqzNjxrHVa1OmTE6SbN3a3u8zRlbfzroxGAAA6qXS2dnZU1wcrlWrVuXkk08uLj9vixYtzrZtO3LllZckSW688eacffZrcvrppyZJOjp2PWftYJ5+uqO4lCR5+uln0tXVlcbGhurOfpI8tHF3/se/PJlz57bmM2+aOeBzAIBDa8yYMcWlmluxYkXmzZtXXIaaKl2sL1u2PEuWfD1XXPG+zJlz4qBhPtjawTz55NbiUpKkq6srPT09qVQqqVQq1fX/bO/Kld/ellee0JTr3jxjwOcAAIfW+PEtxaWaE+uUQalifc2atfnf//tLee1rX5ULLji/ur5o0eLMmHFsda29fVva2v4+7373hdU59udry5b27N69J01NYzN16r7xmiR5bNuevO2W/8zpL2rN373jRQM+BwA4/Il1yqA0M+vt7dtyyy1fybx5cwaEepLMmHFsNm58ovrzvln1vtn1Q6F6dKM3RQIAoE5KEevt7dty/fU3ZeLECXnve99VvJyTTpqfdesezZo1a5Mk9913f6ZPPyaTJ08q3jpiHN0IAEC9lWIMZunSu3L33d8vLueUU34nl156cdI7y7548ZIkyaxZJ+TKKy8Z8EDo87W/MZgk+d0bVmXa+DH59qVzBqwDAIc/YzCUQSlivZ4OFOuvu+nX6elJfrDgxQPWAYDDn1inDEoxBlNWrU0N6TCzDgBAnYj1Axg/tiHdPRHsAADUhVg/gL4TYcQ6AAD1INYPoO9EmKedCAMAQB2I9QPo21l3fCMAAPUg1g+gdWzfzvoLPjAHAACGTawfgJ11AADqSawfQDXWPWAKAEAdiPUD8IApAAD1JNYPoG9mvUOsAwBQB2L9AKo768ZgAACoA7F+AC0eMAUAoI7E+gGMrx7dKNYBAKg9sX4Ajm4EAKCexPoBiHUAAOpJrB+AB0wBAKgnsX4AdtYBAKgnsX4AfQ+YinUAAOpBrB9A05hKGirJM8ZgAACoA7F+EOObGhzdCABAXYj1g2htajAGAwBAXYj1g+g7EcYoDAAAtSbWD8KJMAAA1ItYP4hWJ8IAAFAnYv0gqjvrxmAAAKgxsX4QxmAAAKgXsX4QfW+M5PhGAABqTawfhJ11AADqRawfRN/RjXbWAQCoNbF+EB4wBQCgXsT6QRiDAQCgXsT6QfSds24MBgCAWhPrB9G3s95hDAYAgBoT6wfx7AOmPcVLAABwSIn1g+gbgzGzDgBArYn1g3B0IwAA9SLWD8JpMAAA1ItYP4jqGIwHTAEAqDGxfhBNYyppqBiDAQCg9sT6EBzV1JgOsQ4AQI2J9SFobWowBgMAQM2J9SHwkCkAAPUg1odgfFMlcXwjAAA1JtaHoLWpMXEiDAAANSbWh6B1rJ11AABqT6wPgZl1AADqQawPwXixDgBAHYj1IajurJtZBwCghsT6ELSOtbMOAEDtifUh6BuD8YApAAC1JNaHwAOmAADUQ6lifc2atfngBz+WpUvvKl7KsmXLs2DBh7NgwYezcOGN6ejYVbzlkOkbg3nazDoAADVUmlhfuvSu3HDDF9LZ2Vm8lDVr1ubOO7+Vq666PG1t12XSpAm59dbbircdMnbWAQCoh9LE+gUXnJ/Pf/6TmTXrhOKlPPzwysye/aLMmXNikuScc87Kpk1Ppr19W/HWQ8LRjQAA1ENpYn1/Ojp2ZeXK1Zkx49jq2pQpk5MkW7e297vz0LGzDgBAPZQ+1vvMnDmj+uPm5uaMGzcuW7cOfWd9796uQT96enqSJD09Pc+51vfhnHUAAOqh0tnZua9WX4BVq1bl5JNPLi4PW0fHrtx4482ZP39uLrjg/AFrZ5/9mpx++qn7XTuYDRueKC4N2d7GcXn7lzdm7tQx+eLbnt3hBwBG3pgxjRk/vrW4XHMrVqzIvHnzistQU6WP9SRZtGhxZsw4trrW3r4tbW1/n3e/+8LqHPvBdHUNvive3r4te/bszdixYzJ58qTi5SRJVyr5vb/9VV40aWy+/v7fLl4GAA5DYp0yGBVjMDNmHJuNG5/dGe+bVe+bXR+KxsaGQT8qlUqSpFKpPOda30dTYyUNFW+KBABAbY2KWD/ppPlZt+7RrFmzNkly3333Z/r0Y/a7E34oHDWu0QOmAADUVCnGYNrbt+X662/K9u07BqxffPFF1Zn0ZcuWZ/HiJUmSWbNOyJVXXpKWluYB9z8fW7a0Z/fuPWlqGpupU/e/U/8Hf/+f2bBjT/79qnlp2LcZDwAcxozBUAaliPV6Gmqsv+v//CZrNnfm+x94cY4aNyr+hwQA8AKIdcpAdQ7R+LGObwQAoLbE+hB5YyQAAGpNrA9Ra9O+QXWxDgBArYj1IWrtHYNxfCMAALUi1oeotakxMbMOAEANifWqA5/HOL53DMbOOgAAtSLWh8gDpgAA1JpYH6LxYh0AgBoT60PU4px1AABqTKwPkZ11AABqTawPUd/MugdMAQCoFbFe1VNcGMADpgAA1JpYH6LxfW+KZGYdAIAaEetDZGcdAIBaE+tD5AFTAABqTawP0VHjGhNHNwIAUENifYgaKsnYxoqddQAAakasD0Pr2AZHNwIAUDNifRjGNzWkc29Pug98yiMAAIwIsT4M3hgJAIBaEuvD4PhGAABqSawPQ2vfGyOJdQAAakCsD4OddQAAakmsD0P1jZGctQ4AQA2I9WGwsw4AQC2J9WGo7qyLdQAAakCsD0P1AVNjMAAA1IBYHwZjMAAA1JJYH4bWpkri6EYAAGpErA9D3xiMnXUAAGpBrA+DoxsBAKglsV61b8TlQMysAwBQS2J9GBzdCABALYn1YejbWfeAKQAAtSDWh6H6gKmZdQAAakCsD8NR4xoTO+sAANSIWB+GhkrS1Fgxsw4AQE2I9WFqbWoQ6wAA1IRYH6bWpobs7upJd0/xCgAAjCyxPkx9xzfu7OwqXgKAUW3NmrX54Ac/lgULPpwFCz6chQtvTEfHriRJe/u2LFx4Y9rbtxU/DTiExPowOREGgMPRmjVrc8st/5grrnhf2tquS1vbdZk0aUJuvfW2JMnWre3p7OwsfhpwiIn1YfIupgAcjrZu3ZaJEyfmuONmVtcuvfTiXHrpxQPuA2pLrA+TN0YC4HA0ZcqkbNr0ZH7xi18WL2XZsuW54YYvZNOmJ/PRj34u11xzbXUcZunSu6pjM/3X29u35dOfvj733PP9AaM1y5YtL7w6cCCNH/3oRz9RXByuLVu2ZPr06cXlUaGjY1e6urrT2NiQ1taW4uXn+PHap7Pqyc6cN+/onDCpqXgZAEalKVMmZ8qUSVm8eEm+/e17s3fv3syb9+IkyfHHz8y8eXOzdu26/K//9T/y5jefl5aW5ixbtjz33Xd//vIv/ywXXvgHmTDh6Nxxxzdz2mn/JXv37s399/847e3b85GP/M+89a3n55hjpuXOO7+d0047JS0tzcW/hdJ54oknMm3atOIy1JSd9WGysw7A4er0009NW9t1ufjii3L33ft2xNesWVu8Lend7Pre936Yt73tTZk8eVKS5GUve2mam8fl8cc3VO87++zXVMN87twTkySrVw/+msBzifVh6ov1jj3ObgTg8NQX7fPmzckdd3yzeiJMf7t27cr27TuyePGS6ojLn//5x7Nu3WPFW6uam5szceKEbNiwsXgJ2A+xPkx9RzfaWQfgcHfqqadk+/Yd2bXrubHeF94XX3xR9fSYtrbr8ld/9anMmbNvB72oL/BnzpxRvATsh1gfJqfBAHC46ejYlYULbxxwrnrfmMvs2SdUx1x27dqVrVvbkyQtLc2ZP39u7rzz2wPOXl+//tkRmCRZvvyh6o9vv/0bmThxQl72spcOuAfYv0pnZ+cLnudYtWpVTj755OLyqLBlS3t2796TpqaxmTp1cvHyc3zrP3bk49/ZkPefMTVXvNpDJwAcPhYtWpyHHvqP6s9POeV3Bhzd2Hd93LhxueKK92XOnBOzbNnyLF68pHrPrFkn5MorL8muXbty/fU3ZfbsE6qvOXHihHzoQx+oxn/ZrVixIvPmzSsuQ02J9WHG+vdW78yfL12fd506OX9+9rHFy9TBpk2b09LSnAkTjipe4jD0zDMdeeqppzN9uj8sHyk2b96arq5uX/NRpr19W66//qa87W1vyumnn1q8fECbNm1Oc/O4TJx4dPFSTYl1ysAYzDD1zawbgymP7m5fiyONrzkc3vw3Ds8S68PUOtYDpgAA1IZYHyYPmALAwU2ePCnXXnvNsEdggIHE+jBVx2D2iHUAGGmPbtudniSbntpTvARHJLE+TC1jK4mddQAYcV/5eXvefsvadPckyx55Jh+449Hs7Owq3gZHFKfB9J4G09jYmNbWfW+HfDCvW/RYjh7XkAtfNr54KQ2VSsaNqaR5TEOaxyTjxjSkZWwl4xor2dPdk67uZG93T/Z2J3u6erK3uyddPcne7mRv9ef7rleSjGmopLFh31/3faT3o/fnjb33VPb99Uj0zDO7MnZsY8aOHVu8xGFo79692b17737/e+15wd/RKJvOzs709PSkuXnwrzmHh2d2d+W7q3cmSd71spb88sm9ue2XnXnTSyfm8t+rz0lAToOhDMT6lm3p6upKV9fQ/+T+8e/vjCkYADg0XvOiMWke05BbV3Rm1uSmLHrni4q31IRYpwyO+FhPkp07n85TTz1dXAYA6qAnyQ/W7c6SX3TmpJkt+eybjyveUhNinTIQ64x6GzY8kfHjW70p0hHimWc6sn37U5k505uSHSm8KdKR44o7Hs2j7XvyhTcdlR8/tjf/vGpP/vTMaXnlbz137LQWxDpl4AFTAKAUFr7luLzppfvetXRSS0MWvKZ+oQ5lIdYBgFI4alxj/uTVx6Shkpw+a3x+70ShDmIdAABKSqwDAEBJiXUAACgpsc6oN2HCUWls9K/ykcTJP0eWlpbmHHVUa3GZw9iECUdlzJjG4jIckRQOo9748a0ZP95v5EeK1tYWX+8jjP/Gjzy+5vAssQ4AACUl1gEAoKTEOgAAlJRYBwCAkhLrAABQUmIdAABKSqwDAEBJiXUAACgpsQ4AACVV6ezs7CkuDteqVaty8sknF5fhkFi0aHHWrXssH/rQBzJ58qTqenv7tlx//U3Zvn1Hxo0blyuueF/mzDlxwOcyuixdelfuvvv7SZKJEyc852u+bNnyLF68JEkya9YJufLKS9LS0ly9zujS0bErN954cx555LFkkK958frFF1+U008/dcBrMHoN9r293t/XV6xYkXnz5hWXoabsrDNqtLdvyzXXXJuHHvqP4qV0dOzKzTffmjPOOC1tbdfloovenltu+Ura27cVb2WUWLRocVauXJ3Pf/6TaWu7LmeccVpuvvnWdHTsSpKsWbM2d975rVx11eVpa7sukyZNyK233lZ8GUaJvhCfP39u2tquS1vbdZk9+4Tcfvs3qvfceuttmTRpQtrarstVV12eO+/8VtasWTvgdRidli1bnnXrHk1z87jqmu/rsI9YZ9SYPHlSrr32mlx88UXFS3n88Q3p7OzMmWe+Kknyspe9NBMnTsjq1X4jH60uvfTiXH31ldWd8pNOmp/t27fn8cc3JEkefnhlZs9+UXWX7ZxzzsqmTU/6jXyUamlpztVXX5kLLji/unbqqadk27Yd6ejYlfb2bdm06cmcc85ZSZI5c07M7NkvysMPr+z3KoxG7e3b8p3v3JfXve41A9Z9X4d9xDqHhYcfXplx48aluXlf2LW0NGfSpAnZsGFj8VZGsebm5kyZMjkdHbuycuXqzJhxbPXalCmTkyRbt7b3+wxGq/b2bbnzzm9n/vy5aWlpzurVa7NrV2f165wkM2Ycm40bnxjweYw+t9/+jUyffkx++7dnD1j3fR32EescNiZNmjBgXtlv5IeX++67f8Bv3Ekyc+aM6o+bm5szbty4bN1qZ300W7NmbT74wY/lM5/567z//e8esNM+ceKE53z9+3beGZ32jb88lne8463FS4nv65CIdWA0WLZseVatWpMLL3yLB0gPc3PmnJi/+qtP5TOf+Yvcccc3s2jR4uItHCb6xl/e//53D3hwHBhIrHNYGGyHbePGJwaMSTA6rVmzNkuWfD2vfe2rqvPpg/3v8F27dqWzszNTpvhN/3DQ0tKcCy98S9atezRr1qzNlCmT0tnZmV27nv1vfMOGjc/ZeWX0eOCBH2fTpidzww1fyIIFH84NN3whmzY9mY9+9HNZtmy57+vQS6xzWCj+Rt7RsSvbtu0YMCbB6NPevi233PKVzJs3Z8A4RAb53+F9s+r9Z5o5fAz2TIJwG90uuOD86sk/fSf8TJ9+TD796Y/k9NNP9X0deol1DgvHHTcz48aNywMP/DhJ8otf/DLbt+/I3Lm1O4+XkdV3vvLEiRPy3ve+q3g5J500v7rrmt6Z9unTj/G/00epvqNZly1bXl277777M3HixBx33MxMnjwp06cfk/vuuz/p/T8u69Y9mpNOmt/vVTic+L4O+3hTJEaN/m+Q06f/G+HU+80zGFmDfb2T5JRTfieXXnpx4k2RDivt7dvS0bErN930D9m+fUcyyNfUmyId3tasWZuvfOWOLFjwf3lTJOhHrAMADEKsUwbGYAAAoKTEOgAAlJRYBwCAkhLrAABQUmIdAABKSqwDAEBJiXUAACgpsQ4AACUl1gEAoKTEOgAAlJRYBwCAkhLrAABQUmIdAABKSqwDAEBJjVis9/T0FJcAAEYlXUNZjEist7S0ZMeOHcVlAIBRaceOHWlpaSkuQ82NSKxPmTIljz/+eLZv3+5PogDAqNXT05Pt27fn8ccfz5QpU4qXoeYqnZ2dI1LXO3fuzNatW9PR0VG8BAAwarS0tGTKlCk56qijipeg5kYs1gEAgJE1ImMwAADAyBPrAABQUmIdAABKSqwDAEBJiXUAACgpsQ4AACUl1gEAoKTEOgAAlJRYBwCAkhLrAABQUmIdAABKSqwDAEBJiXUAACgpsQ4AACUl1gEAoKTEOgAAlJRYBwCAkhLrAABQUmIdAABKSqwDAEBJiXUAACgpsQ4AACUl1gEAoKTEOgAAlJRYBwCAkhLrAABQUmIdAABKSqwDAEBJiXUAACipykMPPdRTXAQAAOrv/wdrmHgTBr31KQAAAABJRU5ErkJggg==)"
      ],
      "metadata": {
        "id": "l8XjI-oHjji0"
      }
    },
    {
      "cell_type": "markdown",
      "source": [
        "### Exercise"
      ],
      "metadata": {
        "id": "ffcDHEQMGBjU"
      }
    },
    {
      "cell_type": "code",
      "source": [
        "import pandas as pd\n",
        "import wandb"
      ],
      "metadata": {
        "id": "x2yWICc0BRa7"
      },
      "execution_count": null,
      "outputs": []
    },
    {
      "cell_type": "code",
      "source": [
        "# read csv file\n",
        "df = pd.read_csv('advertising.csv')\n",
        "# read head file\n",
        "df.head()"
      ],
      "metadata": {
        "colab": {
          "base_uri": "https://localhost:8080/",
          "height": 206
        },
        "id": "y0K_LS-kGQuq",
        "outputId": "70ee9990-8036-462c-8bcb-03350e4023d4"
      },
      "execution_count": null,
      "outputs": [
        {
          "output_type": "execute_result",
          "data": {
            "text/plain": [
              "      TV  Radio  Newspaper  Sales\n",
              "0  230.1   37.8       69.2   22.1\n",
              "1   44.5   39.3       45.1   10.4\n",
              "2   17.2   45.9       69.3   12.0\n",
              "3  151.5   41.3       58.5   16.5\n",
              "4  180.8   10.8       58.4   17.9"
            ],
            "text/html": [
              "\n",
              "  <div id=\"df-514b3232-a04c-461f-8330-fbe2ff313593\" class=\"colab-df-container\">\n",
              "    <div>\n",
              "<style scoped>\n",
              "    .dataframe tbody tr th:only-of-type {\n",
              "        vertical-align: middle;\n",
              "    }\n",
              "\n",
              "    .dataframe tbody tr th {\n",
              "        vertical-align: top;\n",
              "    }\n",
              "\n",
              "    .dataframe thead th {\n",
              "        text-align: right;\n",
              "    }\n",
              "</style>\n",
              "<table border=\"1\" class=\"dataframe\">\n",
              "  <thead>\n",
              "    <tr style=\"text-align: right;\">\n",
              "      <th></th>\n",
              "      <th>TV</th>\n",
              "      <th>Radio</th>\n",
              "      <th>Newspaper</th>\n",
              "      <th>Sales</th>\n",
              "    </tr>\n",
              "  </thead>\n",
              "  <tbody>\n",
              "    <tr>\n",
              "      <th>0</th>\n",
              "      <td>230.1</td>\n",
              "      <td>37.8</td>\n",
              "      <td>69.2</td>\n",
              "      <td>22.1</td>\n",
              "    </tr>\n",
              "    <tr>\n",
              "      <th>1</th>\n",
              "      <td>44.5</td>\n",
              "      <td>39.3</td>\n",
              "      <td>45.1</td>\n",
              "      <td>10.4</td>\n",
              "    </tr>\n",
              "    <tr>\n",
              "      <th>2</th>\n",
              "      <td>17.2</td>\n",
              "      <td>45.9</td>\n",
              "      <td>69.3</td>\n",
              "      <td>12.0</td>\n",
              "    </tr>\n",
              "    <tr>\n",
              "      <th>3</th>\n",
              "      <td>151.5</td>\n",
              "      <td>41.3</td>\n",
              "      <td>58.5</td>\n",
              "      <td>16.5</td>\n",
              "    </tr>\n",
              "    <tr>\n",
              "      <th>4</th>\n",
              "      <td>180.8</td>\n",
              "      <td>10.8</td>\n",
              "      <td>58.4</td>\n",
              "      <td>17.9</td>\n",
              "    </tr>\n",
              "  </tbody>\n",
              "</table>\n",
              "</div>\n",
              "    <div class=\"colab-df-buttons\">\n",
              "\n",
              "  <div class=\"colab-df-container\">\n",
              "    <button class=\"colab-df-convert\" onclick=\"convertToInteractive('df-514b3232-a04c-461f-8330-fbe2ff313593')\"\n",
              "            title=\"Convert this dataframe to an interactive table.\"\n",
              "            style=\"display:none;\">\n",
              "\n",
              "  <svg xmlns=\"http://www.w3.org/2000/svg\" height=\"24px\" viewBox=\"0 -960 960 960\">\n",
              "    <path d=\"M120-120v-720h720v720H120Zm60-500h600v-160H180v160Zm220 220h160v-160H400v160Zm0 220h160v-160H400v160ZM180-400h160v-160H180v160Zm440 0h160v-160H620v160ZM180-180h160v-160H180v160Zm440 0h160v-160H620v160Z\"/>\n",
              "  </svg>\n",
              "    </button>\n",
              "\n",
              "  <style>\n",
              "    .colab-df-container {\n",
              "      display:flex;\n",
              "      gap: 12px;\n",
              "    }\n",
              "\n",
              "    .colab-df-convert {\n",
              "      background-color: #E8F0FE;\n",
              "      border: none;\n",
              "      border-radius: 50%;\n",
              "      cursor: pointer;\n",
              "      display: none;\n",
              "      fill: #1967D2;\n",
              "      height: 32px;\n",
              "      padding: 0 0 0 0;\n",
              "      width: 32px;\n",
              "    }\n",
              "\n",
              "    .colab-df-convert:hover {\n",
              "      background-color: #E2EBFA;\n",
              "      box-shadow: 0px 1px 2px rgba(60, 64, 67, 0.3), 0px 1px 3px 1px rgba(60, 64, 67, 0.15);\n",
              "      fill: #174EA6;\n",
              "    }\n",
              "\n",
              "    .colab-df-buttons div {\n",
              "      margin-bottom: 4px;\n",
              "    }\n",
              "\n",
              "    [theme=dark] .colab-df-convert {\n",
              "      background-color: #3B4455;\n",
              "      fill: #D2E3FC;\n",
              "    }\n",
              "\n",
              "    [theme=dark] .colab-df-convert:hover {\n",
              "      background-color: #434B5C;\n",
              "      box-shadow: 0px 1px 3px 1px rgba(0, 0, 0, 0.15);\n",
              "      filter: drop-shadow(0px 1px 2px rgba(0, 0, 0, 0.3));\n",
              "      fill: #FFFFFF;\n",
              "    }\n",
              "  </style>\n",
              "\n",
              "    <script>\n",
              "      const buttonEl =\n",
              "        document.querySelector('#df-514b3232-a04c-461f-8330-fbe2ff313593 button.colab-df-convert');\n",
              "      buttonEl.style.display =\n",
              "        google.colab.kernel.accessAllowed ? 'block' : 'none';\n",
              "\n",
              "      async function convertToInteractive(key) {\n",
              "        const element = document.querySelector('#df-514b3232-a04c-461f-8330-fbe2ff313593');\n",
              "        const dataTable =\n",
              "          await google.colab.kernel.invokeFunction('convertToInteractive',\n",
              "                                                    [key], {});\n",
              "        if (!dataTable) return;\n",
              "\n",
              "        const docLinkHtml = 'Like what you see? Visit the ' +\n",
              "          '<a target=\"_blank\" href=https://colab.research.google.com/notebooks/data_table.ipynb>data table notebook</a>'\n",
              "          + ' to learn more about interactive tables.';\n",
              "        element.innerHTML = '';\n",
              "        dataTable['output_type'] = 'display_data';\n",
              "        await google.colab.output.renderOutput(dataTable, element);\n",
              "        const docLink = document.createElement('div');\n",
              "        docLink.innerHTML = docLinkHtml;\n",
              "        element.appendChild(docLink);\n",
              "      }\n",
              "    </script>\n",
              "  </div>\n",
              "\n",
              "\n",
              "<div id=\"df-97956117-85c8-4b6c-a7ba-2d8492c0c97d\">\n",
              "  <button class=\"colab-df-quickchart\" onclick=\"quickchart('df-97956117-85c8-4b6c-a7ba-2d8492c0c97d')\"\n",
              "            title=\"Suggest charts\"\n",
              "            style=\"display:none;\">\n",
              "\n",
              "<svg xmlns=\"http://www.w3.org/2000/svg\" height=\"24px\"viewBox=\"0 0 24 24\"\n",
              "     width=\"24px\">\n",
              "    <g>\n",
              "        <path d=\"M19 3H5c-1.1 0-2 .9-2 2v14c0 1.1.9 2 2 2h14c1.1 0 2-.9 2-2V5c0-1.1-.9-2-2-2zM9 17H7v-7h2v7zm4 0h-2V7h2v10zm4 0h-2v-4h2v4z\"/>\n",
              "    </g>\n",
              "</svg>\n",
              "  </button>\n",
              "\n",
              "<style>\n",
              "  .colab-df-quickchart {\n",
              "      --bg-color: #E8F0FE;\n",
              "      --fill-color: #1967D2;\n",
              "      --hover-bg-color: #E2EBFA;\n",
              "      --hover-fill-color: #174EA6;\n",
              "      --disabled-fill-color: #AAA;\n",
              "      --disabled-bg-color: #DDD;\n",
              "  }\n",
              "\n",
              "  [theme=dark] .colab-df-quickchart {\n",
              "      --bg-color: #3B4455;\n",
              "      --fill-color: #D2E3FC;\n",
              "      --hover-bg-color: #434B5C;\n",
              "      --hover-fill-color: #FFFFFF;\n",
              "      --disabled-bg-color: #3B4455;\n",
              "      --disabled-fill-color: #666;\n",
              "  }\n",
              "\n",
              "  .colab-df-quickchart {\n",
              "    background-color: var(--bg-color);\n",
              "    border: none;\n",
              "    border-radius: 50%;\n",
              "    cursor: pointer;\n",
              "    display: none;\n",
              "    fill: var(--fill-color);\n",
              "    height: 32px;\n",
              "    padding: 0;\n",
              "    width: 32px;\n",
              "  }\n",
              "\n",
              "  .colab-df-quickchart:hover {\n",
              "    background-color: var(--hover-bg-color);\n",
              "    box-shadow: 0 1px 2px rgba(60, 64, 67, 0.3), 0 1px 3px 1px rgba(60, 64, 67, 0.15);\n",
              "    fill: var(--button-hover-fill-color);\n",
              "  }\n",
              "\n",
              "  .colab-df-quickchart-complete:disabled,\n",
              "  .colab-df-quickchart-complete:disabled:hover {\n",
              "    background-color: var(--disabled-bg-color);\n",
              "    fill: var(--disabled-fill-color);\n",
              "    box-shadow: none;\n",
              "  }\n",
              "\n",
              "  .colab-df-spinner {\n",
              "    border: 2px solid var(--fill-color);\n",
              "    border-color: transparent;\n",
              "    border-bottom-color: var(--fill-color);\n",
              "    animation:\n",
              "      spin 1s steps(1) infinite;\n",
              "  }\n",
              "\n",
              "  @keyframes spin {\n",
              "    0% {\n",
              "      border-color: transparent;\n",
              "      border-bottom-color: var(--fill-color);\n",
              "      border-left-color: var(--fill-color);\n",
              "    }\n",
              "    20% {\n",
              "      border-color: transparent;\n",
              "      border-left-color: var(--fill-color);\n",
              "      border-top-color: var(--fill-color);\n",
              "    }\n",
              "    30% {\n",
              "      border-color: transparent;\n",
              "      border-left-color: var(--fill-color);\n",
              "      border-top-color: var(--fill-color);\n",
              "      border-right-color: var(--fill-color);\n",
              "    }\n",
              "    40% {\n",
              "      border-color: transparent;\n",
              "      border-right-color: var(--fill-color);\n",
              "      border-top-color: var(--fill-color);\n",
              "    }\n",
              "    60% {\n",
              "      border-color: transparent;\n",
              "      border-right-color: var(--fill-color);\n",
              "    }\n",
              "    80% {\n",
              "      border-color: transparent;\n",
              "      border-right-color: var(--fill-color);\n",
              "      border-bottom-color: var(--fill-color);\n",
              "    }\n",
              "    90% {\n",
              "      border-color: transparent;\n",
              "      border-bottom-color: var(--fill-color);\n",
              "    }\n",
              "  }\n",
              "</style>\n",
              "\n",
              "  <script>\n",
              "    async function quickchart(key) {\n",
              "      const quickchartButtonEl =\n",
              "        document.querySelector('#' + key + ' button');\n",
              "      quickchartButtonEl.disabled = true;  // To prevent multiple clicks.\n",
              "      quickchartButtonEl.classList.add('colab-df-spinner');\n",
              "      try {\n",
              "        const charts = await google.colab.kernel.invokeFunction(\n",
              "            'suggestCharts', [key], {});\n",
              "      } catch (error) {\n",
              "        console.error('Error during call to suggestCharts:', error);\n",
              "      }\n",
              "      quickchartButtonEl.classList.remove('colab-df-spinner');\n",
              "      quickchartButtonEl.classList.add('colab-df-quickchart-complete');\n",
              "    }\n",
              "    (() => {\n",
              "      let quickchartButtonEl =\n",
              "        document.querySelector('#df-97956117-85c8-4b6c-a7ba-2d8492c0c97d button');\n",
              "      quickchartButtonEl.style.display =\n",
              "        google.colab.kernel.accessAllowed ? 'block' : 'none';\n",
              "    })();\n",
              "  </script>\n",
              "</div>\n",
              "\n",
              "    </div>\n",
              "  </div>\n"
            ],
            "application/vnd.google.colaboratory.intrinsic+json": {
              "type": "dataframe",
              "variable_name": "df",
              "summary": "{\n  \"name\": \"df\",\n  \"rows\": 200,\n  \"fields\": [\n    {\n      \"column\": \"TV\",\n      \"properties\": {\n        \"dtype\": \"number\",\n        \"std\": 85.8542363149081,\n        \"min\": 0.7,\n        \"max\": 296.4,\n        \"num_unique_values\": 190,\n        \"samples\": [\n          287.6,\n          286.0,\n          78.2\n        ],\n        \"semantic_type\": \"\",\n        \"description\": \"\"\n      }\n    },\n    {\n      \"column\": \"Radio\",\n      \"properties\": {\n        \"dtype\": \"number\",\n        \"std\": 14.846809176168723,\n        \"min\": 0.0,\n        \"max\": 49.6,\n        \"num_unique_values\": 167,\n        \"samples\": [\n          8.2,\n          36.9,\n          44.5\n        ],\n        \"semantic_type\": \"\",\n        \"description\": \"\"\n      }\n    },\n    {\n      \"column\": \"Newspaper\",\n      \"properties\": {\n        \"dtype\": \"number\",\n        \"std\": 21.778620838522833,\n        \"min\": 0.3,\n        \"max\": 114.0,\n        \"num_unique_values\": 172,\n        \"samples\": [\n          22.3,\n          5.7,\n          17.0\n        ],\n        \"semantic_type\": \"\",\n        \"description\": \"\"\n      }\n    },\n    {\n      \"column\": \"Sales\",\n      \"properties\": {\n        \"dtype\": \"number\",\n        \"std\": 5.283892252561874,\n        \"min\": 1.6,\n        \"max\": 27.0,\n        \"num_unique_values\": 121,\n        \"samples\": [\n          19.8,\n          22.6,\n          17.9\n        ],\n        \"semantic_type\": \"\",\n        \"description\": \"\"\n      }\n    }\n  ]\n}"
            }
          },
          "metadata": {},
          "execution_count": 114
        }
      ]
    },
    {
      "cell_type": "code",
      "source": [
        "#1) Preprocess data\n",
        "#   - Input features: tv, radio, newspaper\n",
        "#   - Output feature(Label): sales\n",
        "# Get data to use for training: get input features and output feature\n",
        "def get_column(table, column_index):\n",
        "  col_data =  np.array(table.iloc[:, column_index])\n",
        "  return col_data\n",
        "\n",
        "def normalize_data(col_data):\n",
        "  data_norm =(col_data - np.min(col_data)) / (np.max(col_data) - np.min(col_data))\n",
        "  return data_norm"
      ],
      "metadata": {
        "id": "TaofwWLaHFcX"
      },
      "execution_count": null,
      "outputs": []
    },
    {
      "cell_type": "code",
      "source": [
        "first_column = df.iloc[:,0]\n",
        "first_column"
      ],
      "metadata": {
        "colab": {
          "base_uri": "https://localhost:8080/",
          "height": 458
        },
        "id": "vTEZdCR3WioI",
        "outputId": "c6e5a4c9-f17a-4772-d4fa-f35ad3d536ab"
      },
      "execution_count": null,
      "outputs": [
        {
          "output_type": "execute_result",
          "data": {
            "text/plain": [
              "0      230.1\n",
              "1       44.5\n",
              "2       17.2\n",
              "3      151.5\n",
              "4      180.8\n",
              "       ...  \n",
              "195     38.2\n",
              "196     94.2\n",
              "197    177.0\n",
              "198    283.6\n",
              "199    232.1\n",
              "Name: TV, Length: 200, dtype: float64"
            ],
            "text/html": [
              "<div>\n",
              "<style scoped>\n",
              "    .dataframe tbody tr th:only-of-type {\n",
              "        vertical-align: middle;\n",
              "    }\n",
              "\n",
              "    .dataframe tbody tr th {\n",
              "        vertical-align: top;\n",
              "    }\n",
              "\n",
              "    .dataframe thead th {\n",
              "        text-align: right;\n",
              "    }\n",
              "</style>\n",
              "<table border=\"1\" class=\"dataframe\">\n",
              "  <thead>\n",
              "    <tr style=\"text-align: right;\">\n",
              "      <th></th>\n",
              "      <th>TV</th>\n",
              "    </tr>\n",
              "  </thead>\n",
              "  <tbody>\n",
              "    <tr>\n",
              "      <th>0</th>\n",
              "      <td>230.1</td>\n",
              "    </tr>\n",
              "    <tr>\n",
              "      <th>1</th>\n",
              "      <td>44.5</td>\n",
              "    </tr>\n",
              "    <tr>\n",
              "      <th>2</th>\n",
              "      <td>17.2</td>\n",
              "    </tr>\n",
              "    <tr>\n",
              "      <th>3</th>\n",
              "      <td>151.5</td>\n",
              "    </tr>\n",
              "    <tr>\n",
              "      <th>4</th>\n",
              "      <td>180.8</td>\n",
              "    </tr>\n",
              "    <tr>\n",
              "      <th>...</th>\n",
              "      <td>...</td>\n",
              "    </tr>\n",
              "    <tr>\n",
              "      <th>195</th>\n",
              "      <td>38.2</td>\n",
              "    </tr>\n",
              "    <tr>\n",
              "      <th>196</th>\n",
              "      <td>94.2</td>\n",
              "    </tr>\n",
              "    <tr>\n",
              "      <th>197</th>\n",
              "      <td>177.0</td>\n",
              "    </tr>\n",
              "    <tr>\n",
              "      <th>198</th>\n",
              "      <td>283.6</td>\n",
              "    </tr>\n",
              "    <tr>\n",
              "      <th>199</th>\n",
              "      <td>232.1</td>\n",
              "    </tr>\n",
              "  </tbody>\n",
              "</table>\n",
              "<p>200 rows × 1 columns</p>\n",
              "</div><br><label><b>dtype:</b> float64</label>"
            ]
          },
          "metadata": {},
          "execution_count": 91
        }
      ]
    },
    {
      "cell_type": "code",
      "source": [
        "tv_data = np.array(first_column)\n",
        "print(tv_data)"
      ],
      "metadata": {
        "colab": {
          "base_uri": "https://localhost:8080/"
        },
        "id": "9LDDHlxZIMv1",
        "outputId": "c0603fba-c367-48a3-d011-686e3522b8e8"
      },
      "execution_count": null,
      "outputs": [
        {
          "output_type": "stream",
          "name": "stdout",
          "text": [
            "[230.1  44.5  17.2 151.5 180.8   8.7  57.5 120.2   8.6 199.8  66.1 214.7\n",
            "  23.8  97.5 204.1 195.4  67.8 281.4  69.2 147.3 218.4 237.4  13.2 228.3\n",
            "  62.3 262.9 142.9 240.1 248.8  70.6 292.9 112.9  97.2 265.6  95.7 290.7\n",
            " 266.9  74.7  43.1 228.  202.5 177.  293.6 206.9  25.1 175.1  89.7 239.9\n",
            " 227.2  66.9 199.8 100.4 216.4 182.6 262.7 198.9   7.3 136.2 210.8 210.7\n",
            "  53.5 261.3 239.3 102.7 131.1  69.   31.5 139.3 237.4 216.8 199.1 109.8\n",
            "  26.8 129.4 213.4  16.9  27.5 120.5   5.4 116.   76.4 239.8  75.3  68.4\n",
            " 213.5 193.2  76.3 110.7  88.3 109.8 134.3  28.6 217.7 250.9 107.4 163.3\n",
            " 197.6 184.9 289.7 135.2 222.4 296.4 280.2 187.9 238.2 137.9  25.   90.4\n",
            "  13.1 255.4 225.8 241.7 175.7 209.6  78.2  75.1 139.2  76.4 125.7  19.4\n",
            " 141.3  18.8 224.  123.1 229.5  87.2   7.8  80.2 220.3  59.6   0.7 265.2\n",
            "   8.4 219.8  36.9  48.3  25.6 273.7  43.  184.9  73.4 193.7 220.5 104.6\n",
            "  96.2 140.3 240.1 243.2  38.   44.7 280.7 121.  197.6 171.3 187.8   4.1\n",
            "  93.9 149.8  11.7 131.7 172.5  85.7 188.4 163.5 117.2 234.5  17.9 206.8\n",
            " 215.4 284.3  50.  164.5  19.6 168.4 222.4 276.9 248.4 170.2 276.7 165.6\n",
            " 156.6 218.5  56.2 287.6 253.8 205.  139.5 191.1 286.   18.7  39.5  75.5\n",
            "  17.2 166.8 149.7  38.2  94.2 177.  283.6 232.1]\n"
          ]
        }
      ]
    },
    {
      "cell_type": "code",
      "source": [
        "# after normalize\n",
        "tv_norm = (tv_data - np.min(tv_data)) / (np.max(tv_data) - np.min(tv_data))\n",
        "print(tv_norm)"
      ],
      "metadata": {
        "colab": {
          "base_uri": "https://localhost:8080/"
        },
        "id": "PqzH7SKmbDaj",
        "outputId": "91500a26-46fc-4bdf-b053-f8f5ae0654a4"
      },
      "execution_count": null,
      "outputs": [
        {
          "output_type": "stream",
          "name": "stdout",
          "text": [
            "[0.77578627 0.1481231  0.0557998  0.50997633 0.60906324 0.02705445\n",
            " 0.19208657 0.4041258  0.02671627 0.67331755 0.2211701  0.72370646\n",
            " 0.07811972 0.32735881 0.68785932 0.65843761 0.22691917 0.94927291\n",
            " 0.2316537  0.49577274 0.73621914 0.80047345 0.04227257 0.76969902\n",
            " 0.20831924 0.8867095  0.4808928  0.80960433 0.83902604 0.23638823\n",
            " 0.98816368 0.37943862 0.32634427 0.89584038 0.32127156 0.98072371\n",
            " 0.90023673 0.25025364 0.14338857 0.76868448 0.68244843 0.59621238\n",
            " 0.99053094 0.69732837 0.08251606 0.58978695 0.30098072 0.80892797\n",
            " 0.76597903 0.22387555 0.67331755 0.33716605 0.72945553 0.61515049\n",
            " 0.88603314 0.67027393 0.02231992 0.4582347  0.71051742 0.71017924\n",
            " 0.17855935 0.88129861 0.80689888 0.3449442  0.44098749 0.23097734\n",
            " 0.10415962 0.4687183  0.80047345 0.73080825 0.67095029 0.36895502\n",
            " 0.08826513 0.43523842 0.71931011 0.05478526 0.0906324  0.40514034\n",
            " 0.01589449 0.38992222 0.25600271 0.80858979 0.25228272 0.22894826\n",
            " 0.71964829 0.65099763 0.25566452 0.37199865 0.2962462  0.36895502\n",
            " 0.45180927 0.09435238 0.73385188 0.84612783 0.36083869 0.54988164\n",
            " 0.66587758 0.62292864 0.9773419  0.45485289 0.74974636 1.\n",
            " 0.94521474 0.63307406 0.8031789  0.46398377 0.08217788 0.30334799\n",
            " 0.04193439 0.86134596 0.7612445  0.81501522 0.59181603 0.70645925\n",
            " 0.26208996 0.25160636 0.46838011 0.25600271 0.42272574 0.06323977\n",
            " 0.47548191 0.06121069 0.75515725 0.41393304 0.77375719 0.29252621\n",
            " 0.02401082 0.26885357 0.74264457 0.19918837 0.         0.89448766\n",
            " 0.02603991 0.74095367 0.12242137 0.16097396 0.08420697 0.92323301\n",
            " 0.14305039 0.62292864 0.24585729 0.65268854 0.74332093 0.35136963\n",
            " 0.32296246 0.4721001  0.80960433 0.82008793 0.12614136 0.14879946\n",
            " 0.94690565 0.40683125 0.66587758 0.57693608 0.63273588 0.01149814\n",
            " 0.31518431 0.50422726 0.03719986 0.44301657 0.58099425 0.2874535\n",
            " 0.63476496 0.550558   0.39398039 0.79066622 0.05816706 0.69699019\n",
            " 0.72607372 0.95908015 0.16672303 0.5539398  0.06391613 0.56712885\n",
            " 0.74974636 0.93405479 0.83767332 0.5732161  0.93337842 0.55765979\n",
            " 0.52722354 0.73655732 0.18769023 0.97024011 0.85593507 0.69090294\n",
            " 0.46939466 0.64389584 0.96482922 0.06087251 0.13121407 0.25295908\n",
            " 0.0557998  0.56171796 0.50388908 0.12681772 0.31619885 0.59621238\n",
            " 0.95671288 0.78254988]\n"
          ]
        }
      ]
    },
    {
      "cell_type": "code",
      "source": [
        "tv = get_column(df, 0)\n",
        "radio = get_column(df, 1)\n",
        "newspaper = get_column(df, 2)\n",
        "\n",
        "sales = get_column(df, 3)\n",
        "\n",
        "dataset_adsvertise = pd.DataFrame(\n",
        "    {\n",
        "        'tv' : tv,\n",
        "        'radio' : radio,\n",
        "        'newspaper' : newspaper,\n",
        "        'sales' : sales\n",
        "    }\n",
        ")"
      ],
      "metadata": {
        "id": "fdiGVDANJyOp"
      },
      "execution_count": null,
      "outputs": []
    },
    {
      "cell_type": "code",
      "source": [
        "# Build functions\n",
        "def predict_output(x1, x2, x3, w1, w2, w3, b):\n",
        "  return x1 * w1 + x2 * w2 + x3 * w3 + b\n",
        "\n",
        "def compute_loss(y_hat, y):\n",
        "  return (y_hat - y) ** 2\n",
        "\n",
        "def compute_gradient(x1, x2, x3, y, y_hat):\n",
        "  dw1 = 2 * x1 * (y_hat - y)\n",
        "  dw2 = 2 * x2 * (y_hat - y)\n",
        "  dw3 = 2 * x3 * (y_hat - y)\n",
        "  db = 2 * (y_hat - y)\n",
        "  return dw1, dw2, dw3, db\n",
        "\n",
        "def update_weights(w1, w2, w3, b, dw1, dw2, dw3, db, lr):\n",
        "  w1 -= lr * dw1\n",
        "  w2 -= lr * dw2\n",
        "  w3 -= lr * dw3\n",
        "  b -= lr * db\n",
        "  return w1, w2, w3, b"
      ],
      "metadata": {
        "id": "dQWXGeP6KO_g"
      },
      "execution_count": null,
      "outputs": []
    },
    {
      "cell_type": "code",
      "source": [
        "# Init model:\n",
        "lr = 1e-5\n",
        "epochs = 1000\n",
        "\n",
        "# init project wandb\n",
        "wandb.init(\n",
        "  # Set the project where this run will be logged\n",
        "  project=\"adsvertise-linear-regression\",\n",
        "  config={\n",
        "      \"learning_rate\": lr,\n",
        "      \"epochs\": epochs,\n",
        "  },\n",
        ")\n"
      ],
      "metadata": {
        "colab": {
          "base_uri": "https://localhost:8080/"
        },
        "id": "ixoXLa-tQA9c",
        "outputId": "8a8994c6-da00-4bb3-cd7f-e36ea7c17b60"
      },
      "execution_count": null,
      "outputs": [
        {
          "output_type": "display_data",
          "data": {
            "text/plain": [
              "<IPython.core.display.HTML object>"
            ],
            "text/html": [
              "Tracking run with wandb version 0.19.6"
            ]
          },
          "metadata": {}
        },
        {
          "output_type": "display_data",
          "data": {
            "text/plain": [
              "<IPython.core.display.HTML object>"
            ],
            "text/html": [
              "Run data is saved locally in <code>/content/wandb/run-20250223_105952-hdq2ypxi</code>"
            ]
          },
          "metadata": {}
        },
        {
          "output_type": "display_data",
          "data": {
            "text/plain": [
              "<IPython.core.display.HTML object>"
            ],
            "text/html": [
              "Syncing run <strong><a href='https://wandb.ai/lethidiemmy961996-aivietnam-edu-vn/adsvertise-linear-regression/runs/hdq2ypxi' target=\"_blank\">whole-yogurt-9</a></strong> to <a href='https://wandb.ai/lethidiemmy961996-aivietnam-edu-vn/adsvertise-linear-regression' target=\"_blank\">Weights & Biases</a> (<a href='https://wandb.me/developer-guide' target=\"_blank\">docs</a>)<br>"
            ]
          },
          "metadata": {}
        },
        {
          "output_type": "display_data",
          "data": {
            "text/plain": [
              "<IPython.core.display.HTML object>"
            ],
            "text/html": [
              " View project at <a href='https://wandb.ai/lethidiemmy961996-aivietnam-edu-vn/adsvertise-linear-regression' target=\"_blank\">https://wandb.ai/lethidiemmy961996-aivietnam-edu-vn/adsvertise-linear-regression</a>"
            ]
          },
          "metadata": {}
        },
        {
          "output_type": "display_data",
          "data": {
            "text/plain": [
              "<IPython.core.display.HTML object>"
            ],
            "text/html": [
              " View run at <a href='https://wandb.ai/lethidiemmy961996-aivietnam-edu-vn/adsvertise-linear-regression/runs/hdq2ypxi' target=\"_blank\">https://wandb.ai/lethidiemmy961996-aivietnam-edu-vn/adsvertise-linear-regression/runs/hdq2ypxi</a>"
            ]
          },
          "metadata": {}
        },
        {
          "output_type": "execute_result",
          "data": {
            "text/html": [
              "<button onClick=\"this.nextSibling.style.display='block';this.style.display='none';\">Display W&B run</button><iframe src='https://wandb.ai/lethidiemmy961996-aivietnam-edu-vn/adsvertise-linear-regression/runs/hdq2ypxi?jupyter=true' style='border:none;width:100%;height:420px;display:none;'></iframe>"
            ],
            "text/plain": [
              "<wandb.sdk.wandb_run.Run at 0x7c43c45561d0>"
            ]
          },
          "metadata": {},
          "execution_count": 120
        }
      ]
    },
    {
      "cell_type": "code",
      "source": [
        "# Normalize data\n",
        "X1 = normalize_data(tv)\n",
        "X2 = normalize_data(radio)\n",
        "X3 = normalize_data(newspaper)\n",
        "Y = normalize_data(sales)"
      ],
      "metadata": {
        "id": "_YFdk8kDckVl"
      },
      "execution_count": null,
      "outputs": []
    },
    {
      "cell_type": "code",
      "source": [
        "# Training stage\n",
        "wandb.run.log({\"Dataset\": wandb.Table(dataframe=dataset_adsvertise)})\n",
        "N = len(tv) # all features have the same length\n",
        "print(f\"len = {N}\")\n",
        "losses = []\n",
        "# init weights\n",
        "b = 1\n",
        "w1 = w2 = w3 = 0\n",
        "\n",
        "for epoch in range(epochs):\n",
        "  for i in range(N):\n",
        "    # get feature for each row and predict each label corresponding\n",
        "    x1 = X1[i]\n",
        "    x2 = X2[i]\n",
        "    x3 = X3[i]\n",
        "\n",
        "    y = Y[i]\n",
        "\n",
        "    y_hat = predict_output(x1, x2, x3, w1, w2, w3, b)\n",
        "\n",
        "    loss = compute_loss(y_hat, y)\n",
        "    losses.append(loss)\n",
        "    wandb.log({\"Loss\": loss})\n",
        "\n",
        "    dw1, dw2, dw3, db = compute_gradient(x1, x2, x3, y, y_hat)\n",
        "    w1, w2, w3, b = update_weights(w1, w2, w3, b, dw1, dw2, dw3, db, lr)\n",
        "\n",
        "# Mark a run as finished, and finish uploading all data\n",
        "wandb.finish()"
      ],
      "metadata": {
        "colab": {
          "base_uri": "https://localhost:8080/",
          "height": 371
        },
        "id": "V7AWwziFRcdC",
        "outputId": "20340f9f-c128-4ccb-d5da-a2c3f4591e50"
      },
      "execution_count": null,
      "outputs": [
        {
          "output_type": "stream",
          "name": "stdout",
          "text": [
            "len = 200\n"
          ]
        },
        {
          "output_type": "display_data",
          "data": {
            "text/plain": [
              "<IPython.core.display.HTML object>"
            ],
            "text/html": []
          },
          "metadata": {}
        },
        {
          "output_type": "stream",
          "name": "stderr",
          "text": [
            "\u001b[34m\u001b[1mwandb\u001b[0m: \u001b[32m\u001b[41mERROR\u001b[0m Control-C detected -- Run data was not synced\n"
          ]
        },
        {
          "output_type": "error",
          "ename": "KeyboardInterrupt",
          "evalue": "",
          "traceback": [
            "\u001b[0;31m---------------------------------------------------------------------------\u001b[0m",
            "\u001b[0;31mKeyboardInterrupt\u001b[0m                         Traceback (most recent call last)",
            "\u001b[0;32m<ipython-input-85-8d9de0bf6800>\u001b[0m in \u001b[0;36m<cell line: 0>\u001b[0;34m()\u001b[0m\n\u001b[1;32m     26\u001b[0m \u001b[0;34m\u001b[0m\u001b[0m\n\u001b[1;32m     27\u001b[0m \u001b[0;31m# Mark a run as finished, and finish uploading all data\u001b[0m\u001b[0;34m\u001b[0m\u001b[0;34m\u001b[0m\u001b[0m\n\u001b[0;32m---> 28\u001b[0;31m \u001b[0mwandb\u001b[0m\u001b[0;34m.\u001b[0m\u001b[0mfinish\u001b[0m\u001b[0;34m(\u001b[0m\u001b[0;34m)\u001b[0m\u001b[0;34m\u001b[0m\u001b[0;34m\u001b[0m\u001b[0m\n\u001b[0m",
            "\u001b[0;32m/usr/local/lib/python3.11/dist-packages/wandb/sdk/wandb_run.py\u001b[0m in \u001b[0;36mfinish\u001b[0;34m(exit_code, quiet)\u001b[0m\n\u001b[1;32m   4135\u001b[0m     \"\"\"\n\u001b[1;32m   4136\u001b[0m     \u001b[0;32mif\u001b[0m \u001b[0mwandb\u001b[0m\u001b[0;34m.\u001b[0m\u001b[0mrun\u001b[0m\u001b[0;34m:\u001b[0m\u001b[0;34m\u001b[0m\u001b[0;34m\u001b[0m\u001b[0m\n\u001b[0;32m-> 4137\u001b[0;31m         \u001b[0mwandb\u001b[0m\u001b[0;34m.\u001b[0m\u001b[0mrun\u001b[0m\u001b[0;34m.\u001b[0m\u001b[0mfinish\u001b[0m\u001b[0;34m(\u001b[0m\u001b[0mexit_code\u001b[0m\u001b[0;34m=\u001b[0m\u001b[0mexit_code\u001b[0m\u001b[0;34m,\u001b[0m \u001b[0mquiet\u001b[0m\u001b[0;34m=\u001b[0m\u001b[0mquiet\u001b[0m\u001b[0;34m)\u001b[0m\u001b[0;34m\u001b[0m\u001b[0;34m\u001b[0m\u001b[0m\n\u001b[0m",
            "\u001b[0;32m/usr/local/lib/python3.11/dist-packages/wandb/sdk/wandb_run.py\u001b[0m in \u001b[0;36mwrapper\u001b[0;34m(self, *args, **kwargs)\u001b[0m\n\u001b[1;32m    439\u001b[0m                     \u001b[0;32mreturn\u001b[0m \u001b[0mcls\u001b[0m\u001b[0;34m.\u001b[0m\u001b[0mDummy\u001b[0m\u001b[0;34m(\u001b[0m\u001b[0;34m)\u001b[0m\u001b[0;34m\u001b[0m\u001b[0;34m\u001b[0m\u001b[0m\n\u001b[1;32m    440\u001b[0m \u001b[0;34m\u001b[0m\u001b[0m\n\u001b[0;32m--> 441\u001b[0;31m             \u001b[0;32mreturn\u001b[0m \u001b[0mfunc\u001b[0m\u001b[0;34m(\u001b[0m\u001b[0mself\u001b[0m\u001b[0;34m,\u001b[0m \u001b[0;34m*\u001b[0m\u001b[0margs\u001b[0m\u001b[0;34m,\u001b[0m \u001b[0;34m**\u001b[0m\u001b[0mkwargs\u001b[0m\u001b[0;34m)\u001b[0m\u001b[0;34m\u001b[0m\u001b[0;34m\u001b[0m\u001b[0m\n\u001b[0m\u001b[1;32m    442\u001b[0m \u001b[0;34m\u001b[0m\u001b[0m\n\u001b[1;32m    443\u001b[0m         \u001b[0;32mreturn\u001b[0m \u001b[0mwrapper\u001b[0m\u001b[0;34m\u001b[0m\u001b[0;34m\u001b[0m\u001b[0m\n",
            "\u001b[0;32m/usr/local/lib/python3.11/dist-packages/wandb/sdk/wandb_run.py\u001b[0m in \u001b[0;36mwrapper\u001b[0;34m(self, *args, **kwargs)\u001b[0m\n\u001b[1;32m    381\u001b[0m                     \u001b[0;32mraise\u001b[0m \u001b[0me\u001b[0m\u001b[0;34m\u001b[0m\u001b[0;34m\u001b[0m\u001b[0m\n\u001b[1;32m    382\u001b[0m                 \u001b[0mcls\u001b[0m\u001b[0;34m.\u001b[0m\u001b[0m_is_attaching\u001b[0m \u001b[0;34m=\u001b[0m \u001b[0;34m\"\"\u001b[0m\u001b[0;34m\u001b[0m\u001b[0;34m\u001b[0m\u001b[0m\n\u001b[0;32m--> 383\u001b[0;31m             \u001b[0;32mreturn\u001b[0m \u001b[0mfunc\u001b[0m\u001b[0;34m(\u001b[0m\u001b[0mself\u001b[0m\u001b[0;34m,\u001b[0m \u001b[0;34m*\u001b[0m\u001b[0margs\u001b[0m\u001b[0;34m,\u001b[0m \u001b[0;34m**\u001b[0m\u001b[0mkwargs\u001b[0m\u001b[0;34m)\u001b[0m\u001b[0;34m\u001b[0m\u001b[0;34m\u001b[0m\u001b[0m\n\u001b[0m\u001b[1;32m    384\u001b[0m \u001b[0;34m\u001b[0m\u001b[0m\n\u001b[1;32m    385\u001b[0m         \u001b[0;32mreturn\u001b[0m \u001b[0mwrapper\u001b[0m\u001b[0;34m\u001b[0m\u001b[0;34m\u001b[0m\u001b[0m\n",
            "\u001b[0;32m/usr/local/lib/python3.11/dist-packages/wandb/sdk/wandb_run.py\u001b[0m in \u001b[0;36mfinish\u001b[0;34m(self, exit_code, quiet)\u001b[0m\n\u001b[1;32m   2102\u001b[0m                 ),\n\u001b[1;32m   2103\u001b[0m             )\n\u001b[0;32m-> 2104\u001b[0;31m         \u001b[0;32mreturn\u001b[0m \u001b[0mself\u001b[0m\u001b[0;34m.\u001b[0m\u001b[0m_finish\u001b[0m\u001b[0;34m(\u001b[0m\u001b[0mexit_code\u001b[0m\u001b[0;34m)\u001b[0m\u001b[0;34m\u001b[0m\u001b[0;34m\u001b[0m\u001b[0m\n\u001b[0m\u001b[1;32m   2105\u001b[0m \u001b[0;34m\u001b[0m\u001b[0m\n\u001b[1;32m   2106\u001b[0m     def _finish(\n",
            "\u001b[0;32m/usr/local/lib/python3.11/dist-packages/wandb/sdk/wandb_run.py\u001b[0m in \u001b[0;36m_finish\u001b[0;34m(self, exit_code)\u001b[0m\n\u001b[1;32m   2132\u001b[0m \u001b[0;34m\u001b[0m\u001b[0m\n\u001b[1;32m   2133\u001b[0m         \u001b[0;32mtry\u001b[0m\u001b[0;34m:\u001b[0m\u001b[0;34m\u001b[0m\u001b[0;34m\u001b[0m\u001b[0m\n\u001b[0;32m-> 2134\u001b[0;31m             \u001b[0mself\u001b[0m\u001b[0;34m.\u001b[0m\u001b[0m_atexit_cleanup\u001b[0m\u001b[0;34m(\u001b[0m\u001b[0mexit_code\u001b[0m\u001b[0;34m=\u001b[0m\u001b[0mexit_code\u001b[0m\u001b[0;34m)\u001b[0m\u001b[0;34m\u001b[0m\u001b[0;34m\u001b[0m\u001b[0m\n\u001b[0m\u001b[1;32m   2135\u001b[0m \u001b[0;34m\u001b[0m\u001b[0m\n\u001b[1;32m   2136\u001b[0m             \u001b[0;31m# Run hooks that should happen after the last messages to the\u001b[0m\u001b[0;34m\u001b[0m\u001b[0;34m\u001b[0m\u001b[0m\n",
            "\u001b[0;32m/usr/local/lib/python3.11/dist-packages/wandb/sdk/wandb_run.py\u001b[0m in \u001b[0;36m_atexit_cleanup\u001b[0;34m(self, exit_code)\u001b[0m\n\u001b[1;32m   2360\u001b[0m \u001b[0;34m\u001b[0m\u001b[0m\n\u001b[1;32m   2361\u001b[0m         \u001b[0;32mtry\u001b[0m\u001b[0;34m:\u001b[0m\u001b[0;34m\u001b[0m\u001b[0;34m\u001b[0m\u001b[0m\n\u001b[0;32m-> 2362\u001b[0;31m             \u001b[0mself\u001b[0m\u001b[0;34m.\u001b[0m\u001b[0m_on_finish\u001b[0m\u001b[0;34m(\u001b[0m\u001b[0;34m)\u001b[0m\u001b[0;34m\u001b[0m\u001b[0;34m\u001b[0m\u001b[0m\n\u001b[0m\u001b[1;32m   2363\u001b[0m \u001b[0;34m\u001b[0m\u001b[0m\n\u001b[1;32m   2364\u001b[0m         \u001b[0;32mexcept\u001b[0m \u001b[0mKeyboardInterrupt\u001b[0m\u001b[0;34m:\u001b[0m\u001b[0;34m\u001b[0m\u001b[0;34m\u001b[0m\u001b[0m\n",
            "\u001b[0;32m/usr/local/lib/python3.11/dist-packages/wandb/sdk/wandb_run.py\u001b[0m in \u001b[0;36m_on_finish\u001b[0;34m(self)\u001b[0m\n\u001b[1;32m   2622\u001b[0m         \u001b[0;31m# Print some final statistics.\u001b[0m\u001b[0;34m\u001b[0m\u001b[0;34m\u001b[0m\u001b[0m\n\u001b[1;32m   2623\u001b[0m         \u001b[0mpoll_exit_handle\u001b[0m \u001b[0;34m=\u001b[0m \u001b[0mself\u001b[0m\u001b[0;34m.\u001b[0m\u001b[0m_backend\u001b[0m\u001b[0;34m.\u001b[0m\u001b[0minterface\u001b[0m\u001b[0;34m.\u001b[0m\u001b[0mdeliver_poll_exit\u001b[0m\u001b[0;34m(\u001b[0m\u001b[0;34m)\u001b[0m\u001b[0;34m\u001b[0m\u001b[0;34m\u001b[0m\u001b[0m\n\u001b[0;32m-> 2624\u001b[0;31m         \u001b[0mresult\u001b[0m \u001b[0;34m=\u001b[0m \u001b[0mpoll_exit_handle\u001b[0m\u001b[0;34m.\u001b[0m\u001b[0mwait\u001b[0m\u001b[0;34m(\u001b[0m\u001b[0mtimeout\u001b[0m\u001b[0;34m=\u001b[0m\u001b[0;34m-\u001b[0m\u001b[0;36m1\u001b[0m\u001b[0;34m)\u001b[0m\u001b[0;34m\u001b[0m\u001b[0;34m\u001b[0m\u001b[0m\n\u001b[0m\u001b[1;32m   2625\u001b[0m         \u001b[0;32massert\u001b[0m \u001b[0mresult\u001b[0m\u001b[0;34m\u001b[0m\u001b[0;34m\u001b[0m\u001b[0m\n\u001b[1;32m   2626\u001b[0m         progress.print_sync_dedupe_stats(\n",
            "\u001b[0;32m/usr/local/lib/python3.11/dist-packages/wandb/sdk/lib/mailbox.py\u001b[0m in \u001b[0;36mwait\u001b[0;34m(self, timeout, on_probe, on_progress, release, cancel)\u001b[0m\n\u001b[1;32m    273\u001b[0m                     \u001b[0;32mraise\u001b[0m \u001b[0mMailboxError\u001b[0m\u001b[0;34m(\u001b[0m\u001b[0;34m\"transport failed\"\u001b[0m\u001b[0;34m)\u001b[0m\u001b[0;34m\u001b[0m\u001b[0;34m\u001b[0m\u001b[0m\n\u001b[1;32m    274\u001b[0m \u001b[0;34m\u001b[0m\u001b[0m\n\u001b[0;32m--> 275\u001b[0;31m             \u001b[0mfound\u001b[0m\u001b[0;34m,\u001b[0m \u001b[0mabandoned\u001b[0m \u001b[0;34m=\u001b[0m \u001b[0mself\u001b[0m\u001b[0;34m.\u001b[0m\u001b[0m_slot\u001b[0m\u001b[0;34m.\u001b[0m\u001b[0m_get_and_clear\u001b[0m\u001b[0;34m(\u001b[0m\u001b[0mtimeout\u001b[0m\u001b[0;34m=\u001b[0m\u001b[0mwait_timeout\u001b[0m\u001b[0;34m)\u001b[0m\u001b[0;34m\u001b[0m\u001b[0;34m\u001b[0m\u001b[0m\n\u001b[0m\u001b[1;32m    276\u001b[0m             \u001b[0;32mif\u001b[0m \u001b[0mfound\u001b[0m\u001b[0;34m:\u001b[0m\u001b[0;34m\u001b[0m\u001b[0;34m\u001b[0m\u001b[0m\n\u001b[1;32m    277\u001b[0m                 \u001b[0;31m# Always update progress to 100% when done\u001b[0m\u001b[0;34m\u001b[0m\u001b[0;34m\u001b[0m\u001b[0m\n",
            "\u001b[0;32m/usr/local/lib/python3.11/dist-packages/wandb/sdk/lib/mailbox.py\u001b[0m in \u001b[0;36m_get_and_clear\u001b[0;34m(self, timeout)\u001b[0m\n\u001b[1;32m    120\u001b[0m     \u001b[0;32mdef\u001b[0m \u001b[0m_get_and_clear\u001b[0m\u001b[0;34m(\u001b[0m\u001b[0mself\u001b[0m\u001b[0;34m,\u001b[0m \u001b[0mtimeout\u001b[0m\u001b[0;34m:\u001b[0m \u001b[0mfloat\u001b[0m\u001b[0;34m)\u001b[0m \u001b[0;34m->\u001b[0m \u001b[0mTuple\u001b[0m\u001b[0;34m[\u001b[0m\u001b[0mOptional\u001b[0m\u001b[0;34m[\u001b[0m\u001b[0mpb\u001b[0m\u001b[0;34m.\u001b[0m\u001b[0mResult\u001b[0m\u001b[0;34m]\u001b[0m\u001b[0;34m,\u001b[0m \u001b[0mbool\u001b[0m\u001b[0;34m]\u001b[0m\u001b[0;34m:\u001b[0m\u001b[0;34m\u001b[0m\u001b[0;34m\u001b[0m\u001b[0m\n\u001b[1;32m    121\u001b[0m         \u001b[0mfound\u001b[0m \u001b[0;34m=\u001b[0m \u001b[0;32mNone\u001b[0m\u001b[0;34m\u001b[0m\u001b[0;34m\u001b[0m\u001b[0m\n\u001b[0;32m--> 122\u001b[0;31m         \u001b[0;32mif\u001b[0m \u001b[0mself\u001b[0m\u001b[0;34m.\u001b[0m\u001b[0m_wait\u001b[0m\u001b[0;34m(\u001b[0m\u001b[0mtimeout\u001b[0m\u001b[0;34m=\u001b[0m\u001b[0mtimeout\u001b[0m\u001b[0;34m)\u001b[0m\u001b[0;34m:\u001b[0m\u001b[0;34m\u001b[0m\u001b[0;34m\u001b[0m\u001b[0m\n\u001b[0m\u001b[1;32m    123\u001b[0m             \u001b[0;32mwith\u001b[0m \u001b[0mself\u001b[0m\u001b[0;34m.\u001b[0m\u001b[0m_lock\u001b[0m\u001b[0;34m:\u001b[0m\u001b[0;34m\u001b[0m\u001b[0;34m\u001b[0m\u001b[0m\n\u001b[1;32m    124\u001b[0m                 \u001b[0mfound\u001b[0m \u001b[0;34m=\u001b[0m \u001b[0mself\u001b[0m\u001b[0;34m.\u001b[0m\u001b[0m_result\u001b[0m\u001b[0;34m\u001b[0m\u001b[0;34m\u001b[0m\u001b[0m\n",
            "\u001b[0;32m/usr/local/lib/python3.11/dist-packages/wandb/sdk/lib/mailbox.py\u001b[0m in \u001b[0;36m_wait\u001b[0;34m(self, timeout)\u001b[0m\n\u001b[1;32m    116\u001b[0m \u001b[0;34m\u001b[0m\u001b[0m\n\u001b[1;32m    117\u001b[0m     \u001b[0;32mdef\u001b[0m \u001b[0m_wait\u001b[0m\u001b[0;34m(\u001b[0m\u001b[0mself\u001b[0m\u001b[0;34m,\u001b[0m \u001b[0mtimeout\u001b[0m\u001b[0;34m:\u001b[0m \u001b[0mfloat\u001b[0m\u001b[0;34m)\u001b[0m \u001b[0;34m->\u001b[0m \u001b[0mbool\u001b[0m\u001b[0;34m:\u001b[0m\u001b[0;34m\u001b[0m\u001b[0;34m\u001b[0m\u001b[0m\n\u001b[0;32m--> 118\u001b[0;31m         \u001b[0;32mreturn\u001b[0m \u001b[0mself\u001b[0m\u001b[0;34m.\u001b[0m\u001b[0m_event\u001b[0m\u001b[0;34m.\u001b[0m\u001b[0mwait\u001b[0m\u001b[0;34m(\u001b[0m\u001b[0mtimeout\u001b[0m\u001b[0;34m=\u001b[0m\u001b[0mtimeout\u001b[0m\u001b[0;34m)\u001b[0m\u001b[0;34m\u001b[0m\u001b[0;34m\u001b[0m\u001b[0m\n\u001b[0m\u001b[1;32m    119\u001b[0m \u001b[0;34m\u001b[0m\u001b[0m\n\u001b[1;32m    120\u001b[0m     \u001b[0;32mdef\u001b[0m \u001b[0m_get_and_clear\u001b[0m\u001b[0;34m(\u001b[0m\u001b[0mself\u001b[0m\u001b[0;34m,\u001b[0m \u001b[0mtimeout\u001b[0m\u001b[0;34m:\u001b[0m \u001b[0mfloat\u001b[0m\u001b[0;34m)\u001b[0m \u001b[0;34m->\u001b[0m \u001b[0mTuple\u001b[0m\u001b[0;34m[\u001b[0m\u001b[0mOptional\u001b[0m\u001b[0;34m[\u001b[0m\u001b[0mpb\u001b[0m\u001b[0;34m.\u001b[0m\u001b[0mResult\u001b[0m\u001b[0;34m]\u001b[0m\u001b[0;34m,\u001b[0m \u001b[0mbool\u001b[0m\u001b[0;34m]\u001b[0m\u001b[0;34m:\u001b[0m\u001b[0;34m\u001b[0m\u001b[0;34m\u001b[0m\u001b[0m\n",
            "\u001b[0;32m/usr/lib/python3.11/threading.py\u001b[0m in \u001b[0;36mwait\u001b[0;34m(self, timeout)\u001b[0m\n\u001b[1;32m    627\u001b[0m             \u001b[0msignaled\u001b[0m \u001b[0;34m=\u001b[0m \u001b[0mself\u001b[0m\u001b[0;34m.\u001b[0m\u001b[0m_flag\u001b[0m\u001b[0;34m\u001b[0m\u001b[0;34m\u001b[0m\u001b[0m\n\u001b[1;32m    628\u001b[0m             \u001b[0;32mif\u001b[0m \u001b[0;32mnot\u001b[0m \u001b[0msignaled\u001b[0m\u001b[0;34m:\u001b[0m\u001b[0;34m\u001b[0m\u001b[0;34m\u001b[0m\u001b[0m\n\u001b[0;32m--> 629\u001b[0;31m                 \u001b[0msignaled\u001b[0m \u001b[0;34m=\u001b[0m \u001b[0mself\u001b[0m\u001b[0;34m.\u001b[0m\u001b[0m_cond\u001b[0m\u001b[0;34m.\u001b[0m\u001b[0mwait\u001b[0m\u001b[0;34m(\u001b[0m\u001b[0mtimeout\u001b[0m\u001b[0;34m)\u001b[0m\u001b[0;34m\u001b[0m\u001b[0;34m\u001b[0m\u001b[0m\n\u001b[0m\u001b[1;32m    630\u001b[0m             \u001b[0;32mreturn\u001b[0m \u001b[0msignaled\u001b[0m\u001b[0;34m\u001b[0m\u001b[0;34m\u001b[0m\u001b[0m\n\u001b[1;32m    631\u001b[0m \u001b[0;34m\u001b[0m\u001b[0m\n",
            "\u001b[0;32m/usr/lib/python3.11/threading.py\u001b[0m in \u001b[0;36mwait\u001b[0;34m(self, timeout)\u001b[0m\n\u001b[1;32m    329\u001b[0m             \u001b[0;32melse\u001b[0m\u001b[0;34m:\u001b[0m\u001b[0;34m\u001b[0m\u001b[0;34m\u001b[0m\u001b[0m\n\u001b[1;32m    330\u001b[0m                 \u001b[0;32mif\u001b[0m \u001b[0mtimeout\u001b[0m \u001b[0;34m>\u001b[0m \u001b[0;36m0\u001b[0m\u001b[0;34m:\u001b[0m\u001b[0;34m\u001b[0m\u001b[0;34m\u001b[0m\u001b[0m\n\u001b[0;32m--> 331\u001b[0;31m                     \u001b[0mgotit\u001b[0m \u001b[0;34m=\u001b[0m \u001b[0mwaiter\u001b[0m\u001b[0;34m.\u001b[0m\u001b[0macquire\u001b[0m\u001b[0;34m(\u001b[0m\u001b[0;32mTrue\u001b[0m\u001b[0;34m,\u001b[0m \u001b[0mtimeout\u001b[0m\u001b[0;34m)\u001b[0m\u001b[0;34m\u001b[0m\u001b[0;34m\u001b[0m\u001b[0m\n\u001b[0m\u001b[1;32m    332\u001b[0m                 \u001b[0;32melse\u001b[0m\u001b[0;34m:\u001b[0m\u001b[0;34m\u001b[0m\u001b[0;34m\u001b[0m\u001b[0m\n\u001b[1;32m    333\u001b[0m                     \u001b[0mgotit\u001b[0m \u001b[0;34m=\u001b[0m \u001b[0mwaiter\u001b[0m\u001b[0;34m.\u001b[0m\u001b[0macquire\u001b[0m\u001b[0;34m(\u001b[0m\u001b[0;32mFalse\u001b[0m\u001b[0;34m)\u001b[0m\u001b[0;34m\u001b[0m\u001b[0;34m\u001b[0m\u001b[0m\n",
            "\u001b[0;31mKeyboardInterrupt\u001b[0m: "
          ]
        }
      ]
    },
    {
      "cell_type": "markdown",
      "source": [
        "# Day 18"
      ],
      "metadata": {
        "id": "v65iGApUqELx"
      }
    },
    {
      "cell_type": "code",
      "execution_count": null,
      "metadata": {
        "id": "kqhc2257_m3K"
      },
      "outputs": [],
      "source": []
    },
    {
      "cell_type": "markdown",
      "source": [
        "# Day 19"
      ],
      "metadata": {
        "id": "EBSAg7H4qG7T"
      }
    },
    {
      "cell_type": "code",
      "execution_count": null,
      "metadata": {
        "id": "SQmMu4bKVnkG"
      },
      "outputs": [],
      "source": []
    },
    {
      "cell_type": "markdown",
      "source": [
        "# Day 20"
      ],
      "metadata": {
        "id": "h3uX87QLqIM9"
      }
    },
    {
      "cell_type": "code",
      "execution_count": null,
      "metadata": {
        "id": "xZPTB4Gm_8KF"
      },
      "outputs": [],
      "source": []
    }
  ],
  "metadata": {
    "accelerator": "GPU",
    "colab": {
      "gpuType": "T4",
      "provenance": [],
      "include_colab_link": true
    },
    "kernelspec": {
      "display_name": "Python 3",
      "name": "python3"
    },
    "language_info": {
      "name": "python"
    }
  },
  "nbformat": 4,
  "nbformat_minor": 0
}