{
  "cells": [
    {
      "cell_type": "markdown",
      "metadata": {
        "id": "view-in-github",
        "colab_type": "text"
      },
      "source": [
        "<a href=\"https://colab.research.google.com/github/mylethidiem/zero-to-hero/blob/main/preAIO25/AIOCodeMathDA/Week4.ipynb\" target=\"_parent\"><img src=\"https://colab.research.google.com/assets/colab-badge.svg\" alt=\"Open In Colab\"/></a>"
      ]
    },
    {
      "cell_type": "markdown",
      "source": [
        "[AIO2025] LẬP TRÌNH - TOÁN - DATA ANALYSIS \\\n",
        "LÊ THỊ DIỄM MY"
      ],
      "metadata": {
        "id": "3fnuGyrSQ7kq"
      }
    },
    {
      "cell_type": "markdown",
      "source": [
        "# Day 1̉6: Gram Matrix in Style transfer\n",
        "---\n",
        "\n"
      ],
      "metadata": {
        "id": "04uSCDbApxxZ"
      }
    },
    {
      "cell_type": "markdown",
      "source": [
        "Set up Gram Matrix by using Numpy"
      ],
      "metadata": {
        "id": "GseamKCpxTRf"
      }
    },
    {
      "cell_type": "code",
      "source": [
        "import numpy as np\n",
        "\n",
        "def compute_gram_matrix(feature_map: np.ndarray) -> np.ndarray:\n",
        "  \"\"\"\n",
        "  Compute Gram Matrix from feature map\n",
        "  Args: feature_map(np.ndarray) matrix size (C, H, W)\n",
        "  Returns: (np.ndarray) Gram matrix size (C, C)\n",
        "  \"\"\"\n",
        "  # Get size of input\n",
        "  C, H, W = feature_map.shape\n",
        "\n",
        "  # Convert matrix to shape (C, H*W)\n",
        "  F = feature_map.reshape(C, H*W)\n",
        "\n",
        "  # Calculate Gram Matrix G = F <dot product> F.T\n",
        "  G = np.dot(F, F.transpose())\n",
        "\n",
        "  # Normalise by pixel count\n",
        "  G /= H * W\n",
        "\n",
        "  return G"
      ],
      "metadata": {
        "id": "EazUl53Nqj6f"
      },
      "execution_count": 1,
      "outputs": []
    },
    {
      "cell_type": "code",
      "execution_count": 2,
      "metadata": {
        "id": "JZJH1v68YX4M",
        "outputId": "2a0d52c0-bad1-4633-be2c-76efd4cce8ee",
        "colab": {
          "base_uri": "https://localhost:8080/"
        }
      },
      "outputs": [
        {
          "output_type": "stream",
          "name": "stdout",
          "text": [
            "Compute Gram Matrix: \n",
            "[[0.33432857 0.2207897  0.27598961]\n",
            " [0.2207897  0.19580158 0.19452994]\n",
            " [0.27598961 0.19452994 0.32603015]]\n"
          ]
        }
      ],
      "source": [
        "# Generate data set with size (3, 4, 4)\n",
        "np.random.seed(42)\n",
        "feature_map = np.random.rand(3, 4, 4)\n",
        "\n",
        "# Compute Gram Matrix\n",
        "grand_matrix = compute_gram_matrix(feature_map)\n",
        "\n",
        "# Print result\n",
        "print(f\"Compute Gram Matrix: \\n{grand_matrix}\")"
      ]
    },
    {
      "cell_type": "markdown",
      "source": [
        "Set up Gram Matrix by using Pytorch"
      ],
      "metadata": {
        "id": "HGuCOmXjxeI4"
      }
    },
    {
      "cell_type": "code",
      "source": [],
      "metadata": {
        "id": "rrA_43WdxhQ_"
      },
      "execution_count": null,
      "outputs": []
    },
    {
      "cell_type": "markdown",
      "source": [
        "## Exercise:"
      ],
      "metadata": {
        "id": "0NXRGzrCxJIA"
      }
    },
    {
      "cell_type": "code",
      "source": [],
      "metadata": {
        "id": "P9KzeFs7xNE3"
      },
      "execution_count": null,
      "outputs": []
    },
    {
      "cell_type": "markdown",
      "source": [
        "# Day 17: Getting Started with WandB\n",
        "\n",
        "\n",
        "---\n",
        "\n"
      ],
      "metadata": {
        "id": "QMmVLEXZqBrK"
      }
    },
    {
      "cell_type": "code",
      "execution_count": null,
      "metadata": {
        "id": "L9QZbsqlXKvu"
      },
      "outputs": [],
      "source": []
    },
    {
      "cell_type": "markdown",
      "source": [
        "# Day 18"
      ],
      "metadata": {
        "id": "v65iGApUqELx"
      }
    },
    {
      "cell_type": "code",
      "execution_count": null,
      "metadata": {
        "id": "kqhc2257_m3K"
      },
      "outputs": [],
      "source": []
    },
    {
      "cell_type": "markdown",
      "source": [
        "# Day 19"
      ],
      "metadata": {
        "id": "EBSAg7H4qG7T"
      }
    },
    {
      "cell_type": "code",
      "execution_count": null,
      "metadata": {
        "id": "SQmMu4bKVnkG"
      },
      "outputs": [],
      "source": []
    },
    {
      "cell_type": "markdown",
      "source": [
        "# Day 20"
      ],
      "metadata": {
        "id": "h3uX87QLqIM9"
      }
    },
    {
      "cell_type": "code",
      "execution_count": null,
      "metadata": {
        "id": "xZPTB4Gm_8KF"
      },
      "outputs": [],
      "source": []
    }
  ],
  "metadata": {
    "accelerator": "GPU",
    "colab": {
      "gpuType": "T4",
      "provenance": [],
      "include_colab_link": true
    },
    "kernelspec": {
      "display_name": "Python 3",
      "name": "python3"
    },
    "language_info": {
      "name": "python"
    }
  },
  "nbformat": 4,
  "nbformat_minor": 0
}