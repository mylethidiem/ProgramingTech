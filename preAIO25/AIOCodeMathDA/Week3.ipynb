{
  "cells": [
    {
      "cell_type": "markdown",
      "metadata": {
        "id": "view-in-github",
        "colab_type": "text"
      },
      "source": [
        "<a href=\"https://colab.research.google.com/github/mylethidiem/zero-to-hero/blob/main/preAIO25/AIOCodeMathDA/Week3.ipynb\" target=\"_parent\"><img src=\"https://colab.research.google.com/assets/colab-badge.svg\" alt=\"Open In Colab\"/></a>"
      ]
    },
    {
      "cell_type": "markdown",
      "source": [
        "[AIO2025] LẬP TRÌNH - TOÁN - DATA ANALYSIS \\\n",
        "LÊ THỊ DIỄM MY"
      ],
      "metadata": {
        "id": "Gk7bp1UiQ4y8"
      }
    },
    {
      "cell_type": "markdown",
      "source": [
        "# Day 11: 2D List - Convolutional calculation"
      ],
      "metadata": {
        "id": "04uSCDbApxxZ"
      }
    },
    {
      "cell_type": "markdown",
      "source": [
        "## Tích chập (Convolution)"
      ],
      "metadata": {
        "id": "DrhEUyXqp0jW"
      }
    },
    {
      "cell_type": "markdown",
      "source": [
        "$$\n",
        "A = \\begin{bmatrix}\n",
        " 1&  2& 3 \\\\\n",
        " 4&  5& 6 \\\\\n",
        " 7&  8& 9\n",
        "\\end{bmatrix},\n",
        "Kernal \\text{ } B=\\begin{bmatrix}\n",
        " 2& 4 \\\\\n",
        " 1& 3\n",
        "\\end{bmatrix} \\\\\n",
        "Kernal \\text{ } C = \\begin{bmatrix}\n",
        " 1&  1& 1 \\\\\n",
        " 0&  0& 0 \\\\\n",
        " 1&  1& 1\n",
        "\\end{bmatrix} \\\\\n",
        "1. \\text{ Hãy tính Convolutional khi áp dụng Kernal B vào A} \\\\\n",
        "2. \\text{ Hãy tính Convolutional khi áp dụng Kernal C vào A}\n",
        "$$"
      ],
      "metadata": {
        "id": "QqcshCJBBRtL"
      }
    },
    {
      "cell_type": "code",
      "source": [
        "def convolution(A, kernal):\n",
        "  result = []\n",
        "  for i in range(len(A)):\n",
        "    row = []\n",
        "    for j in range(len(A[0])):\n",
        "      data_point = A[i][j]\n",
        "      sum = 0\n",
        "      if (i + len(kernal) <= len(A)) and (j + len(kernal[0]) <= len(A[0])): # prevent overflow\n",
        "          for m in range(i, i + len(kernal)):\n",
        "            for n in range(j, j + len(kernal[0])):\n",
        "              sum += A[m][n] * kernal[m - i][n - j]\n",
        "          row.append(sum)\n",
        "    if row:\n",
        "      result.append(row)\n",
        "  return result\n"
      ],
      "metadata": {
        "id": "tJUv112ALxrP"
      },
      "execution_count": 159,
      "outputs": []
    },
    {
      "cell_type": "code",
      "execution_count": 160,
      "metadata": {
        "id": "JZJH1v68YX4M"
      },
      "outputs": [],
      "source": [
        "A = [[1,2,3],[4,5,6],[7,8,9]]\n",
        "kernal_B = [[2,4],[1,3]]\n",
        "conv_AB = convolution(A,kernal_B)\n",
        "\n",
        "kernal_C = [[1,1,1],[0,0,0],[1,1,1]]\n",
        "conv_AC = convolution(A,kernal_C)"
      ]
    },
    {
      "cell_type": "code",
      "source": [
        "import numpy as np\n",
        "\n",
        "print(f\"1. Convolution of A:\\n {np.array(A)} \\n with kernel B:\\n {np.array(kernal_B)} \\n is \\n {np.array(conv_AB)}\")\n",
        "print(f\"\\n 2. Convolution of A:\\n {np.array(A)} \\n with kernel C:\\n {np.array(kernal_C)} \\n is \\n {np.array(conv_AC)}\")"
      ],
      "metadata": {
        "id": "z6tHj6XY8Ty2",
        "outputId": "12422a25-257f-40a5-928d-9ddc798b8d5d",
        "colab": {
          "base_uri": "https://localhost:8080/"
        }
      },
      "execution_count": 161,
      "outputs": [
        {
          "output_type": "stream",
          "name": "stdout",
          "text": [
            "1. Convolution of A:\n",
            " [[1 2 3]\n",
            " [4 5 6]\n",
            " [7 8 9]] \n",
            " with kernel B:\n",
            " [[2 4]\n",
            " [1 3]] \n",
            " is \n",
            " [[29 39]\n",
            " [59 69]]\n",
            "\n",
            " 2. Convolution of A:\n",
            " [[1 2 3]\n",
            " [4 5 6]\n",
            " [7 8 9]] \n",
            " with kernel C:\n",
            " [[1 1 1]\n",
            " [0 0 0]\n",
            " [1 1 1]] \n",
            " is \n",
            " [[30]]\n"
          ]
        }
      ]
    },
    {
      "cell_type": "markdown",
      "source": [
        "## Padding"
      ],
      "metadata": {
        "id": "vvSFe1me5-7X"
      }
    },
    {
      "cell_type": "markdown",
      "source": [
        "$$\n",
        "A = \\begin{bmatrix}\n",
        " 0&  0& 0 \\\\\n",
        " 0&  4& 0 \\\\\n",
        " 0&  1& 0\n",
        "\\end{bmatrix},\n",
        "Kernal \\text{ } B=\\begin{bmatrix}\n",
        " 1& 1 \\\\\n",
        " 1& 1\n",
        "\\end{bmatrix} \\\\\n",
        "Kernal \\text{ } C = \\begin{bmatrix}\n",
        " 0&  1& 0 \\\\\n",
        " 0&  1& 0 \\\\\n",
        " 0&  1& 0\n",
        "\\end{bmatrix} \\\\\n",
        "1. \\text{ Hãy tính Convolutional khi áp dụng Kernal B vào A có sử dụng zero padding} \\\\\n",
        "2. \\text{ Hãy tính Convolutional khi áp dụng Kernal C vào A có sử dụng zero padding}\n",
        "$$"
      ],
      "metadata": {
        "id": "qfw0Nz-B_o6F"
      }
    },
    {
      "cell_type": "code",
      "source": [
        "def zero_padding(A):\n",
        "  m_padding = [[0 for _ in range(len(A) + 2)] for _ in range(len(A[0]) + 2)]\n",
        "  for i in range(len(m_padding)):#row\n",
        "    for j in range(len(m_padding)): #column\n",
        "        # add matrix A inside a new matrix\n",
        "        should_add_matrix_a_element = (i >= 1) and (i < len(m_padding) - 1) and (j >= 1) and (j < len(m_padding[0]) - 1)\n",
        "        if should_add_matrix_a_element:\n",
        "          # print(f\"ij{i},{j}, A: {A[i - 1][j - 1]}\")\n",
        "          m_padding[i][j] = A[i - 1][j - 1]\n",
        "  # print(m_padding)\n",
        "  return m_padding"
      ],
      "metadata": {
        "id": "2V_QLSDu9o5Z"
      },
      "execution_count": 162,
      "outputs": []
    },
    {
      "cell_type": "code",
      "source": [
        "A_test = [[1,2,3],[4,5,6],[7,8,9]]\n",
        "zero_padding(A_test)"
      ],
      "metadata": {
        "id": "g3Cw7IuG9cpi",
        "outputId": "3eafca90-d130-4577-d55e-8ee4f0a3e104",
        "colab": {
          "base_uri": "https://localhost:8080/"
        }
      },
      "execution_count": 163,
      "outputs": [
        {
          "output_type": "execute_result",
          "data": {
            "text/plain": [
              "[[0, 0, 0, 0, 0],\n",
              " [0, 1, 2, 3, 0],\n",
              " [0, 4, 5, 6, 0],\n",
              " [0, 7, 8, 9, 0],\n",
              " [0, 0, 0, 0, 0]]"
            ]
          },
          "metadata": {},
          "execution_count": 163
        }
      ]
    },
    {
      "cell_type": "code",
      "source": [
        "A = [[0,0,0],[0,4,0],[0,1,0]]\n",
        "kernal_B = [[1,1],[1,1]]\n",
        "kernal_C = [[0,1,0],[0,1,0],[0,1,0]]\n",
        "A_zero_padding = zero_padding(A)\n",
        "\n",
        "conv_AB = convolution(A_zero_padding, kernal_B)\n",
        "conv_AC = convolution(A_zero_padding, kernal_C)"
      ],
      "metadata": {
        "id": "HTbnpF-o6Ju-"
      },
      "execution_count": 164,
      "outputs": []
    },
    {
      "cell_type": "code",
      "source": [
        "import numpy as np\n",
        "\n",
        "print(f\"1. Convolution of A:\\n {np.array(A)} \\n with kernel B with zero padding:\\n {np.array(kernal_B)} \\n is \\n {np.array(conv_AB)}\")\n",
        "print(f\"\\n2. Convolution of A:\\n {np.array(A)} \\n with kernel B with zero padding:\\n {np.array(kernal_C)} \\n is \\n {np.array(conv_AC)}\")"
      ],
      "metadata": {
        "id": "JLTzd3bNFgS3",
        "outputId": "afa8fdef-e273-4a58-8ef0-e5e9e706eb74",
        "colab": {
          "base_uri": "https://localhost:8080/"
        }
      },
      "execution_count": 165,
      "outputs": [
        {
          "output_type": "stream",
          "name": "stdout",
          "text": [
            "1. Convolution of A:\n",
            " [[0 0 0]\n",
            " [0 4 0]\n",
            " [0 1 0]] \n",
            " with kernel B with zero padding:\n",
            " [[1 1]\n",
            " [1 1]] \n",
            " is \n",
            " [[0 0 0 0]\n",
            " [0 4 4 0]\n",
            " [0 5 5 0]\n",
            " [0 1 1 0]]\n",
            "\n",
            "2. Convolution of A:\n",
            " [[0 0 0]\n",
            " [0 4 0]\n",
            " [0 1 0]] \n",
            " with kernel B with zero padding:\n",
            " [[0 1 0]\n",
            " [0 1 0]\n",
            " [0 1 0]] \n",
            " is \n",
            " [[0 4 0]\n",
            " [0 5 0]\n",
            " [0 5 0]]\n"
          ]
        }
      ]
    },
    {
      "cell_type": "markdown",
      "source": [
        "## Max Pooling và Average Pooling"
      ],
      "metadata": {
        "id": "eMoT0b065_eH"
      }
    },
    {
      "cell_type": "markdown",
      "source": [
        "$$\n",
        "A = \\begin{bmatrix}\n",
        " 0&  0&  0& 4 \\\\\n",
        " 0&  4&  0& 2 \\\\\n",
        " 0&  1&  0& 2 \\\\\n",
        " 0&  3&  0& 2\n",
        "\\end{bmatrix}\n",
        "$$"
      ],
      "metadata": {
        "id": "vkMgNM9I_OO9"
      }
    },
    {
      "cell_type": "code",
      "source": [
        "  def convolution_max_pooling(A, kernal, stride=1):\n",
        "    result = []\n",
        "    for i in range(0, len(A), stride): #row A\n",
        "      row = []\n",
        "      for j in range(0, len(A[0]), stride): #col A\n",
        "        data_point = max = A[i][j]\n",
        "        if (i + len(kernal) <= len(A)) and (j + len(kernal[0]) <= len(A[0])):\n",
        "          for m in range(i, i + len(kernal)):\n",
        "            for n in range(j, j + len(kernal[0])):\n",
        "              if max < A[m][n]:\n",
        "                max = A[m][n]\n",
        "          row.append(max)\n",
        "      if row:\n",
        "        result.append(row)\n",
        "    return result"
      ],
      "metadata": {
        "id": "2r6K_RG06KLG"
      },
      "execution_count": 166,
      "outputs": []
    },
    {
      "cell_type": "code",
      "source": [
        "def convolution_avg_pooling(A, kernal, stride=1):\n",
        "    result = []\n",
        "    num_elements_windowsize = len(kernal) * len(kernal[0])\n",
        "    for i in range(0, len(A), stride): #row A\n",
        "      row = []\n",
        "      for j in range(0, len(A[0]), stride): #col A\n",
        "        data_point = A[i][j]\n",
        "        avg = 0\n",
        "        if (i + len(kernal) <= len(A)) and (j + len(kernal[0]) <= len(A[0])):\n",
        "          for m in range(i, i + len(kernal)):\n",
        "            for n in range(j, j + len(kernal[0])):\n",
        "              avg += A[m][n]\n",
        "          row.append(float(avg / num_elements_windowsize))\n",
        "      if row:\n",
        "        result.append(row)\n",
        "    return result"
      ],
      "metadata": {
        "id": "-GKIt_DXTQh1"
      },
      "execution_count": 167,
      "outputs": []
    },
    {
      "cell_type": "code",
      "source": [
        "A = [[0,0,0,4],[0,4,0,2],[0,1,0,2],[0,3,0,2]]\n",
        "kernal_B = [[1,1],[1,1]] #window size\n",
        "\n",
        "conv_max_pooling = convolution_max_pooling(A, kernal_B, stride=2)\n",
        "conv_avg_pooling = convolution_avg_pooling(A, kernal_B, stride=2)\n",
        "print(f\"Max pooling for A: {conv_max_pooling}\")\n",
        "print(f\"Max pooling for A: {conv_avg_pooling}\")"
      ],
      "metadata": {
        "id": "776jy18_G98V",
        "outputId": "e7ada970-9817-4a76-a67f-af44e1c758ab",
        "colab": {
          "base_uri": "https://localhost:8080/"
        }
      },
      "execution_count": 168,
      "outputs": [
        {
          "output_type": "stream",
          "name": "stdout",
          "text": [
            "Max pooling for A: [[4, 4], [3, 2]]\n",
            "Max pooling for A: [[1.0, 1.5], [1.0, 1.0]]\n"
          ]
        }
      ]
    },
    {
      "cell_type": "markdown",
      "source": [
        "# Day 12: The Knight’s tour problem"
      ],
      "metadata": {
        "id": "QMmVLEXZqBrK"
      }
    },
    {
      "cell_type": "markdown",
      "source": [
        "## Bài tập\n"
      ],
      "metadata": {
        "id": "5jbktPvsQk6b"
      }
    },
    {
      "cell_type": "code",
      "source": [
        "def print_board(board):\n",
        "  n = len(board)\n",
        "  for i in range(n):\n",
        "    for j in range(n):\n",
        "      print(board[i][j], end = ' ')\n",
        "    print()"
      ],
      "metadata": {
        "id": "WrUlBdhQFJmn"
      },
      "execution_count": 169,
      "outputs": []
    },
    {
      "cell_type": "code",
      "source": [
        "def is_coordinate_on_the_board(new_x, new_y, size_of_chessboard):\n",
        "  return (0 <= new_x < size_of_chessboard) and (0 <= new_y < size_of_chessboard)"
      ],
      "metadata": {
        "id": "cqtSjaCJmRZ1"
      },
      "execution_count": 170,
      "outputs": []
    },
    {
      "cell_type": "code",
      "source": [
        "def solve_knight_tour(size_of_chessboard, start_x, start_y):\n",
        "  #Create chessboard\n",
        "  board = [[-1 for _ in range(size_of_chessboard)] for _ in range(size_of_chessboard)]\n",
        "  board[start_x][start_y] = 1\n",
        "  move_count = 1\n",
        "\n",
        "  # move_x and move_y define next move of Knight.\n",
        "  # move_x is for next value of x coordinate\n",
        "  # move_y is for next value of y coordinate\n",
        "  move_x = [2, 1, -1, -2, -2, -1, 1, 2]\n",
        "  move_y = [1, 2, 2, 1, -1, -2, -2, -1]\n",
        "\n",
        "  if knight_tour_utils(start_x, start_y, move_x, move_y, move_count, board, size_of_chessboard):\n",
        "    # print(\"Found solution!\")\n",
        "    return board\n",
        "  else:\n",
        "    print(\"No solution exist!\")\n",
        "    return None"
      ],
      "metadata": {
        "id": "ao3PDX4Rfw8K"
      },
      "execution_count": 171,
      "outputs": []
    },
    {
      "cell_type": "code",
      "execution_count": 172,
      "metadata": {
        "id": "L9QZbsqlXKvu"
      },
      "outputs": [],
      "source": [
        "def knight_tour_utils(current_x, current_y, dx, dy, move_count, board, size_of_chessboard):\n",
        "  if not is_coordinate_on_the_board(current_x, current_y, size_of_chessboard):\n",
        "    print(f\"Coordinate ({current_x}, {current_y}) is not on the board!\")\n",
        "    return False\n",
        "  if move_count == size_of_chessboard**2:\n",
        "    return True # Solution found\n",
        "\n",
        "  for i in range(len(dx)):\n",
        "    new_x = current_x + dx[i]\n",
        "    new_y = current_y + dy[i]\n",
        "    # print(f\"new_x, new_y= ({new_x}, {new_y})\")\n",
        "    if is_coordinate_on_the_board(new_x, new_y, size_of_chessboard):\n",
        "      if board[new_x][new_y] == -1: #should_move\n",
        "        board[new_x][new_y] = move_count + 1 # inscrease current move count\n",
        "        if knight_tour_utils(new_x, new_y, dx, dy, move_count + 1, board, size_of_chessboard):\n",
        "          return True\n",
        "        board[new_x][new_y] = -1 # Backtrack\n",
        "  return False"
      ]
    },
    {
      "cell_type": "code",
      "source": [
        "n = 5 # size of chessboard\n",
        "tests = [[0,0], [2,2]] # starting at (x, y)\n",
        "\n",
        "print(f\"Chest size ({n}x{n})\")\n",
        "for i, start in enumerate(tests):\n",
        "  board = solve_knight_tour(n, start_x=start[0], start_y=start[1])\n",
        "  print(f\"\\n{i+1}. The result of the knight's problem when starting at ({start[0]}, {start[1]}) is\")\n",
        "  print_board(board)"
      ],
      "metadata": {
        "id": "1uG1EZk9Kuuz",
        "outputId": "83835e54-b409-46d6-db31-9033a2f448d3",
        "colab": {
          "base_uri": "https://localhost:8080/"
        }
      },
      "execution_count": 173,
      "outputs": [
        {
          "output_type": "stream",
          "name": "stdout",
          "text": [
            "Chest size (5x5)\n",
            "\n",
            "1. The result of the knight's problem when starting at (0, 0) is\n",
            "1 6 15 10 21 \n",
            "14 9 20 5 16 \n",
            "19 2 7 22 11 \n",
            "8 13 24 17 4 \n",
            "25 18 3 12 23 \n",
            "\n",
            "2. The result of the knight's problem when starting at (2, 2) is\n",
            "23 10 15 4 25 \n",
            "16 5 24 9 14 \n",
            "11 22 1 18 3 \n",
            "6 17 20 13 8 \n",
            "21 12 7 2 19 \n"
          ]
        }
      ]
    },
    {
      "cell_type": "markdown",
      "source": [
        "![image.png](data:image/png;base64,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)"
      ],
      "metadata": {
        "id": "nVlBRSX_avjg"
      }
    },
    {
      "cell_type": "markdown",
      "source": [
        "# Day 13"
      ],
      "metadata": {
        "id": "v65iGApUqELx"
      }
    },
    {
      "cell_type": "markdown",
      "source": [
        "## Bài tập"
      ],
      "metadata": {
        "id": "5_L0XAMfQlqk"
      }
    },
    {
      "cell_type": "code",
      "execution_count": 173,
      "metadata": {
        "id": "kqhc2257_m3K"
      },
      "outputs": [],
      "source": []
    },
    {
      "cell_type": "markdown",
      "source": [
        "# Day 14"
      ],
      "metadata": {
        "id": "EBSAg7H4qG7T"
      }
    },
    {
      "cell_type": "markdown",
      "source": [
        "## Bài tập"
      ],
      "metadata": {
        "id": "9eu3a_gDQmVZ"
      }
    },
    {
      "cell_type": "code",
      "execution_count": 173,
      "metadata": {
        "id": "SQmMu4bKVnkG"
      },
      "outputs": [],
      "source": []
    },
    {
      "cell_type": "markdown",
      "source": [
        "# Day 15"
      ],
      "metadata": {
        "id": "h3uX87QLqIM9"
      }
    },
    {
      "cell_type": "markdown",
      "source": [
        "## Bài tập"
      ],
      "metadata": {
        "id": "JEFZE2UzQm98"
      }
    },
    {
      "cell_type": "code",
      "execution_count": 173,
      "metadata": {
        "id": "xZPTB4Gm_8KF"
      },
      "outputs": [],
      "source": []
    }
  ],
  "metadata": {
    "accelerator": "GPU",
    "colab": {
      "gpuType": "T4",
      "provenance": [],
      "include_colab_link": true
    },
    "kernelspec": {
      "display_name": "Python 3",
      "name": "python3"
    },
    "language_info": {
      "name": "python"
    }
  },
  "nbformat": 4,
  "nbformat_minor": 0
}