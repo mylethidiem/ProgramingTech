{
  "cells": [
    {
      "cell_type": "markdown",
      "metadata": {
        "id": "view-in-github",
        "colab_type": "text"
      },
      "source": [
        "<a href=\"https://colab.research.google.com/github/mylethidiem/zero-to-hero/blob/main/preAIO25/external/VisionTransformer_research.ipynb\" target=\"_parent\"><img src=\"https://colab.research.google.com/assets/colab-badge.svg\" alt=\"Open In Colab\"/></a>"
      ]
    },
    {
      "cell_type": "markdown",
      "metadata": {
        "id": "XSpmFt9_S8qr"
      },
      "source": [
        "# **Vision Transformer**"
      ]
    },
    {
      "cell_type": "code",
      "execution_count": null,
      "metadata": {
        "id": "R6kBYpHvKfcd",
        "colab": {
          "base_uri": "https://localhost:8080/"
        },
        "outputId": "177882af-261c-48c5-d04d-5702651095b9"
      },
      "outputs": [
        {
          "output_type": "stream",
          "name": "stdout",
          "text": [
            "Requirement already satisfied: torchvision==0.16.0 in /usr/local/lib/python3.11/dist-packages (0.16.0)\n",
            "Requirement already satisfied: numpy in /usr/local/lib/python3.11/dist-packages (from torchvision==0.16.0) (1.26.4)\n",
            "Requirement already satisfied: requests in /usr/local/lib/python3.11/dist-packages (from torchvision==0.16.0) (2.32.3)\n",
            "Requirement already satisfied: torch==2.1.0 in /usr/local/lib/python3.11/dist-packages (from torchvision==0.16.0) (2.1.0)\n",
            "Requirement already satisfied: pillow!=8.3.*,>=5.3.0 in /usr/local/lib/python3.11/dist-packages (from torchvision==0.16.0) (11.1.0)\n",
            "Requirement already satisfied: filelock in /usr/local/lib/python3.11/dist-packages (from torch==2.1.0->torchvision==0.16.0) (3.17.0)\n",
            "Requirement already satisfied: typing-extensions in /usr/local/lib/python3.11/dist-packages (from torch==2.1.0->torchvision==0.16.0) (4.12.2)\n",
            "Requirement already satisfied: sympy in /usr/local/lib/python3.11/dist-packages (from torch==2.1.0->torchvision==0.16.0) (1.13.1)\n",
            "Requirement already satisfied: networkx in /usr/local/lib/python3.11/dist-packages (from torch==2.1.0->torchvision==0.16.0) (3.4.2)\n",
            "Requirement already satisfied: jinja2 in /usr/local/lib/python3.11/dist-packages (from torch==2.1.0->torchvision==0.16.0) (3.1.5)\n",
            "Requirement already satisfied: fsspec in /usr/local/lib/python3.11/dist-packages (from torch==2.1.0->torchvision==0.16.0) (2024.10.0)\n",
            "Requirement already satisfied: nvidia-cuda-nvrtc-cu12==12.1.105 in /usr/local/lib/python3.11/dist-packages (from torch==2.1.0->torchvision==0.16.0) (12.1.105)\n",
            "Requirement already satisfied: nvidia-cuda-runtime-cu12==12.1.105 in /usr/local/lib/python3.11/dist-packages (from torch==2.1.0->torchvision==0.16.0) (12.1.105)\n",
            "Requirement already satisfied: nvidia-cuda-cupti-cu12==12.1.105 in /usr/local/lib/python3.11/dist-packages (from torch==2.1.0->torchvision==0.16.0) (12.1.105)\n",
            "Requirement already satisfied: nvidia-cudnn-cu12==8.9.2.26 in /usr/local/lib/python3.11/dist-packages (from torch==2.1.0->torchvision==0.16.0) (8.9.2.26)\n",
            "Requirement already satisfied: nvidia-cublas-cu12==12.1.3.1 in /usr/local/lib/python3.11/dist-packages (from torch==2.1.0->torchvision==0.16.0) (12.1.3.1)\n",
            "Requirement already satisfied: nvidia-cufft-cu12==11.0.2.54 in /usr/local/lib/python3.11/dist-packages (from torch==2.1.0->torchvision==0.16.0) (11.0.2.54)\n",
            "Requirement already satisfied: nvidia-curand-cu12==10.3.2.106 in /usr/local/lib/python3.11/dist-packages (from torch==2.1.0->torchvision==0.16.0) (10.3.2.106)\n",
            "Requirement already satisfied: nvidia-cusolver-cu12==11.4.5.107 in /usr/local/lib/python3.11/dist-packages (from torch==2.1.0->torchvision==0.16.0) (11.4.5.107)\n",
            "Requirement already satisfied: nvidia-cusparse-cu12==12.1.0.106 in /usr/local/lib/python3.11/dist-packages (from torch==2.1.0->torchvision==0.16.0) (12.1.0.106)\n",
            "Requirement already satisfied: nvidia-nccl-cu12==2.18.1 in /usr/local/lib/python3.11/dist-packages (from torch==2.1.0->torchvision==0.16.0) (2.18.1)\n",
            "Requirement already satisfied: nvidia-nvtx-cu12==12.1.105 in /usr/local/lib/python3.11/dist-packages (from torch==2.1.0->torchvision==0.16.0) (12.1.105)\n",
            "Requirement already satisfied: triton==2.1.0 in /usr/local/lib/python3.11/dist-packages (from torch==2.1.0->torchvision==0.16.0) (2.1.0)\n",
            "Requirement already satisfied: nvidia-nvjitlink-cu12 in /usr/local/lib/python3.11/dist-packages (from nvidia-cusolver-cu12==11.4.5.107->torch==2.1.0->torchvision==0.16.0) (12.5.82)\n",
            "Requirement already satisfied: charset-normalizer<4,>=2 in /usr/local/lib/python3.11/dist-packages (from requests->torchvision==0.16.0) (3.4.1)\n",
            "Requirement already satisfied: idna<4,>=2.5 in /usr/local/lib/python3.11/dist-packages (from requests->torchvision==0.16.0) (3.10)\n",
            "Requirement already satisfied: urllib3<3,>=1.21.1 in /usr/local/lib/python3.11/dist-packages (from requests->torchvision==0.16.0) (2.3.0)\n",
            "Requirement already satisfied: certifi>=2017.4.17 in /usr/local/lib/python3.11/dist-packages (from requests->torchvision==0.16.0) (2025.1.31)\n",
            "Requirement already satisfied: MarkupSafe>=2.0 in /usr/local/lib/python3.11/dist-packages (from jinja2->torch==2.1.0->torchvision==0.16.0) (3.0.2)\n",
            "Requirement already satisfied: mpmath<1.4,>=1.1.0 in /usr/local/lib/python3.11/dist-packages (from sympy->torch==2.1.0->torchvision==0.16.0) (1.3.0)\n"
          ]
        }
      ],
      "source": [
        "# Install packages\n",
        "!pip install torchvision==0.16.0"
      ]
    },
    {
      "cell_type": "code",
      "source": [
        "#\n",
        "import torch\n",
        "import torch.nn as nn\n",
        "from torch.nn import functional as F\n",
        "\n",
        "from torch.utils.data import DataLoader\n",
        "import torchvision\n",
        "import torchvision.transforms as transforms"
      ],
      "metadata": {
        "id": "q9KlvJd2PBb-"
      },
      "execution_count": null,
      "outputs": []
    },
    {
      "cell_type": "markdown",
      "source": [
        "Nhằm đảm bảo tính đồng đều về kết quả của mô hình"
      ],
      "metadata": {
        "id": "csipn11ZPI7V"
      }
    },
    {
      "cell_type": "code",
      "source": [
        "device = torch.device('cuda' if torch.cuda.is_available() else 'cpu')\n",
        "print(device)\n",
        "def set_seed(seed):\n",
        "  torch.manual_seed(seed)\n",
        "SEED = 42\n",
        "set_seed(SEED)"
      ],
      "metadata": {
        "id": "Q0Ar5px1k7vF",
        "colab": {
          "base_uri": "https://localhost:8080/"
        },
        "outputId": "68ee2aff-c6b5-40ee-bda5-47ab106389e5"
      },
      "execution_count": null,
      "outputs": [
        {
          "output_type": "stream",
          "name": "stdout",
          "text": [
            "cuda\n"
          ]
        }
      ]
    },
    {
      "cell_type": "markdown",
      "source": [
        "## LOAD DATA CIFAR10"
      ],
      "metadata": {
        "id": "s9lTN1HXsmeq"
      }
    },
    {
      "cell_type": "markdown",
      "source": [
        "What is [CIFAR10](https://www.cs.toronto.edu/~kriz/cifar.html)?\n",
        "\n",
        "- Đầu vào: 60.000 hình ảnh màu có kích thước (32x32) chia thành 10 lớp khác nhau đại diện cho máy bay, ô tô, chim, mèo, hươu, chó, ếch, ngựa, tàu thủy và xe tải. Dữ liệu được chia ra thành 50000 ảnh cho training và 10000 dùng để test. \\\n",
        "- Ở đây mình tiếp tục chia dữ liệu train ra làm 2 phần: 90% sẽ được dùng cho việc huấn luyện và 10% còn lại sẽ dùng cho bước validation.\n",
        "- Số lượng batch size dùng hiện tại là 64 cho tập dữ liệu không phải là quá lớn\n",
        "- Bước transformer(Biến đổi ảnh):\n",
        "   - Các bức ảnh sẽ được resize về kích thước (224, 224) ?\n",
        "   - Chuyển thành dữ liệu tensor cho việc tính toán\n",
        "   - Chuẩn hóa\n"
      ],
      "metadata": {
        "id": "hBa5tjThsy2g"
      }
    },
    {
      "cell_type": "code",
      "source": [
        "batch_size = 64\n",
        "\n",
        "# Why need transform??\n",
        "transform =  transforms.Compose(\n",
        "    [\n",
        "        transforms.Resize((224, 224)),\n",
        "        transforms.ToTensor(),\n",
        "        transforms.Normalize((0.5, 0.5, 0.5), (0.5, 0.5, 0.5)) #?\n",
        "    ]\n",
        ")\n",
        "\n",
        "#download\n",
        "test_dataset = torchvision.datasets.CIFAR10(root='./data', train=False,\n",
        "                                             transform=transform, download=True)\n",
        "\n",
        "# split data train into val and train\n",
        "train_dataset = torchvision.datasets.CIFAR10(root='./data', train=True,\n",
        "                                            transform=transform, download=True)\n",
        "train_subset_size = int(len(train_dataset) * 0.9)\n",
        "val_subset_size = len(train_dataset) - train_subset_size\n",
        "train_subset, val_subset = torch.utils.data.random_split(train_dataset, [train_subset_size,val_subset_size ])\n",
        "\n",
        "\n",
        "# create dataloader contain batches of data to train(mini-batch)\n",
        "train_loader = DataLoader(dataset=train_subset, batch_size=batch_size, shuffle=True, num_workers=2)#?\n",
        "val_loader = DataLoader(dataset=val_subset, batch_size=batch_size, shuffle=False, num_workers=2)\n",
        "test_loader = DataLoader(dataset=test_dataset, batch_size=batch_size, shuffle=False, num_workers=2)\n",
        "print(f\"Train size: {len(train_subset)}\")\n",
        "print(f\"Train batches: {len(train_loader)}\")\n",
        "print(f\"Validation size: {len(val_subset)}\")\n",
        "print(f\"Test size: {len(test_dataset)}\")"
      ],
      "metadata": {
        "id": "icHdsN5nlJrO",
        "colab": {
          "base_uri": "https://localhost:8080/"
        },
        "outputId": "7f392403-2f77-4206-d359-634700527332"
      },
      "execution_count": null,
      "outputs": [
        {
          "output_type": "stream",
          "name": "stdout",
          "text": [
            "Files already downloaded and verified\n",
            "Files already downloaded and verified\n",
            "Train size: 45000\n",
            "Train batches: 704\n",
            "Validation size: 5000\n",
            "Test size: 10000\n"
          ]
        }
      ]
    },
    {
      "cell_type": "markdown",
      "source": [
        "## Build Model"
      ],
      "metadata": {
        "id": "lFY5ufFSJtgd"
      }
    },
    {
      "cell_type": "markdown",
      "source": [
        "### A little research (Các code trong mục này không được dùng cho model train dữ liệu bên dưới)"
      ],
      "metadata": {
        "id": "gwOX5H6MVOtO"
      }
    },
    {
      "cell_type": "markdown",
      "source": [
        "Linear Projection hay Linear Transformation: \\\n",
        "(Patch projection into Embedding)\n",
        "- Có 2 cách: một là dùng lớp Convolution 2D như ví dụ bên dưới hoặc là dùng lớp Linear.\n",
        "- Giải thích các tham số:\n",
        "   - `in_channels` bằng 3 là số channel của một bức ảnh\n",
        "   - `out_channels` số lượng embedding của mình mong muốn\n",
        "   - `kernel_size=patch_size`: Để cho bức hình từ vector 3D thành vector 1D thì số kernel size nên để giá trị thành patch size để nó lấy hết cái hình."
      ],
      "metadata": {
        "id": "F5Zyc0OfD_mH"
      }
    },
    {
      "cell_type": "code",
      "source": [
        "class PatchEmbedding(nn.Module):\n",
        "  def __init__(self, embed_dim=512, patch_size=16, image_size=224):\n",
        "    super().__init__()\n",
        "    # 1 layer conv2d\n",
        "    # image have 3 channels\n",
        "    self.conv1 = nn.Conv2d(in_channels=3, out_channels=embed_dim, kernel_size=patch_size, stride=patch_size, bias=False)\n",
        "\n",
        "  def forward(self, x):\n",
        "    x = self.conv1(x)\n",
        "\n",
        "    # why we need reshape?\n",
        "    print(f\"x shape before reshape: {x.shape}\") # shape [*, width, grid, grid]\n",
        "    x = x.reshape(x.shape[0], x.shape[1], -1)\n",
        "    print(f\"x shape after reshape: {x.shape}\") # shape [*, width, grid ** 2]\n",
        "\n",
        "    # Hoán đổi vị trí 2 dữ liệu cuối sau khi đã reshape\n",
        "    x.permute(0, 2, 1)\n",
        "    return x\n"
      ],
      "metadata": {
        "id": "Cz9KBCEPKLrH"
      },
      "execution_count": null,
      "outputs": []
    },
    {
      "cell_type": "code",
      "source": [
        "# example\n",
        "patch_embedding = PatchEmbedding()\n",
        "x = torch.randn(1, 3, 224, 224)\n",
        "\n",
        "out = patch_embedding(x)\n",
        "print(out.shape)"
      ],
      "metadata": {
        "id": "k-n1nyEEV9LH",
        "colab": {
          "base_uri": "https://localhost:8080/"
        },
        "outputId": "96bdf56b-46ef-40df-982c-f274475ff9a8"
      },
      "execution_count": null,
      "outputs": [
        {
          "output_type": "stream",
          "name": "stdout",
          "text": [
            "x shape before reshape: torch.Size([1, 512, 14, 14])\n",
            "x shape after reshape: torch.Size([1, 512, 196])\n",
            "torch.Size([1, 512, 196])\n"
          ]
        }
      ]
    },
    {
      "cell_type": "markdown",
      "source": [
        "Bước thêm thông tin về vị trí vào các vector embedding"
      ],
      "metadata": {
        "id": "PWn_cH9qP6XK"
      }
    },
    {
      "cell_type": "code",
      "source": [
        "# Patch Positional Embedding\n",
        "class PatchPositionalEmbedding(nn.Module):\n",
        "  def __init__(self, embed_dim=512, patch_size=16, image_size=224):\n",
        "    super().__init__()\n",
        "    self.conv1 = nn.Conv2d(in_channels=3, out_channels=embed_dim, kernel_size=patch_size, stride=patch_size, bias=False)\n",
        "    scale = embed_dim ** -0.5 #?\n",
        "    print(embed_dim)\n",
        "    data = scale * torch.randn((image_size // patch_size) ** 2, embed_dim)#?\n",
        "    self.positional_embedding = nn.Parameter(data)\n",
        "\n",
        "  def forward(self, x):\n",
        "    x = self.conv1(x) # shape = [*, width, grid]\n",
        "    x = x.reshape(x.shape[0], x.shape[1], -1) # shape = [*, width, grid ** 2]\n",
        "    x = x.permute(0, 2, 1)  # shape = [*, grid ** 2, width]\n",
        "\n",
        "    x = x + self.positional_embedding.to('cpu') #?\n",
        "    return x\n"
      ],
      "metadata": {
        "id": "EGZg031dski5"
      },
      "execution_count": null,
      "outputs": []
    },
    {
      "cell_type": "code",
      "source": [
        "patchpos_embedding = PatchPositionalEmbedding()\n",
        "x = torch.randn(1, 3, 224, 224)\n",
        "\n",
        "out = patchpos_embedding(x)\n",
        "print(out.shape)"
      ],
      "metadata": {
        "id": "h4lkPj-jJ16r",
        "colab": {
          "base_uri": "https://localhost:8080/"
        },
        "outputId": "3da853b6-ecc8-457b-c2d4-58e5f7e62d71"
      },
      "execution_count": null,
      "outputs": [
        {
          "output_type": "stream",
          "name": "stdout",
          "text": [
            "512\n",
            "torch.Size([1, 196, 512])\n"
          ]
        }
      ]
    },
    {
      "cell_type": "markdown",
      "source": [
        "### Build model"
      ],
      "metadata": {
        "id": "6MPUYuahVY09"
      }
    },
    {
      "cell_type": "markdown",
      "source": [
        "`PatchPostionalEmbeddingCLSToken` là một class tổng hợp cả 3 bước: \\\n",
        " - Patch embedding\n",
        " - Positonal embedding\n",
        " - Add CLS token"
      ],
      "metadata": {
        "id": "O_BtRjUKQcV6"
      }
    },
    {
      "cell_type": "code",
      "source": [
        "# Adding [CLS] token\n",
        "class PatchPostionalEmbeddingCLSToken(nn.Module):\n",
        "  def __init__(self, embed_dim=512, patch_size=16, image_size=224):\n",
        "    super().__init__()\n",
        "\n",
        "    self.conv1 = nn.Conv2d(in_channels=3, out_channels=embed_dim, kernel_size=patch_size, stride=patch_size, bias=False)\n",
        "\n",
        "    scale = embed_dim ** -0.5\n",
        "\n",
        "    data_class_embedding = scale * torch.randn(embed_dim)\n",
        "    self.class_embedding = nn.Parameter(data_class_embedding)\n",
        "\n",
        "    #\n",
        "    data_positional_embedding = scale * torch.randn((image_size // patch_size) ** 2 + 1, embed_dim)\n",
        "    self.positional_embedding = nn.Parameter(data_positional_embedding)\n",
        "\n",
        "  def forward(self, x):\n",
        "    x = self.conv1(x) # shape = [*, width, grid, grid]\n",
        "    x = x.reshape(x.shape[0], x.shape[1], -1) # shape = [*, witdh, grid ** 2]\n",
        "    x = x.permute(0, 2, 1) # shape = [*, grid ** 2, width]\n",
        "\n",
        "    # expanding the CLS embedding\n",
        "    cls_embs = self.class_embedding.to(x.dtype) + torch.zeros(x.shape[0], 1, x.shape[-1], dtype=x.dtype, device=x.device)\n",
        "    x = torch.cat([cls_embs, x], dim=1) #shape = [*, grid ** 2 + 1, width]\n",
        "\n",
        "    x = x + self.positional_embedding.to(x.dtype)\n",
        "    return x\n"
      ],
      "metadata": {
        "id": "glLZ_dxeuy9T"
      },
      "execution_count": null,
      "outputs": []
    },
    {
      "cell_type": "code",
      "source": [
        "# ex\n",
        "patchpos_embedding = PatchPostionalEmbeddingCLSToken()\n",
        "x = torch.randn(1, 3, 224, 224)\n",
        "out = patchpos_embedding(x)\n",
        "print(out.shape)"
      ],
      "metadata": {
        "id": "4KtcrEyWEGmt",
        "colab": {
          "base_uri": "https://localhost:8080/"
        },
        "outputId": "e5a3b307-eda3-466f-cc34-8f059690a9b3"
      },
      "execution_count": null,
      "outputs": [
        {
          "output_type": "stream",
          "name": "stdout",
          "text": [
            "torch.Size([1, 197, 512])\n"
          ]
        }
      ]
    },
    {
      "cell_type": "markdown",
      "source": [
        "Mô hình Transformer Encoder cho ảnh"
      ],
      "metadata": {
        "id": "5c89M_CBRJ16"
      }
    },
    {
      "cell_type": "code",
      "source": [
        "# class\n",
        "class ViTTransformerEncoder(nn.Module):\n",
        "  def __init__(self, embed_dim, num_heads, ff_dim, dropout=0.1) -> None:\n",
        "    super().__init__()\n",
        "    self.norm_1 = nn.LayerNorm(normalized_shape=embed_dim, eps=1e-6)\n",
        "    self.attn = nn.MultiheadAttention(\n",
        "        embed_dim=embed_dim,\n",
        "        num_heads=num_heads,\n",
        "        batch_first=True\n",
        "    )\n",
        "    self.norm_2 = nn.LayerNorm(normalized_shape=embed_dim, eps=1e-6)\n",
        "    self.ffn = nn.Sequential(\n",
        "        nn.Linear(in_features=embed_dim, out_features=ff_dim, bias=True),\n",
        "        nn.GELU(),\n",
        "        nn.Linear(in_features=ff_dim, out_features=embed_dim, bias=True)\n",
        "    )\n",
        "    self.dropout_1 = nn.Dropout(p=dropout)\n",
        "    self.dropout_2 = nn.Dropout(p=dropout)\n",
        "\n",
        "  def forward(self, x):\n",
        "    # LayerNorm before Multi-Head Attention\n",
        "    norm_x1 = self.norm_1(x)\n",
        "    attn_output, _ = self.attn(norm_x1, norm_x1, norm_x1)\n",
        "    attn_output = self.dropout_1(attn_output)\n",
        "    x = x + attn_output # Residual connection\n",
        "\n",
        "    # LayerNorm before Feed-Forward Network\n",
        "    norm_x2 = self.norm_2(x)\n",
        "    ffn_output = self.ffn(norm_x2)\n",
        "    ffn_output = self.dropout_2(ffn_output)\n",
        "    x = x + ffn_output # Residual connection\n",
        "\n",
        "    return x"
      ],
      "metadata": {
        "id": "FPta8jigF2Ez"
      },
      "execution_count": null,
      "outputs": []
    },
    {
      "cell_type": "markdown",
      "source": [
        "Mô hình Vision Transformer"
      ],
      "metadata": {
        "id": "SS0AQOicRd82"
      }
    },
    {
      "cell_type": "code",
      "source": [
        "class VisionTransformerCLS(nn.Module):\n",
        "  def __init__(self,\n",
        "               image_size, embed_dim, num_heads, ff_dim,\n",
        "               dropout=0.1, num_classes=10, patch_size=16) -> None:\n",
        "    super().__init__()\n",
        "    self.embed_layer = PatchPostionalEmbeddingCLSToken(\n",
        "        image_size=image_size, embed_dim=embed_dim, patch_size=patch_size\n",
        "    )\n",
        "    self.transformer_layer = ViTTransformerEncoder(\n",
        "        embed_dim, num_heads, ff_dim, dropout\n",
        "    )\n",
        "    why_20 = 20\n",
        "    self.fc1 = nn.Linear(in_features=embed_dim, out_features=why_20)# why 20?\n",
        "    self.fc2 = nn.Linear(in_features=why_20, out_features=num_classes)\n",
        "    self.dropout = nn.Dropout(p=dropout)\n",
        "    self.relu = nn.ReLU()\n",
        "\n",
        "  def forward(self, x):\n",
        "    x = self.embed_layer(x)\n",
        "    #Corrected to single input\n",
        "    x = self.transformer_layer(x)\n",
        "    x = x[:, 0, :]\n",
        "\n",
        "    # Classification head\n",
        "    x = self.dropout(x)\n",
        "    x = self.fc1(x)\n",
        "    x = self.relu(x) # Optional activation for fc1\n",
        "    x = self.dropout(x)\n",
        "    x = self.fc2(x)\n",
        "    return x\n"
      ],
      "metadata": {
        "id": "dkpgIkn-Ij3U"
      },
      "execution_count": null,
      "outputs": []
    },
    {
      "cell_type": "code",
      "source": [
        "# ex\n",
        "image_size = 224\n",
        "embed_dim = 512\n",
        "num_heads = 4\n",
        "ff_dim = 128\n",
        "dropout = 0.1\n",
        "\n",
        "vit = VisionTransformerCLS(image_size, embed_dim, num_heads, ff_dim, dropout)"
      ],
      "metadata": {
        "id": "rfS1XWN48Ubq"
      },
      "execution_count": null,
      "outputs": []
    },
    {
      "cell_type": "code",
      "source": [
        "#ex\n",
        "x = torch.randn(1, 3, 224, 224)\n",
        "out = vit(x) # call model to classify\n",
        "print(out.shape)"
      ],
      "metadata": {
        "id": "AFGkmNjqNWrT",
        "colab": {
          "base_uri": "https://localhost:8080/"
        },
        "outputId": "6a671160-b9f0-4cd0-b71b-beae2fa5ddd5"
      },
      "execution_count": null,
      "outputs": [
        {
          "output_type": "stream",
          "name": "stdout",
          "text": [
            "torch.Size([1, 10])\n"
          ]
        }
      ]
    },
    {
      "cell_type": "markdown",
      "source": [
        "## Training"
      ],
      "metadata": {
        "id": "lLL_RR6sNujn"
      }
    },
    {
      "cell_type": "code",
      "source": [
        "import torch.optim as optim\n",
        "\n",
        "# Initialize model value\n",
        "image_size = 224 # change to value 32, cause by cifar10 having image size 32 pixel\n",
        "embed_dim = 512\n",
        "num_heads = 4\n",
        "ff_dim = 128\n",
        "dropout = 0.1\n",
        "learning_rate = 1e-5\n",
        "\n",
        "model = VisionTransformerCLS(\n",
        "    image_size, embed_dim, num_heads, ff_dim, dropout, num_classes=10\n",
        ")\n",
        "model.to(device)\n",
        "\n",
        "criterion = torch.nn.CrossEntropyLoss()\n",
        "optimizer = optim.Adam(model.parameters(), lr=learning_rate)"
      ],
      "metadata": {
        "id": "son_SW6iNsUt"
      },
      "execution_count": null,
      "outputs": []
    },
    {
      "cell_type": "code",
      "source": [
        "import time\n",
        "\n",
        "# train function\n",
        "def train_epoch(model, optimizer, criterion, train_dataloader, device, epoch=0, log_interval=50):\n",
        "  model.train()\n",
        "  total_acc, total_count = 0, 0 # total\n",
        "  losses = []\n",
        "  start_time = time.time()\n",
        "\n",
        "  for idx, (inputs, train_labels) in enumerate(train_dataloader):\n",
        "    inputs, train_labels = inputs.to(device), train_labels.to(device)\n",
        "\n",
        "    # reset gradient\n",
        "    optimizer.zero_grad()\n",
        "\n",
        "    # forward\n",
        "    predictions = model(inputs)\n",
        "\n",
        "    # loss\n",
        "    loss = criterion(predictions, train_labels)\n",
        "    losses.append(loss.item())\n",
        "\n",
        "    # backward\n",
        "    loss.backward()\n",
        "\n",
        "    # update weight\n",
        "    optimizer.step()\n",
        "\n",
        "    # Calculate the number of correct predictions in the current batch\n",
        "    #\n",
        "    total_acc += (predictions.argmax(1) == train_labels).sum().item()\n",
        "    # calculate train size\n",
        "    total_count += train_labels.size(0) # len(train_labels)\n",
        "\n",
        "    # print train for each epoch?...\n",
        "    # log_interval = num_epochs?\n",
        "    # idx =0,.. number of train loader(= train dataset / batch size) - 1\n",
        "    if idx % log_interval == 0 and idx > 0:\n",
        "      elapsed = time.time() - start_time\n",
        "      print(\n",
        "          \"| epoch {:3d} | {:5d}/{:5d} batches \"\n",
        "          \"| accuracy {:8.3f}\".format(\n",
        "              epoch, idx, len(train_dataloader), total_acc / total_count\n",
        "          )\n",
        "      )\n",
        "      # total_acc, total_count = 0, 0 # why reset them?\n",
        "      start_time = time.time()\n",
        "  epoch_acc = total_acc / total_count # average accuracy loss\n",
        "  epoch_loss = sum(losses) / len(losses) # average train loss\n",
        "  return epoch_acc, epoch_loss\n"
      ],
      "metadata": {
        "id": "zwhBd4NTPVah"
      },
      "execution_count": null,
      "outputs": []
    },
    {
      "cell_type": "code",
      "source": [
        "#validation fucntion\n",
        "def validation_epoch(model, criterion, val_dataloader, device):\n",
        "  model.eval()\n",
        "  total_acc, total_count = 0, 0\n",
        "  losses = []\n",
        "\n",
        "  # does not need call update gradient\n",
        "  with torch.no_grad():\n",
        "    for idx, (inputs, val_labels) in enumerate(val_dataloader):\n",
        "      inputs, val_labels = inputs.to(device), val_labels.to(device)\n",
        "\n",
        "      predictions = model(inputs)\n",
        "\n",
        "      loss = criterion(predictions, val_labels)\n",
        "      losses.append(loss.item())\n",
        "\n",
        "      total_acc += (predictions.argmax(1) == val_labels).sum().item()\n",
        "      total_count += val_labels.size(0)\n",
        "\n",
        "  epoch_acc = total_acc / total_count\n",
        "  epoch_loss = sum(losses) / len(losses)\n",
        "  return epoch_acc, epoch_loss"
      ],
      "metadata": {
        "id": "14Wm2pWdRHI0"
      },
      "execution_count": null,
      "outputs": []
    },
    {
      "cell_type": "code",
      "source": [
        "def train(model, model_name, save_model_path, optimizer, criterion, dataloader, num_epochs, device):\n",
        "  \"\"\"\n",
        "  Usage: Train, validate model and save model\n",
        "  dataloader = [train_dataloader, val_loader]\n",
        "  \"\"\"\n",
        "  train_lost_list, train_acc_list = [], []\n",
        "  val_lost_list, val_acc_list = [], []\n",
        "  times = []\n",
        "  best_loss_eval = 100\n",
        "  train_loader, val_loader = dataloader[0], dataloader[1]\n",
        "  for epoch in range(num_epochs):\n",
        "    epoch_start_time = time.time()\n",
        "    #train state\n",
        "    train_acc, train_lost = train_epoch(model, optimizer, criterion, train_loader, device, epoch + 1, log_interval=int(len(train_loader) / 4))\n",
        "\n",
        "    #validate state\n",
        "    val_acc, val_lost = validation_epoch(model, criterion, val_loader, device)\n",
        "\n",
        "    # save the best model\n",
        "    if val_lost < best_loss_eval:\n",
        "      torch.save(model.state_dict(), save_model_path + f'/{model_name}.pt')\n",
        "\n",
        "    times.append(time.time() - epoch_start_time)\n",
        "\n",
        "    # append value\n",
        "    train_lost_list.append(train_lost)\n",
        "    train_acc_list.append(train_acc)\n",
        "    val_lost_list.append(val_lost)\n",
        "    val_acc_list.append(val_acc)\n",
        "\n",
        "    # print result for each epoch\n",
        "    print(\"-\" * 59)\n",
        "    print(\n",
        "        \"| End of epoch {:3d} | Time: {:5.2f}s | Train Accuracy {:8.3f}  | Train Loss {:8.3f} \"\n",
        "        \"| Validate Accuracy {:8.3f} | Validate Loss {:8.3f}\".format(\n",
        "            epoch + 1, time.time() - epoch_start_time, train_acc, train_lost, val_acc, val_lost\n",
        "        )\n",
        "    )\n",
        "    print(\"-\" * 59)\n",
        "  # Load best model de lam gi?\n",
        "  model.load_state_dict(torch.load(save_model_path + f'/{model_name}.pt'))\n",
        "  model.eval()\n",
        "  metrics = {\n",
        "      'train_accuracy' : train_acc_list,\n",
        "      'train_loss' : train_lost_list,\n",
        "      'val_accuracy' : val_acc_list,\n",
        "      'val_loss' : val_lost_list,\n",
        "      'time' : times\n",
        "  }\n",
        "  return model, metrics"
      ],
      "metadata": {
        "id": "-ZClHdmWRp1V"
      },
      "execution_count": null,
      "outputs": []
    },
    {
      "cell_type": "code",
      "source": [
        "import os\n",
        "#input out put cua bai toan la gi, co the cai tien, kho khan cua bai toan la gi,\n",
        "# co the cai tien bai toan nay hay khong?\n",
        "# training and save model\n",
        "num_epochs = 100\n",
        "save_model_path = './model'\n",
        "os.makedirs(save_model_path, exist_ok=True)\n",
        "model_name = 'model_vit_cifar10'\n",
        "\n",
        "dataloader = [train_loader, val_loader]\n",
        "print(device)\n",
        "model, metrics = train(\n",
        "    model, model_name, save_model_path, optimizer, criterion, dataloader, num_epochs, device\n",
        ")"
      ],
      "metadata": {
        "id": "nYs2llzcO5YZ",
        "colab": {
          "base_uri": "https://localhost:8080/"
        },
        "outputId": "8a1aa0ef-7d0b-42ca-bd64-f80be90aee4a"
      },
      "execution_count": null,
      "outputs": [
        {
          "output_type": "stream",
          "name": "stdout",
          "text": [
            "cuda\n",
            "| epoch   1 |   176/  704 batches | accuracy    0.598\n",
            "| epoch   1 |   352/  704 batches | accuracy    0.599\n",
            "| epoch   1 |   528/  704 batches | accuracy    0.602\n",
            "-----------------------------------------------------------\n",
            "| End of epoch   1 | Time: 47.81s | Train Accuracy    0.602  | Train Loss    1.119 | Validate Accuracy    0.597 | Validate Loss    1.113\n",
            "-----------------------------------------------------------\n",
            "| epoch   2 |   176/  704 batches | accuracy    0.605\n",
            "| epoch   2 |   352/  704 batches | accuracy    0.602\n",
            "| epoch   2 |   528/  704 batches | accuracy    0.602\n",
            "-----------------------------------------------------------\n",
            "| End of epoch   2 | Time: 48.06s | Train Accuracy    0.603  | Train Loss    1.115 | Validate Accuracy    0.591 | Validate Loss    1.127\n",
            "-----------------------------------------------------------\n",
            "| epoch   3 |   176/  704 batches | accuracy    0.605\n",
            "| epoch   3 |   352/  704 batches | accuracy    0.604\n",
            "| epoch   3 |   528/  704 batches | accuracy    0.603\n",
            "-----------------------------------------------------------\n",
            "| End of epoch   3 | Time: 48.54s | Train Accuracy    0.602  | Train Loss    1.113 | Validate Accuracy    0.597 | Validate Loss    1.118\n",
            "-----------------------------------------------------------\n",
            "| epoch   4 |   176/  704 batches | accuracy    0.605\n",
            "| epoch   4 |   352/  704 batches | accuracy    0.604\n",
            "| epoch   4 |   528/  704 batches | accuracy    0.604\n",
            "-----------------------------------------------------------\n",
            "| End of epoch   4 | Time: 48.86s | Train Accuracy    0.605  | Train Loss    1.110 | Validate Accuracy    0.592 | Validate Loss    1.127\n",
            "-----------------------------------------------------------\n",
            "| epoch   5 |   176/  704 batches | accuracy    0.598\n",
            "| epoch   5 |   352/  704 batches | accuracy    0.602\n",
            "| epoch   5 |   528/  704 batches | accuracy    0.599\n",
            "-----------------------------------------------------------\n",
            "| End of epoch   5 | Time: 49.04s | Train Accuracy    0.602  | Train Loss    1.113 | Validate Accuracy    0.584 | Validate Loss    1.124\n",
            "-----------------------------------------------------------\n",
            "| epoch   6 |   176/  704 batches | accuracy    0.602\n",
            "| epoch   6 |   352/  704 batches | accuracy    0.606\n",
            "| epoch   6 |   528/  704 batches | accuracy    0.604\n",
            "-----------------------------------------------------------\n",
            "| End of epoch   6 | Time: 49.41s | Train Accuracy    0.604  | Train Loss    1.105 | Validate Accuracy    0.595 | Validate Loss    1.109\n",
            "-----------------------------------------------------------\n",
            "| epoch   7 |   176/  704 batches | accuracy    0.608\n",
            "| epoch   7 |   352/  704 batches | accuracy    0.607\n",
            "| epoch   7 |   528/  704 batches | accuracy    0.605\n",
            "-----------------------------------------------------------\n",
            "| End of epoch   7 | Time: 49.49s | Train Accuracy    0.606  | Train Loss    1.102 | Validate Accuracy    0.595 | Validate Loss    1.134\n",
            "-----------------------------------------------------------\n",
            "| epoch   8 |   176/  704 batches | accuracy    0.601\n",
            "| epoch   8 |   352/  704 batches | accuracy    0.604\n",
            "| epoch   8 |   528/  704 batches | accuracy    0.604\n",
            "-----------------------------------------------------------\n",
            "| End of epoch   8 | Time: 49.47s | Train Accuracy    0.606  | Train Loss    1.101 | Validate Accuracy    0.589 | Validate Loss    1.130\n",
            "-----------------------------------------------------------\n",
            "| epoch   9 |   176/  704 batches | accuracy    0.608\n",
            "| epoch   9 |   352/  704 batches | accuracy    0.609\n",
            "| epoch   9 |   528/  704 batches | accuracy    0.607\n",
            "-----------------------------------------------------------\n",
            "| End of epoch   9 | Time: 49.67s | Train Accuracy    0.609  | Train Loss    1.097 | Validate Accuracy    0.603 | Validate Loss    1.109\n",
            "-----------------------------------------------------------\n",
            "| epoch  10 |   176/  704 batches | accuracy    0.612\n",
            "| epoch  10 |   352/  704 batches | accuracy    0.611\n",
            "| epoch  10 |   528/  704 batches | accuracy    0.611\n",
            "-----------------------------------------------------------\n",
            "| End of epoch  10 | Time: 49.76s | Train Accuracy    0.611  | Train Loss    1.091 | Validate Accuracy    0.601 | Validate Loss    1.105\n",
            "-----------------------------------------------------------\n",
            "| epoch  11 |   176/  704 batches | accuracy    0.610\n",
            "| epoch  11 |   352/  704 batches | accuracy    0.607\n",
            "| epoch  11 |   528/  704 batches | accuracy    0.607\n",
            "-----------------------------------------------------------\n",
            "| End of epoch  11 | Time: 49.71s | Train Accuracy    0.607  | Train Loss    1.094 | Validate Accuracy    0.602 | Validate Loss    1.100\n",
            "-----------------------------------------------------------\n",
            "| epoch  12 |   176/  704 batches | accuracy    0.605\n",
            "| epoch  12 |   352/  704 batches | accuracy    0.609\n",
            "| epoch  12 |   528/  704 batches | accuracy    0.610\n",
            "-----------------------------------------------------------\n",
            "| End of epoch  12 | Time: 49.82s | Train Accuracy    0.610  | Train Loss    1.092 | Validate Accuracy    0.598 | Validate Loss    1.095\n",
            "-----------------------------------------------------------\n",
            "| epoch  13 |   176/  704 batches | accuracy    0.611\n",
            "| epoch  13 |   352/  704 batches | accuracy    0.613\n",
            "| epoch  13 |   528/  704 batches | accuracy    0.613\n",
            "-----------------------------------------------------------\n",
            "| End of epoch  13 | Time: 49.72s | Train Accuracy    0.611  | Train Loss    1.090 | Validate Accuracy    0.601 | Validate Loss    1.106\n",
            "-----------------------------------------------------------\n",
            "| epoch  14 |   176/  704 batches | accuracy    0.614\n",
            "| epoch  14 |   352/  704 batches | accuracy    0.613\n",
            "| epoch  14 |   528/  704 batches | accuracy    0.613\n",
            "-----------------------------------------------------------\n",
            "| End of epoch  14 | Time: 49.54s | Train Accuracy    0.611  | Train Loss    1.083 | Validate Accuracy    0.598 | Validate Loss    1.099\n",
            "-----------------------------------------------------------\n",
            "| epoch  15 |   176/  704 batches | accuracy    0.613\n",
            "| epoch  15 |   352/  704 batches | accuracy    0.609\n",
            "| epoch  15 |   528/  704 batches | accuracy    0.610\n",
            "-----------------------------------------------------------\n",
            "| End of epoch  15 | Time: 49.57s | Train Accuracy    0.611  | Train Loss    1.082 | Validate Accuracy    0.604 | Validate Loss    1.105\n",
            "-----------------------------------------------------------\n",
            "| epoch  16 |   176/  704 batches | accuracy    0.616\n",
            "| epoch  16 |   352/  704 batches | accuracy    0.614\n",
            "| epoch  16 |   528/  704 batches | accuracy    0.612\n",
            "-----------------------------------------------------------\n",
            "| End of epoch  16 | Time: 49.86s | Train Accuracy    0.612  | Train Loss    1.085 | Validate Accuracy    0.597 | Validate Loss    1.104\n",
            "-----------------------------------------------------------\n",
            "| epoch  17 |   176/  704 batches | accuracy    0.613\n",
            "| epoch  17 |   352/  704 batches | accuracy    0.615\n",
            "| epoch  17 |   528/  704 batches | accuracy    0.616\n",
            "-----------------------------------------------------------\n",
            "| End of epoch  17 | Time: 49.69s | Train Accuracy    0.615  | Train Loss    1.078 | Validate Accuracy    0.599 | Validate Loss    1.100\n",
            "-----------------------------------------------------------\n",
            "| epoch  18 |   176/  704 batches | accuracy    0.614\n",
            "| epoch  18 |   352/  704 batches | accuracy    0.613\n",
            "| epoch  18 |   528/  704 batches | accuracy    0.615\n",
            "-----------------------------------------------------------\n",
            "| End of epoch  18 | Time: 49.70s | Train Accuracy    0.616  | Train Loss    1.080 | Validate Accuracy    0.594 | Validate Loss    1.100\n",
            "-----------------------------------------------------------\n",
            "| epoch  19 |   176/  704 batches | accuracy    0.616\n",
            "| epoch  19 |   352/  704 batches | accuracy    0.620\n",
            "| epoch  19 |   528/  704 batches | accuracy    0.619\n",
            "-----------------------------------------------------------\n",
            "| End of epoch  19 | Time: 49.84s | Train Accuracy    0.617  | Train Loss    1.072 | Validate Accuracy    0.606 | Validate Loss    1.091\n",
            "-----------------------------------------------------------\n",
            "| epoch  20 |   176/  704 batches | accuracy    0.613\n",
            "| epoch  20 |   352/  704 batches | accuracy    0.612\n",
            "| epoch  20 |   528/  704 batches | accuracy    0.614\n",
            "-----------------------------------------------------------\n",
            "| End of epoch  20 | Time: 49.96s | Train Accuracy    0.616  | Train Loss    1.072 | Validate Accuracy    0.597 | Validate Loss    1.114\n",
            "-----------------------------------------------------------\n",
            "| epoch  21 |   176/  704 batches | accuracy    0.619\n",
            "| epoch  21 |   352/  704 batches | accuracy    0.617\n",
            "| epoch  21 |   528/  704 batches | accuracy    0.615\n",
            "-----------------------------------------------------------\n",
            "| End of epoch  21 | Time: 49.99s | Train Accuracy    0.617  | Train Loss    1.073 | Validate Accuracy    0.596 | Validate Loss    1.107\n",
            "-----------------------------------------------------------\n",
            "| epoch  22 |   176/  704 batches | accuracy    0.610\n",
            "| epoch  22 |   352/  704 batches | accuracy    0.614\n",
            "| epoch  22 |   528/  704 batches | accuracy    0.617\n",
            "-----------------------------------------------------------\n",
            "| End of epoch  22 | Time: 50.25s | Train Accuracy    0.617  | Train Loss    1.070 | Validate Accuracy    0.600 | Validate Loss    1.099\n",
            "-----------------------------------------------------------\n",
            "| epoch  23 |   176/  704 batches | accuracy    0.616\n",
            "| epoch  23 |   352/  704 batches | accuracy    0.616\n",
            "| epoch  23 |   528/  704 batches | accuracy    0.616\n",
            "-----------------------------------------------------------\n",
            "| End of epoch  23 | Time: 50.11s | Train Accuracy    0.617  | Train Loss    1.066 | Validate Accuracy    0.601 | Validate Loss    1.103\n",
            "-----------------------------------------------------------\n",
            "| epoch  24 |   176/  704 batches | accuracy    0.617\n",
            "| epoch  24 |   352/  704 batches | accuracy    0.621\n",
            "| epoch  24 |   528/  704 batches | accuracy    0.622\n",
            "-----------------------------------------------------------\n",
            "| End of epoch  24 | Time: 50.04s | Train Accuracy    0.621  | Train Loss    1.065 | Validate Accuracy    0.604 | Validate Loss    1.089\n",
            "-----------------------------------------------------------\n",
            "| epoch  25 |   176/  704 batches | accuracy    0.622\n",
            "| epoch  25 |   352/  704 batches | accuracy    0.622\n",
            "| epoch  25 |   528/  704 batches | accuracy    0.620\n",
            "-----------------------------------------------------------\n",
            "| End of epoch  25 | Time: 50.09s | Train Accuracy    0.621  | Train Loss    1.063 | Validate Accuracy    0.608 | Validate Loss    1.082\n",
            "-----------------------------------------------------------\n",
            "| epoch  26 |   176/  704 batches | accuracy    0.625\n",
            "| epoch  26 |   352/  704 batches | accuracy    0.624\n",
            "| epoch  26 |   528/  704 batches | accuracy    0.623\n",
            "-----------------------------------------------------------\n",
            "| End of epoch  26 | Time: 50.04s | Train Accuracy    0.622  | Train Loss    1.060 | Validate Accuracy    0.605 | Validate Loss    1.088\n",
            "-----------------------------------------------------------\n",
            "| epoch  27 |   176/  704 batches | accuracy    0.617\n",
            "| epoch  27 |   352/  704 batches | accuracy    0.624\n",
            "| epoch  27 |   528/  704 batches | accuracy    0.623\n",
            "-----------------------------------------------------------\n",
            "| End of epoch  27 | Time: 50.17s | Train Accuracy    0.623  | Train Loss    1.061 | Validate Accuracy    0.605 | Validate Loss    1.102\n",
            "-----------------------------------------------------------\n",
            "| epoch  28 |   176/  704 batches | accuracy    0.618\n",
            "| epoch  28 |   352/  704 batches | accuracy    0.622\n",
            "| epoch  28 |   528/  704 batches | accuracy    0.623\n",
            "-----------------------------------------------------------\n",
            "| End of epoch  28 | Time: 50.27s | Train Accuracy    0.624  | Train Loss    1.056 | Validate Accuracy    0.607 | Validate Loss    1.091\n",
            "-----------------------------------------------------------\n",
            "| epoch  29 |   176/  704 batches | accuracy    0.629\n",
            "| epoch  29 |   352/  704 batches | accuracy    0.628\n",
            "| epoch  29 |   528/  704 batches | accuracy    0.627\n",
            "-----------------------------------------------------------\n",
            "| End of epoch  29 | Time: 50.02s | Train Accuracy    0.625  | Train Loss    1.055 | Validate Accuracy    0.602 | Validate Loss    1.088\n",
            "-----------------------------------------------------------\n",
            "| epoch  30 |   176/  704 batches | accuracy    0.629\n",
            "| epoch  30 |   352/  704 batches | accuracy    0.629\n",
            "| epoch  30 |   528/  704 batches | accuracy    0.627\n",
            "-----------------------------------------------------------\n",
            "| End of epoch  30 | Time: 50.20s | Train Accuracy    0.625  | Train Loss    1.052 | Validate Accuracy    0.607 | Validate Loss    1.087\n",
            "-----------------------------------------------------------\n",
            "| epoch  31 |   176/  704 batches | accuracy    0.637\n",
            "| epoch  31 |   352/  704 batches | accuracy    0.629\n",
            "| epoch  31 |   528/  704 batches | accuracy    0.629\n",
            "-----------------------------------------------------------\n",
            "| End of epoch  31 | Time: 49.95s | Train Accuracy    0.628  | Train Loss    1.046 | Validate Accuracy    0.594 | Validate Loss    1.112\n",
            "-----------------------------------------------------------\n",
            "| epoch  32 |   176/  704 batches | accuracy    0.627\n",
            "| epoch  32 |   352/  704 batches | accuracy    0.627\n",
            "| epoch  32 |   528/  704 batches | accuracy    0.626\n",
            "-----------------------------------------------------------\n",
            "| End of epoch  32 | Time: 49.86s | Train Accuracy    0.625  | Train Loss    1.051 | Validate Accuracy    0.605 | Validate Loss    1.089\n",
            "-----------------------------------------------------------\n",
            "| epoch  33 |   176/  704 batches | accuracy    0.636\n",
            "| epoch  33 |   352/  704 batches | accuracy    0.632\n",
            "| epoch  33 |   528/  704 batches | accuracy    0.630\n",
            "-----------------------------------------------------------\n",
            "| End of epoch  33 | Time: 49.80s | Train Accuracy    0.628  | Train Loss    1.047 | Validate Accuracy    0.609 | Validate Loss    1.084\n",
            "-----------------------------------------------------------\n",
            "| epoch  34 |   176/  704 batches | accuracy    0.633\n",
            "| epoch  34 |   352/  704 batches | accuracy    0.629\n",
            "| epoch  34 |   528/  704 batches | accuracy    0.632\n",
            "-----------------------------------------------------------\n",
            "| End of epoch  34 | Time: 49.89s | Train Accuracy    0.629  | Train Loss    1.042 | Validate Accuracy    0.606 | Validate Loss    1.074\n",
            "-----------------------------------------------------------\n",
            "| epoch  35 |   176/  704 batches | accuracy    0.627\n",
            "| epoch  35 |   352/  704 batches | accuracy    0.627\n",
            "| epoch  35 |   528/  704 batches | accuracy    0.630\n",
            "-----------------------------------------------------------\n",
            "| End of epoch  35 | Time: 49.84s | Train Accuracy    0.631  | Train Loss    1.040 | Validate Accuracy    0.613 | Validate Loss    1.078\n",
            "-----------------------------------------------------------\n",
            "| epoch  36 |   176/  704 batches | accuracy    0.630\n",
            "| epoch  36 |   352/  704 batches | accuracy    0.630\n",
            "| epoch  36 |   528/  704 batches | accuracy    0.630\n",
            "-----------------------------------------------------------\n",
            "| End of epoch  36 | Time: 49.72s | Train Accuracy    0.629  | Train Loss    1.043 | Validate Accuracy    0.608 | Validate Loss    1.079\n",
            "-----------------------------------------------------------\n",
            "| epoch  37 |   176/  704 batches | accuracy    0.635\n",
            "| epoch  37 |   352/  704 batches | accuracy    0.636\n",
            "| epoch  37 |   528/  704 batches | accuracy    0.635\n",
            "-----------------------------------------------------------\n",
            "| End of epoch  37 | Time: 49.77s | Train Accuracy    0.633  | Train Loss    1.039 | Validate Accuracy    0.610 | Validate Loss    1.072\n",
            "-----------------------------------------------------------\n",
            "| epoch  38 |   176/  704 batches | accuracy    0.632\n",
            "| epoch  38 |   352/  704 batches | accuracy    0.630\n",
            "| epoch  38 |   528/  704 batches | accuracy    0.634\n",
            "-----------------------------------------------------------\n",
            "| End of epoch  38 | Time: 49.70s | Train Accuracy    0.631  | Train Loss    1.034 | Validate Accuracy    0.597 | Validate Loss    1.099\n",
            "-----------------------------------------------------------\n",
            "| epoch  39 |   176/  704 batches | accuracy    0.634\n",
            "| epoch  39 |   352/  704 batches | accuracy    0.634\n",
            "| epoch  39 |   528/  704 batches | accuracy    0.633\n",
            "-----------------------------------------------------------\n",
            "| End of epoch  39 | Time: 49.95s | Train Accuracy    0.634  | Train Loss    1.029 | Validate Accuracy    0.606 | Validate Loss    1.091\n",
            "-----------------------------------------------------------\n",
            "| epoch  40 |   176/  704 batches | accuracy    0.636\n",
            "| epoch  40 |   352/  704 batches | accuracy    0.633\n",
            "| epoch  40 |   528/  704 batches | accuracy    0.632\n",
            "-----------------------------------------------------------\n",
            "| End of epoch  40 | Time: 49.77s | Train Accuracy    0.631  | Train Loss    1.030 | Validate Accuracy    0.618 | Validate Loss    1.068\n",
            "-----------------------------------------------------------\n",
            "| epoch  41 |   176/  704 batches | accuracy    0.641\n",
            "| epoch  41 |   352/  704 batches | accuracy    0.638\n",
            "| epoch  41 |   528/  704 batches | accuracy    0.634\n",
            "-----------------------------------------------------------\n",
            "| End of epoch  41 | Time: 49.62s | Train Accuracy    0.632  | Train Loss    1.030 | Validate Accuracy    0.597 | Validate Loss    1.105\n",
            "-----------------------------------------------------------\n",
            "| epoch  42 |   176/  704 batches | accuracy    0.636\n",
            "| epoch  42 |   352/  704 batches | accuracy    0.637\n",
            "| epoch  42 |   528/  704 batches | accuracy    0.636\n",
            "-----------------------------------------------------------\n",
            "| End of epoch  42 | Time: 49.79s | Train Accuracy    0.635  | Train Loss    1.026 | Validate Accuracy    0.613 | Validate Loss    1.080\n",
            "-----------------------------------------------------------\n",
            "| epoch  43 |   176/  704 batches | accuracy    0.634\n",
            "| epoch  43 |   352/  704 batches | accuracy    0.637\n",
            "| epoch  43 |   528/  704 batches | accuracy    0.637\n",
            "-----------------------------------------------------------\n",
            "| End of epoch  43 | Time: 49.63s | Train Accuracy    0.638  | Train Loss    1.024 | Validate Accuracy    0.607 | Validate Loss    1.078\n",
            "-----------------------------------------------------------\n",
            "| epoch  44 |   176/  704 batches | accuracy    0.639\n",
            "| epoch  44 |   352/  704 batches | accuracy    0.635\n",
            "| epoch  44 |   528/  704 batches | accuracy    0.634\n",
            "-----------------------------------------------------------\n",
            "| End of epoch  44 | Time: 49.62s | Train Accuracy    0.632  | Train Loss    1.028 | Validate Accuracy    0.612 | Validate Loss    1.074\n",
            "-----------------------------------------------------------\n",
            "| epoch  45 |   176/  704 batches | accuracy    0.640\n",
            "| epoch  45 |   352/  704 batches | accuracy    0.636\n",
            "| epoch  45 |   528/  704 batches | accuracy    0.636\n",
            "-----------------------------------------------------------\n",
            "| End of epoch  45 | Time: 49.68s | Train Accuracy    0.636  | Train Loss    1.024 | Validate Accuracy    0.613 | Validate Loss    1.065\n",
            "-----------------------------------------------------------\n",
            "| epoch  46 |   176/  704 batches | accuracy    0.636\n",
            "| epoch  46 |   352/  704 batches | accuracy    0.638\n",
            "| epoch  46 |   528/  704 batches | accuracy    0.637\n",
            "-----------------------------------------------------------\n",
            "| End of epoch  46 | Time: 49.62s | Train Accuracy    0.637  | Train Loss    1.021 | Validate Accuracy    0.602 | Validate Loss    1.099\n",
            "-----------------------------------------------------------\n",
            "| epoch  47 |   176/  704 batches | accuracy    0.641\n",
            "| epoch  47 |   352/  704 batches | accuracy    0.635\n",
            "| epoch  47 |   528/  704 batches | accuracy    0.636\n",
            "-----------------------------------------------------------\n",
            "| End of epoch  47 | Time: 49.45s | Train Accuracy    0.636  | Train Loss    1.017 | Validate Accuracy    0.609 | Validate Loss    1.086\n",
            "-----------------------------------------------------------\n",
            "| epoch  48 |   176/  704 batches | accuracy    0.642\n",
            "| epoch  48 |   352/  704 batches | accuracy    0.641\n",
            "| epoch  48 |   528/  704 batches | accuracy    0.641\n",
            "-----------------------------------------------------------\n",
            "| End of epoch  48 | Time: 49.46s | Train Accuracy    0.639  | Train Loss    1.017 | Validate Accuracy    0.611 | Validate Loss    1.070\n",
            "-----------------------------------------------------------\n",
            "| epoch  49 |   176/  704 batches | accuracy    0.635\n",
            "| epoch  49 |   352/  704 batches | accuracy    0.636\n",
            "| epoch  49 |   528/  704 batches | accuracy    0.635\n",
            "-----------------------------------------------------------\n",
            "| End of epoch  49 | Time: 49.55s | Train Accuracy    0.635  | Train Loss    1.017 | Validate Accuracy    0.610 | Validate Loss    1.085\n",
            "-----------------------------------------------------------\n",
            "| epoch  50 |   176/  704 batches | accuracy    0.634\n",
            "| epoch  50 |   352/  704 batches | accuracy    0.635\n",
            "| epoch  50 |   528/  704 batches | accuracy    0.638\n",
            "-----------------------------------------------------------\n",
            "| End of epoch  50 | Time: 49.57s | Train Accuracy    0.638  | Train Loss    1.012 | Validate Accuracy    0.617 | Validate Loss    1.068\n",
            "-----------------------------------------------------------\n",
            "| epoch  51 |   176/  704 batches | accuracy    0.638\n",
            "| epoch  51 |   352/  704 batches | accuracy    0.638\n",
            "| epoch  51 |   528/  704 batches | accuracy    0.637\n",
            "-----------------------------------------------------------\n",
            "| End of epoch  51 | Time: 49.60s | Train Accuracy    0.640  | Train Loss    1.010 | Validate Accuracy    0.606 | Validate Loss    1.080\n",
            "-----------------------------------------------------------\n",
            "| epoch  52 |   176/  704 batches | accuracy    0.635\n",
            "| epoch  52 |   352/  704 batches | accuracy    0.643\n",
            "| epoch  52 |   528/  704 batches | accuracy    0.642\n",
            "-----------------------------------------------------------\n",
            "| End of epoch  52 | Time: 49.77s | Train Accuracy    0.640  | Train Loss    1.010 | Validate Accuracy    0.604 | Validate Loss    1.081\n",
            "-----------------------------------------------------------\n",
            "| epoch  53 |   176/  704 batches | accuracy    0.646\n",
            "| epoch  53 |   352/  704 batches | accuracy    0.649\n",
            "| epoch  53 |   528/  704 batches | accuracy    0.644\n",
            "-----------------------------------------------------------\n",
            "| End of epoch  53 | Time: 49.50s | Train Accuracy    0.644  | Train Loss    1.006 | Validate Accuracy    0.614 | Validate Loss    1.067\n",
            "-----------------------------------------------------------\n",
            "| epoch  54 |   176/  704 batches | accuracy    0.645\n",
            "| epoch  54 |   352/  704 batches | accuracy    0.647\n",
            "| epoch  54 |   528/  704 batches | accuracy    0.641\n",
            "-----------------------------------------------------------\n",
            "| End of epoch  54 | Time: 49.59s | Train Accuracy    0.640  | Train Loss    1.010 | Validate Accuracy    0.614 | Validate Loss    1.065\n",
            "-----------------------------------------------------------\n",
            "| epoch  55 |   176/  704 batches | accuracy    0.646\n",
            "| epoch  55 |   352/  704 batches | accuracy    0.643\n",
            "| epoch  55 |   528/  704 batches | accuracy    0.643\n",
            "-----------------------------------------------------------\n",
            "| End of epoch  55 | Time: 49.64s | Train Accuracy    0.642  | Train Loss    1.005 | Validate Accuracy    0.614 | Validate Loss    1.078\n",
            "-----------------------------------------------------------\n",
            "| epoch  56 |   176/  704 batches | accuracy    0.637\n",
            "| epoch  56 |   352/  704 batches | accuracy    0.638\n",
            "| epoch  56 |   528/  704 batches | accuracy    0.641\n",
            "-----------------------------------------------------------\n",
            "| End of epoch  56 | Time: 49.49s | Train Accuracy    0.642  | Train Loss    1.004 | Validate Accuracy    0.609 | Validate Loss    1.086\n",
            "-----------------------------------------------------------\n",
            "| epoch  57 |   176/  704 batches | accuracy    0.640\n",
            "| epoch  57 |   352/  704 batches | accuracy    0.639\n",
            "| epoch  57 |   528/  704 batches | accuracy    0.642\n",
            "-----------------------------------------------------------\n",
            "| End of epoch  57 | Time: 49.52s | Train Accuracy    0.643  | Train Loss    0.999 | Validate Accuracy    0.612 | Validate Loss    1.074\n",
            "-----------------------------------------------------------\n",
            "| epoch  58 |   176/  704 batches | accuracy    0.647\n",
            "| epoch  58 |   352/  704 batches | accuracy    0.648\n",
            "| epoch  58 |   528/  704 batches | accuracy    0.645\n",
            "-----------------------------------------------------------\n",
            "| End of epoch  58 | Time: 49.60s | Train Accuracy    0.643  | Train Loss    1.001 | Validate Accuracy    0.619 | Validate Loss    1.061\n",
            "-----------------------------------------------------------\n",
            "| epoch  59 |   176/  704 batches | accuracy    0.645\n",
            "| epoch  59 |   352/  704 batches | accuracy    0.650\n",
            "| epoch  59 |   528/  704 batches | accuracy    0.648\n",
            "-----------------------------------------------------------\n",
            "| End of epoch  59 | Time: 49.55s | Train Accuracy    0.647  | Train Loss    0.996 | Validate Accuracy    0.615 | Validate Loss    1.072\n",
            "-----------------------------------------------------------\n",
            "| epoch  60 |   176/  704 batches | accuracy    0.644\n",
            "| epoch  60 |   352/  704 batches | accuracy    0.647\n",
            "| epoch  60 |   528/  704 batches | accuracy    0.646\n",
            "-----------------------------------------------------------\n",
            "| End of epoch  60 | Time: 49.64s | Train Accuracy    0.644  | Train Loss    0.997 | Validate Accuracy    0.617 | Validate Loss    1.064\n",
            "-----------------------------------------------------------\n",
            "| epoch  61 |   176/  704 batches | accuracy    0.648\n",
            "| epoch  61 |   352/  704 batches | accuracy    0.647\n",
            "| epoch  61 |   528/  704 batches | accuracy    0.647\n",
            "-----------------------------------------------------------\n",
            "| End of epoch  61 | Time: 49.67s | Train Accuracy    0.646  | Train Loss    0.995 | Validate Accuracy    0.618 | Validate Loss    1.059\n",
            "-----------------------------------------------------------\n",
            "| epoch  62 |   176/  704 batches | accuracy    0.648\n",
            "| epoch  62 |   352/  704 batches | accuracy    0.649\n",
            "| epoch  62 |   528/  704 batches | accuracy    0.646\n",
            "-----------------------------------------------------------\n",
            "| End of epoch  62 | Time: 49.48s | Train Accuracy    0.645  | Train Loss    0.992 | Validate Accuracy    0.607 | Validate Loss    1.086\n",
            "-----------------------------------------------------------\n",
            "| epoch  63 |   176/  704 batches | accuracy    0.654\n",
            "| epoch  63 |   352/  704 batches | accuracy    0.653\n",
            "| epoch  63 |   528/  704 batches | accuracy    0.651\n",
            "-----------------------------------------------------------\n",
            "| End of epoch  63 | Time: 49.46s | Train Accuracy    0.648  | Train Loss    0.991 | Validate Accuracy    0.617 | Validate Loss    1.064\n",
            "-----------------------------------------------------------\n",
            "| epoch  64 |   176/  704 batches | accuracy    0.655\n",
            "| epoch  64 |   352/  704 batches | accuracy    0.654\n",
            "| epoch  64 |   528/  704 batches | accuracy    0.651\n",
            "-----------------------------------------------------------\n",
            "| End of epoch  64 | Time: 49.41s | Train Accuracy    0.649  | Train Loss    0.988 | Validate Accuracy    0.618 | Validate Loss    1.068\n",
            "-----------------------------------------------------------\n",
            "| epoch  65 |   176/  704 batches | accuracy    0.649\n",
            "| epoch  65 |   352/  704 batches | accuracy    0.650\n",
            "| epoch  65 |   528/  704 batches | accuracy    0.648\n",
            "-----------------------------------------------------------\n",
            "| End of epoch  65 | Time: 49.43s | Train Accuracy    0.648  | Train Loss    0.985 | Validate Accuracy    0.620 | Validate Loss    1.070\n",
            "-----------------------------------------------------------\n",
            "| epoch  66 |   176/  704 batches | accuracy    0.654\n",
            "| epoch  66 |   352/  704 batches | accuracy    0.649\n",
            "| epoch  66 |   528/  704 batches | accuracy    0.650\n",
            "-----------------------------------------------------------\n",
            "| End of epoch  66 | Time: 49.56s | Train Accuracy    0.650  | Train Loss    0.987 | Validate Accuracy    0.613 | Validate Loss    1.067\n",
            "-----------------------------------------------------------\n",
            "| epoch  67 |   176/  704 batches | accuracy    0.653\n",
            "| epoch  67 |   352/  704 batches | accuracy    0.650\n",
            "| epoch  67 |   528/  704 batches | accuracy    0.649\n",
            "-----------------------------------------------------------\n",
            "| End of epoch  67 | Time: 49.67s | Train Accuracy    0.649  | Train Loss    0.989 | Validate Accuracy    0.616 | Validate Loss    1.071\n",
            "-----------------------------------------------------------\n",
            "| epoch  68 |   176/  704 batches | accuracy    0.652\n",
            "| epoch  68 |   352/  704 batches | accuracy    0.650\n",
            "| epoch  68 |   528/  704 batches | accuracy    0.648\n",
            "-----------------------------------------------------------\n",
            "| End of epoch  68 | Time: 49.60s | Train Accuracy    0.650  | Train Loss    0.981 | Validate Accuracy    0.612 | Validate Loss    1.070\n",
            "-----------------------------------------------------------\n",
            "| epoch  69 |   176/  704 batches | accuracy    0.647\n",
            "| epoch  69 |   352/  704 batches | accuracy    0.652\n",
            "| epoch  69 |   528/  704 batches | accuracy    0.651\n",
            "-----------------------------------------------------------\n",
            "| End of epoch  69 | Time: 49.85s | Train Accuracy    0.653  | Train Loss    0.978 | Validate Accuracy    0.612 | Validate Loss    1.068\n",
            "-----------------------------------------------------------\n",
            "| epoch  70 |   176/  704 batches | accuracy    0.656\n",
            "| epoch  70 |   352/  704 batches | accuracy    0.655\n",
            "| epoch  70 |   528/  704 batches | accuracy    0.652\n",
            "-----------------------------------------------------------\n",
            "| End of epoch  70 | Time: 49.58s | Train Accuracy    0.652  | Train Loss    0.977 | Validate Accuracy    0.620 | Validate Loss    1.056\n",
            "-----------------------------------------------------------\n",
            "| epoch  71 |   176/  704 batches | accuracy    0.653\n",
            "| epoch  71 |   352/  704 batches | accuracy    0.652\n",
            "| epoch  71 |   528/  704 batches | accuracy    0.653\n",
            "-----------------------------------------------------------\n",
            "| End of epoch  71 | Time: 49.55s | Train Accuracy    0.652  | Train Loss    0.976 | Validate Accuracy    0.614 | Validate Loss    1.069\n",
            "-----------------------------------------------------------\n",
            "| epoch  72 |   176/  704 batches | accuracy    0.650\n",
            "| epoch  72 |   352/  704 batches | accuracy    0.652\n",
            "| epoch  72 |   528/  704 batches | accuracy    0.651\n",
            "-----------------------------------------------------------\n",
            "| End of epoch  72 | Time: 49.51s | Train Accuracy    0.652  | Train Loss    0.974 | Validate Accuracy    0.619 | Validate Loss    1.055\n",
            "-----------------------------------------------------------\n",
            "| epoch  73 |   176/  704 batches | accuracy    0.662\n",
            "| epoch  73 |   352/  704 batches | accuracy    0.660\n",
            "| epoch  73 |   528/  704 batches | accuracy    0.659\n",
            "-----------------------------------------------------------\n",
            "| End of epoch  73 | Time: 49.73s | Train Accuracy    0.656  | Train Loss    0.973 | Validate Accuracy    0.618 | Validate Loss    1.061\n",
            "-----------------------------------------------------------\n",
            "| epoch  74 |   176/  704 batches | accuracy    0.659\n",
            "| epoch  74 |   352/  704 batches | accuracy    0.654\n",
            "| epoch  74 |   528/  704 batches | accuracy    0.655\n",
            "-----------------------------------------------------------\n",
            "| End of epoch  74 | Time: 49.68s | Train Accuracy    0.654  | Train Loss    0.971 | Validate Accuracy    0.617 | Validate Loss    1.061\n",
            "-----------------------------------------------------------\n",
            "| epoch  75 |   176/  704 batches | accuracy    0.655\n",
            "| epoch  75 |   352/  704 batches | accuracy    0.657\n",
            "| epoch  75 |   528/  704 batches | accuracy    0.658\n",
            "-----------------------------------------------------------\n",
            "| End of epoch  75 | Time: 49.35s | Train Accuracy    0.657  | Train Loss    0.968 | Validate Accuracy    0.615 | Validate Loss    1.059\n",
            "-----------------------------------------------------------\n",
            "| epoch  76 |   176/  704 batches | accuracy    0.647\n",
            "| epoch  76 |   352/  704 batches | accuracy    0.651\n",
            "| epoch  76 |   528/  704 batches | accuracy    0.653\n",
            "-----------------------------------------------------------\n",
            "| End of epoch  76 | Time: 49.53s | Train Accuracy    0.656  | Train Loss    0.969 | Validate Accuracy    0.616 | Validate Loss    1.074\n",
            "-----------------------------------------------------------\n",
            "| epoch  77 |   176/  704 batches | accuracy    0.654\n",
            "| epoch  77 |   352/  704 batches | accuracy    0.654\n",
            "| epoch  77 |   528/  704 batches | accuracy    0.657\n",
            "-----------------------------------------------------------\n",
            "| End of epoch  77 | Time: 49.70s | Train Accuracy    0.656  | Train Loss    0.967 | Validate Accuracy    0.621 | Validate Loss    1.055\n",
            "-----------------------------------------------------------\n",
            "| epoch  78 |   176/  704 batches | accuracy    0.659\n",
            "| epoch  78 |   352/  704 batches | accuracy    0.657\n",
            "| epoch  78 |   528/  704 batches | accuracy    0.656\n",
            "-----------------------------------------------------------\n",
            "| End of epoch  78 | Time: 49.58s | Train Accuracy    0.654  | Train Loss    0.967 | Validate Accuracy    0.616 | Validate Loss    1.073\n",
            "-----------------------------------------------------------\n",
            "| epoch  79 |   176/  704 batches | accuracy    0.660\n",
            "| epoch  79 |   352/  704 batches | accuracy    0.656\n",
            "| epoch  79 |   528/  704 batches | accuracy    0.655\n",
            "-----------------------------------------------------------\n",
            "| End of epoch  79 | Time: 49.61s | Train Accuracy    0.655  | Train Loss    0.964 | Validate Accuracy    0.614 | Validate Loss    1.073\n",
            "-----------------------------------------------------------\n",
            "| epoch  80 |   176/  704 batches | accuracy    0.647\n",
            "| epoch  80 |   352/  704 batches | accuracy    0.650\n",
            "| epoch  80 |   528/  704 batches | accuracy    0.655\n",
            "-----------------------------------------------------------\n",
            "| End of epoch  80 | Time: 49.73s | Train Accuracy    0.656  | Train Loss    0.965 | Validate Accuracy    0.617 | Validate Loss    1.058\n",
            "-----------------------------------------------------------\n",
            "| epoch  81 |   176/  704 batches | accuracy    0.656\n",
            "| epoch  81 |   352/  704 batches | accuracy    0.655\n",
            "| epoch  81 |   528/  704 batches | accuracy    0.659\n",
            "-----------------------------------------------------------\n",
            "| End of epoch  81 | Time: 49.59s | Train Accuracy    0.659  | Train Loss    0.960 | Validate Accuracy    0.613 | Validate Loss    1.061\n",
            "-----------------------------------------------------------\n",
            "| epoch  82 |   176/  704 batches | accuracy    0.663\n",
            "| epoch  82 |   352/  704 batches | accuracy    0.660\n",
            "| epoch  82 |   528/  704 batches | accuracy    0.660\n",
            "-----------------------------------------------------------\n",
            "| End of epoch  82 | Time: 49.64s | Train Accuracy    0.658  | Train Loss    0.959 | Validate Accuracy    0.615 | Validate Loss    1.087\n",
            "-----------------------------------------------------------\n",
            "| epoch  83 |   176/  704 batches | accuracy    0.656\n",
            "| epoch  83 |   352/  704 batches | accuracy    0.657\n",
            "| epoch  83 |   528/  704 batches | accuracy    0.658\n",
            "-----------------------------------------------------------\n",
            "| End of epoch  83 | Time: 49.79s | Train Accuracy    0.658  | Train Loss    0.963 | Validate Accuracy    0.612 | Validate Loss    1.071\n",
            "-----------------------------------------------------------\n",
            "| epoch  84 |   176/  704 batches | accuracy    0.656\n",
            "| epoch  84 |   352/  704 batches | accuracy    0.662\n",
            "| epoch  84 |   528/  704 batches | accuracy    0.663\n",
            "-----------------------------------------------------------\n",
            "| End of epoch  84 | Time: 49.53s | Train Accuracy    0.661  | Train Loss    0.957 | Validate Accuracy    0.618 | Validate Loss    1.058\n",
            "-----------------------------------------------------------\n",
            "| epoch  85 |   176/  704 batches | accuracy    0.656\n",
            "| epoch  85 |   352/  704 batches | accuracy    0.659\n",
            "| epoch  85 |   528/  704 batches | accuracy    0.660\n",
            "-----------------------------------------------------------\n",
            "| End of epoch  85 | Time: 49.66s | Train Accuracy    0.663  | Train Loss    0.954 | Validate Accuracy    0.623 | Validate Loss    1.055\n",
            "-----------------------------------------------------------\n",
            "| epoch  86 |   176/  704 batches | accuracy    0.661\n",
            "| epoch  86 |   352/  704 batches | accuracy    0.664\n",
            "| epoch  86 |   528/  704 batches | accuracy    0.662\n",
            "-----------------------------------------------------------\n",
            "| End of epoch  86 | Time: 49.60s | Train Accuracy    0.662  | Train Loss    0.952 | Validate Accuracy    0.626 | Validate Loss    1.052\n",
            "-----------------------------------------------------------\n",
            "| epoch  87 |   176/  704 batches | accuracy    0.664\n",
            "| epoch  87 |   352/  704 batches | accuracy    0.663\n",
            "| epoch  87 |   528/  704 batches | accuracy    0.664\n",
            "-----------------------------------------------------------\n",
            "| End of epoch  87 | Time: 49.60s | Train Accuracy    0.663  | Train Loss    0.948 | Validate Accuracy    0.624 | Validate Loss    1.053\n",
            "-----------------------------------------------------------\n",
            "| epoch  88 |   176/  704 batches | accuracy    0.665\n",
            "| epoch  88 |   352/  704 batches | accuracy    0.664\n",
            "| epoch  88 |   528/  704 batches | accuracy    0.661\n",
            "-----------------------------------------------------------\n",
            "| End of epoch  88 | Time: 49.59s | Train Accuracy    0.663  | Train Loss    0.948 | Validate Accuracy    0.622 | Validate Loss    1.058\n",
            "-----------------------------------------------------------\n",
            "| epoch  89 |   176/  704 batches | accuracy    0.658\n",
            "| epoch  89 |   352/  704 batches | accuracy    0.664\n",
            "| epoch  89 |   528/  704 batches | accuracy    0.663\n",
            "-----------------------------------------------------------\n",
            "| End of epoch  89 | Time: 49.75s | Train Accuracy    0.663  | Train Loss    0.950 | Validate Accuracy    0.617 | Validate Loss    1.058\n",
            "-----------------------------------------------------------\n",
            "| epoch  90 |   176/  704 batches | accuracy    0.667\n",
            "| epoch  90 |   352/  704 batches | accuracy    0.666\n",
            "| epoch  90 |   528/  704 batches | accuracy    0.664\n",
            "-----------------------------------------------------------\n",
            "| End of epoch  90 | Time: 49.54s | Train Accuracy    0.665  | Train Loss    0.945 | Validate Accuracy    0.623 | Validate Loss    1.060\n",
            "-----------------------------------------------------------\n",
            "| epoch  91 |   176/  704 batches | accuracy    0.670\n",
            "| epoch  91 |   352/  704 batches | accuracy    0.670\n",
            "| epoch  91 |   528/  704 batches | accuracy    0.667\n",
            "-----------------------------------------------------------\n",
            "| End of epoch  91 | Time: 49.70s | Train Accuracy    0.665  | Train Loss    0.941 | Validate Accuracy    0.620 | Validate Loss    1.055\n",
            "-----------------------------------------------------------\n",
            "| epoch  92 |   176/  704 batches | accuracy    0.663\n",
            "| epoch  92 |   352/  704 batches | accuracy    0.666\n",
            "| epoch  92 |   528/  704 batches | accuracy    0.664\n",
            "-----------------------------------------------------------\n",
            "| End of epoch  92 | Time: 49.47s | Train Accuracy    0.665  | Train Loss    0.943 | Validate Accuracy    0.617 | Validate Loss    1.054\n",
            "-----------------------------------------------------------\n",
            "| epoch  93 |   176/  704 batches | accuracy    0.668\n",
            "| epoch  93 |   352/  704 batches | accuracy    0.666\n",
            "| epoch  93 |   528/  704 batches | accuracy    0.667\n",
            "-----------------------------------------------------------\n",
            "| End of epoch  93 | Time: 49.41s | Train Accuracy    0.665  | Train Loss    0.942 | Validate Accuracy    0.620 | Validate Loss    1.057\n",
            "-----------------------------------------------------------\n",
            "| epoch  94 |   176/  704 batches | accuracy    0.665\n",
            "| epoch  94 |   352/  704 batches | accuracy    0.666\n",
            "| epoch  94 |   528/  704 batches | accuracy    0.665\n",
            "-----------------------------------------------------------\n",
            "| End of epoch  94 | Time: 49.47s | Train Accuracy    0.664  | Train Loss    0.943 | Validate Accuracy    0.619 | Validate Loss    1.062\n",
            "-----------------------------------------------------------\n",
            "| epoch  95 |   176/  704 batches | accuracy    0.670\n",
            "| epoch  95 |   352/  704 batches | accuracy    0.666\n",
            "| epoch  95 |   528/  704 batches | accuracy    0.668\n",
            "-----------------------------------------------------------\n",
            "| End of epoch  95 | Time: 49.44s | Train Accuracy    0.668  | Train Loss    0.940 | Validate Accuracy    0.619 | Validate Loss    1.053\n",
            "-----------------------------------------------------------\n",
            "| epoch  96 |   176/  704 batches | accuracy    0.672\n",
            "| epoch  96 |   352/  704 batches | accuracy    0.667\n",
            "| epoch  96 |   528/  704 batches | accuracy    0.666\n",
            "-----------------------------------------------------------\n",
            "| End of epoch  96 | Time: 49.38s | Train Accuracy    0.664  | Train Loss    0.939 | Validate Accuracy    0.631 | Validate Loss    1.042\n",
            "-----------------------------------------------------------\n",
            "| epoch  97 |   176/  704 batches | accuracy    0.667\n",
            "| epoch  97 |   352/  704 batches | accuracy    0.669\n",
            "| epoch  97 |   528/  704 batches | accuracy    0.670\n",
            "-----------------------------------------------------------\n",
            "| End of epoch  97 | Time: 49.51s | Train Accuracy    0.668  | Train Loss    0.934 | Validate Accuracy    0.620 | Validate Loss    1.054\n",
            "-----------------------------------------------------------\n",
            "| epoch  98 |   176/  704 batches | accuracy    0.667\n",
            "| epoch  98 |   352/  704 batches | accuracy    0.670\n",
            "| epoch  98 |   528/  704 batches | accuracy    0.668\n",
            "-----------------------------------------------------------\n",
            "| End of epoch  98 | Time: 49.57s | Train Accuracy    0.669  | Train Loss    0.935 | Validate Accuracy    0.611 | Validate Loss    1.069\n",
            "-----------------------------------------------------------\n",
            "| epoch  99 |   176/  704 batches | accuracy    0.672\n",
            "| epoch  99 |   352/  704 batches | accuracy    0.670\n",
            "| epoch  99 |   528/  704 batches | accuracy    0.671\n",
            "-----------------------------------------------------------\n",
            "| End of epoch  99 | Time: 49.45s | Train Accuracy    0.672  | Train Loss    0.931 | Validate Accuracy    0.624 | Validate Loss    1.051\n",
            "-----------------------------------------------------------\n",
            "| epoch 100 |   176/  704 batches | accuracy    0.675\n",
            "| epoch 100 |   352/  704 batches | accuracy    0.670\n",
            "| epoch 100 |   528/  704 batches | accuracy    0.669\n",
            "-----------------------------------------------------------\n",
            "| End of epoch 100 | Time: 49.59s | Train Accuracy    0.670  | Train Loss    0.931 | Validate Accuracy    0.621 | Validate Loss    1.052\n",
            "-----------------------------------------------------------\n"
          ]
        }
      ]
    },
    {
      "cell_type": "markdown",
      "source": [
        "## Visualization"
      ],
      "metadata": {
        "id": "Djsf-Z59J4Z4"
      }
    },
    {
      "cell_type": "code",
      "source": [
        "import matplotlib.pyplot as plt\n",
        "\n",
        "def plot_result(num_epochs, train_accs, eval_accs, train_losses, eval_losses):\n",
        "  epochs = list(range(num_epochs))\n",
        "  fig, axs = plt.subplots(nrows= 1, ncols=2, figsize=(12, 6))\n",
        "\n",
        "  axs[0].plot(epochs, train_accs, label=\"Training\", color='green')\n",
        "  axs[0].plot(epochs, eval_accs, label=\"Evaluation\", color='orange')\n",
        "  axs[0].set(xlabel='Epoch', ylabel='Accuaracy')\n",
        "\n",
        "  axs[1].plot(epochs, train_losses, label=\"Training\", color='green')\n",
        "  axs[1].plot(epochs, eval_losses, label=\"Evaluation\", color='orange')\n",
        "  axs[1].set(xlabel='Epoch', ylabel='Loss')\n",
        "  plt.legend()\n"
      ],
      "metadata": {
        "id": "VCTJDfg5Patw"
      },
      "execution_count": null,
      "outputs": []
    },
    {
      "cell_type": "code",
      "source": [
        "# time = metrics[\"time\"]\n",
        "# print(f\"Time: {time}\")\n",
        "plot_result(\n",
        "    num_epochs,\n",
        "    metrics[\"train_accuracy\"],\n",
        "    metrics[\"val_accuracy\"],\n",
        "    metrics[\"train_loss\"],\n",
        "    metrics[\"val_loss\"]\n",
        ")"
      ],
      "metadata": {
        "id": "ORy9vwk1J3pS",
        "colab": {
          "base_uri": "https://localhost:8080/",
          "height": 542
        },
        "outputId": "f8b45b01-285a-472b-8302-3273b22e35d1"
      },
      "execution_count": null,
      "outputs": [
        {
          "output_type": "display_data",
          "data": {
            "text/plain": [
              "<Figure size 1200x600 with 2 Axes>"
            ],
            "image/png": "[encoded data removed]"
          },
          "metadata": {}
        }
      ]
    },
    {
      "cell_type": "markdown",
      "source": [
        "## Evaluate by Test dataset"
      ],
      "metadata": {
        "id": "0ZeuB1htPkim"
      }
    },
    {
      "cell_type": "code",
      "source": [
        "test_target, test_predict = [], []\n",
        "model.load_state_dict(torch.load(save_model_path + f'/{model_name}.pt'))\n",
        "model.eval()\n",
        "with torch.no_grad():\n",
        "  for inputs, labels in test_loader:\n",
        "    inputs, labels = inputs.to(device), labels.to(device)\n",
        "    predictions = model(inputs)\n",
        "\n",
        "    test_target.append(labels.cpu())\n",
        "    test_predict.append(predictions.cpu())\n",
        "test_target = torch.cat(test_target, dim=0)\n",
        "test_predict = torch.cat(test_predict, dim=0)\n",
        "\n",
        "test_acc = (torch.argmax(test_predict, dim=1)==test_target).sum().item() / len(test_target)\n",
        "print(f\"Test Accuracy: {test_acc:.4f}\")"
      ],
      "metadata": {
        "id": "yZhqeF9nPkAE",
        "colab": {
          "base_uri": "https://localhost:8080/"
        },
        "outputId": "1d696a59-eb2c-4728-8aad-6c5d1c809f7b"
      },
      "execution_count": null,
      "outputs": [
        {
          "output_type": "stream",
          "name": "stdout",
          "text": [
            "Test Accuracy: 0.6208\n"
          ]
        }
      ]
    },
    {
      "cell_type": "markdown",
      "source": [
        "# So sánh với CNN"
      ],
      "metadata": {
        "id": "Bzsu-zznTJYL"
      }
    },
    {
      "cell_type": "markdown",
      "source": [
        "[Link code](https://colab.research.google.com/drive/1dB36SwvVTZpXEUyPdEPe5w3CjS3BL0qw?usp=sharing#scrollTo=BhjF200mrbgd)"
      ],
      "metadata": {
        "id": "n4fhtlsJTMT7"
      }
    },
    {
      "cell_type": "markdown",
      "source": [
        "# Khó khăn:"
      ],
      "metadata": {
        "id": "DxPUrlDKTFNr"
      }
    },
    {
      "cell_type": "markdown",
      "source": [
        "1. Test Accuracy rất thấp: 0.5916 tương đương 59% với 50 epochs. Sau khi cải thiện bằng cách tăng số lượng epoch lên 100 epochs thì kết quả có tăng lên một chút là được khoảng 62% nhưng vẫn rất thấp so với mô hình CNN cho data này\n",
        "2. Biểu đồ loss và accuracy qua 100 epochs nhìn không được ổn định lắm.\n"
      ],
      "metadata": {
        "id": "NQRFeiEY_BPv"
      }
    },
    {
      "cell_type": "markdown",
      "source": [
        "# Improve"
      ],
      "metadata": {
        "id": "4odPCsAQG_r5"
      }
    }
  ],
  "metadata": {
    "colab": {
      "provenance": [],
      "machine_shape": "hm",
      "gpuType": "T4",
      "include_colab_link": true
    },
    "kernelspec": {
      "display_name": "Python 3",
      "name": "python3"
    },
    "language_info": {
      "name": "python"
    },
    "accelerator": "GPU"
  },
  "nbformat": 4,
  "nbformat_minor": 0
}