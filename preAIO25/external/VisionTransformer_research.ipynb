{
  "cells": [
    {
      "cell_type": "markdown",
      "metadata": {
        "id": "view-in-github",
        "colab_type": "text"
      },
      "source": [
        "<a href=\"https://colab.research.google.com/github/mylethidiem/zero-to-hero/blob/main/preAIO25/external/VisionTransformer_research.ipynb\" target=\"_parent\"><img src=\"https://colab.research.google.com/assets/colab-badge.svg\" alt=\"Open In Colab\"/></a>"
      ]
    },
    {
      "cell_type": "markdown",
      "metadata": {
        "id": "XSpmFt9_S8qr"
      },
      "source": [
        "# **Vision Transformer**"
      ]
    },
    {
      "cell_type": "code",
      "execution_count": null,
      "metadata": {
        "id": "R6kBYpHvKfcd",
        "colab": {
          "base_uri": "https://localhost:8080/",
          "height": 1000
        },
        "outputId": "76b5dc66-2cc5-4a13-d9f1-4db7e71daef8"
      },
      "outputs": [
        {
          "output_type": "stream",
          "name": "stdout",
          "text": [
            "Collecting torchvision==0.17.2\n",
            "  Downloading torchvision-0.17.2-cp311-cp311-manylinux1_x86_64.whl.metadata (6.6 kB)\n",
            "Requirement already satisfied: numpy in /usr/local/lib/python3.11/dist-packages (from torchvision==0.17.2) (1.26.4)\n",
            "Collecting torch==2.2.2 (from torchvision==0.17.2)\n",
            "  Downloading torch-2.2.2-cp311-cp311-manylinux1_x86_64.whl.metadata (25 kB)\n",
            "Requirement already satisfied: pillow!=8.3.*,>=5.3.0 in /usr/local/lib/python3.11/dist-packages (from torchvision==0.17.2) (11.1.0)\n",
            "Requirement already satisfied: filelock in /usr/local/lib/python3.11/dist-packages (from torch==2.2.2->torchvision==0.17.2) (3.17.0)\n",
            "Requirement already satisfied: typing-extensions>=4.8.0 in /usr/local/lib/python3.11/dist-packages (from torch==2.2.2->torchvision==0.17.2) (4.12.2)\n",
            "Requirement already satisfied: sympy in /usr/local/lib/python3.11/dist-packages (from torch==2.2.2->torchvision==0.17.2) (1.13.1)\n",
            "Requirement already satisfied: networkx in /usr/local/lib/python3.11/dist-packages (from torch==2.2.2->torchvision==0.17.2) (3.4.2)\n",
            "Requirement already satisfied: jinja2 in /usr/local/lib/python3.11/dist-packages (from torch==2.2.2->torchvision==0.17.2) (3.1.5)\n",
            "Requirement already satisfied: fsspec in /usr/local/lib/python3.11/dist-packages (from torch==2.2.2->torchvision==0.17.2) (2024.10.0)\n",
            "Collecting nvidia-cuda-nvrtc-cu12==12.1.105 (from torch==2.2.2->torchvision==0.17.2)\n",
            "  Downloading nvidia_cuda_nvrtc_cu12-12.1.105-py3-none-manylinux1_x86_64.whl.metadata (1.5 kB)\n",
            "Collecting nvidia-cuda-runtime-cu12==12.1.105 (from torch==2.2.2->torchvision==0.17.2)\n",
            "  Downloading nvidia_cuda_runtime_cu12-12.1.105-py3-none-manylinux1_x86_64.whl.metadata (1.5 kB)\n",
            "Collecting nvidia-cuda-cupti-cu12==12.1.105 (from torch==2.2.2->torchvision==0.17.2)\n",
            "  Downloading nvidia_cuda_cupti_cu12-12.1.105-py3-none-manylinux1_x86_64.whl.metadata (1.6 kB)\n",
            "Collecting nvidia-cudnn-cu12==8.9.2.26 (from torch==2.2.2->torchvision==0.17.2)\n",
            "  Downloading nvidia_cudnn_cu12-8.9.2.26-py3-none-manylinux1_x86_64.whl.metadata (1.6 kB)\n",
            "Collecting nvidia-cublas-cu12==12.1.3.1 (from torch==2.2.2->torchvision==0.17.2)\n",
            "  Downloading nvidia_cublas_cu12-12.1.3.1-py3-none-manylinux1_x86_64.whl.metadata (1.5 kB)\n",
            "Collecting nvidia-cufft-cu12==11.0.2.54 (from torch==2.2.2->torchvision==0.17.2)\n",
            "  Downloading nvidia_cufft_cu12-11.0.2.54-py3-none-manylinux1_x86_64.whl.metadata (1.5 kB)\n",
            "Collecting nvidia-curand-cu12==10.3.2.106 (from torch==2.2.2->torchvision==0.17.2)\n",
            "  Downloading nvidia_curand_cu12-10.3.2.106-py3-none-manylinux1_x86_64.whl.metadata (1.5 kB)\n",
            "Collecting nvidia-cusolver-cu12==11.4.5.107 (from torch==2.2.2->torchvision==0.17.2)\n",
            "  Downloading nvidia_cusolver_cu12-11.4.5.107-py3-none-manylinux1_x86_64.whl.metadata (1.6 kB)\n",
            "Collecting nvidia-cusparse-cu12==12.1.0.106 (from torch==2.2.2->torchvision==0.17.2)\n",
            "  Downloading nvidia_cusparse_cu12-12.1.0.106-py3-none-manylinux1_x86_64.whl.metadata (1.6 kB)\n",
            "Collecting nvidia-nccl-cu12==2.19.3 (from torch==2.2.2->torchvision==0.17.2)\n",
            "  Downloading nvidia_nccl_cu12-2.19.3-py3-none-manylinux1_x86_64.whl.metadata (1.8 kB)\n",
            "Collecting nvidia-nvtx-cu12==12.1.105 (from torch==2.2.2->torchvision==0.17.2)\n",
            "  Downloading nvidia_nvtx_cu12-12.1.105-py3-none-manylinux1_x86_64.whl.metadata (1.7 kB)\n",
            "Collecting triton==2.2.0 (from torch==2.2.2->torchvision==0.17.2)\n",
            "  Downloading triton-2.2.0-cp311-cp311-manylinux_2_17_x86_64.manylinux2014_x86_64.whl.metadata (1.4 kB)\n",
            "Requirement already satisfied: nvidia-nvjitlink-cu12 in /usr/local/lib/python3.11/dist-packages (from nvidia-cusolver-cu12==11.4.5.107->torch==2.2.2->torchvision==0.17.2) (12.5.82)\n",
            "Requirement already satisfied: MarkupSafe>=2.0 in /usr/local/lib/python3.11/dist-packages (from jinja2->torch==2.2.2->torchvision==0.17.2) (3.0.2)\n",
            "Requirement already satisfied: mpmath<1.4,>=1.1.0 in /usr/local/lib/python3.11/dist-packages (from sympy->torch==2.2.2->torchvision==0.17.2) (1.3.0)\n",
            "Downloading torchvision-0.17.2-cp311-cp311-manylinux1_x86_64.whl (6.9 MB)\n",
            "\u001b[2K   \u001b[90m━━━━━━━━━━━━━━━━━━━━━━━━━━━━━━━━━━━━━━━━\u001b[0m \u001b[32m6.9/6.9 MB\u001b[0m \u001b[31m33.7 MB/s\u001b[0m eta \u001b[36m0:00:00\u001b[0m\n",
            "\u001b[?25hDownloading torch-2.2.2-cp311-cp311-manylinux1_x86_64.whl (755.6 MB)\n",
            "\u001b[2K   \u001b[90m━━━━━━━━━━━━━━━━━━━━━━━━━━━━━━━━━━━━━━━━\u001b[0m \u001b[32m755.6/755.6 MB\u001b[0m \u001b[31m1.3 MB/s\u001b[0m eta \u001b[36m0:00:00\u001b[0m\n",
            "\u001b[?25hDownloading nvidia_cublas_cu12-12.1.3.1-py3-none-manylinux1_x86_64.whl (410.6 MB)\n",
            "\u001b[2K   \u001b[90m━━━━━━━━━━━━━━━━━━━━━━━━━━━━━━━━━━━━━━━━\u001b[0m \u001b[32m410.6/410.6 MB\u001b[0m \u001b[31m4.5 MB/s\u001b[0m eta \u001b[36m0:00:00\u001b[0m\n",
            "\u001b[?25hDownloading nvidia_cuda_cupti_cu12-12.1.105-py3-none-manylinux1_x86_64.whl (14.1 MB)\n",
            "\u001b[2K   \u001b[90m━━━━━━━━━━━━━━━━━━━━━━━━━━━━━━━━━━━━━━━━\u001b[0m \u001b[32m14.1/14.1 MB\u001b[0m \u001b[31m86.6 MB/s\u001b[0m eta \u001b[36m0:00:00\u001b[0m\n",
            "\u001b[?25hDownloading nvidia_cuda_nvrtc_cu12-12.1.105-py3-none-manylinux1_x86_64.whl (23.7 MB)\n",
            "\u001b[2K   \u001b[90m━━━━━━━━━━━━━━━━━━━━━━━━━━━━━━━━━━━━━━━━\u001b[0m \u001b[32m23.7/23.7 MB\u001b[0m \u001b[31m48.8 MB/s\u001b[0m eta \u001b[36m0:00:00\u001b[0m\n",
            "\u001b[?25hDownloading nvidia_cuda_runtime_cu12-12.1.105-py3-none-manylinux1_x86_64.whl (823 kB)\n",
            "\u001b[2K   \u001b[90m━━━━━━━━━━━━━━━━━━━━━━━━━━━━━━━━━━━━━━━━\u001b[0m \u001b[32m823.6/823.6 kB\u001b[0m \u001b[31m41.0 MB/s\u001b[0m eta \u001b[36m0:00:00\u001b[0m\n",
            "\u001b[?25hDownloading nvidia_cudnn_cu12-8.9.2.26-py3-none-manylinux1_x86_64.whl (731.7 MB)\n",
            "\u001b[2K   \u001b[90m━━━━━━━━━━━━━━━━━━━━━━━━━━━━━━━━━━━━━━━━\u001b[0m \u001b[32m731.7/731.7 MB\u001b[0m \u001b[31m1.1 MB/s\u001b[0m eta \u001b[36m0:00:00\u001b[0m\n",
            "\u001b[?25hDownloading nvidia_cufft_cu12-11.0.2.54-py3-none-manylinux1_x86_64.whl (121.6 MB)\n",
            "\u001b[2K   \u001b[90m━━━━━━━━━━━━━━━━━━━━━━━━━━━━━━━━━━━━━━━━\u001b[0m \u001b[32m121.6/121.6 MB\u001b[0m \u001b[31m7.9 MB/s\u001b[0m eta \u001b[36m0:00:00\u001b[0m\n",
            "\u001b[?25hDownloading nvidia_curand_cu12-10.3.2.106-py3-none-manylinux1_x86_64.whl (56.5 MB)\n",
            "\u001b[2K   \u001b[90m━━━━━━━━━━━━━━━━━━━━━━━━━━━━━━━━━━━━━━━━\u001b[0m \u001b[32m56.5/56.5 MB\u001b[0m \u001b[31m12.7 MB/s\u001b[0m eta \u001b[36m0:00:00\u001b[0m\n",
            "\u001b[?25hDownloading nvidia_cusolver_cu12-11.4.5.107-py3-none-manylinux1_x86_64.whl (124.2 MB)\n",
            "\u001b[2K   \u001b[90m━━━━━━━━━━━━━━━━━━━━━━━━━━━━━━━━━━━━━━━━\u001b[0m \u001b[32m124.2/124.2 MB\u001b[0m \u001b[31m7.4 MB/s\u001b[0m eta \u001b[36m0:00:00\u001b[0m\n",
            "\u001b[?25hDownloading nvidia_cusparse_cu12-12.1.0.106-py3-none-manylinux1_x86_64.whl (196.0 MB)\n",
            "\u001b[2K   \u001b[90m━━━━━━━━━━━━━━━━━━━━━━━━━━━━━━━━━━━━━━━━\u001b[0m \u001b[32m196.0/196.0 MB\u001b[0m \u001b[31m5.3 MB/s\u001b[0m eta \u001b[36m0:00:00\u001b[0m\n",
            "\u001b[?25hDownloading nvidia_nccl_cu12-2.19.3-py3-none-manylinux1_x86_64.whl (166.0 MB)\n",
            "\u001b[2K   \u001b[90m━━━━━━━━━━━━━━━━━━━━━━━━━━━━━━━━━━━━━━━━\u001b[0m \u001b[32m166.0/166.0 MB\u001b[0m \u001b[31m5.9 MB/s\u001b[0m eta \u001b[36m0:00:00\u001b[0m\n",
            "\u001b[?25hDownloading nvidia_nvtx_cu12-12.1.105-py3-none-manylinux1_x86_64.whl (99 kB)\n",
            "\u001b[2K   \u001b[90m━━━━━━━━━━━━━━━━━━━━━━━━━━━━━━━━━━━━━━━━\u001b[0m \u001b[32m99.1/99.1 kB\u001b[0m \u001b[31m11.0 MB/s\u001b[0m eta \u001b[36m0:00:00\u001b[0m\n",
            "\u001b[?25hDownloading triton-2.2.0-cp311-cp311-manylinux_2_17_x86_64.manylinux2014_x86_64.whl (167.9 MB)\n",
            "\u001b[2K   \u001b[90m━━━━━━━━━━━━━━━━━━━━━━━━━━━━━━━━━━━━━━━━\u001b[0m \u001b[32m167.9/167.9 MB\u001b[0m \u001b[31m6.6 MB/s\u001b[0m eta \u001b[36m0:00:00\u001b[0m\n",
            "\u001b[?25hInstalling collected packages: triton, nvidia-nvtx-cu12, nvidia-nccl-cu12, nvidia-cusparse-cu12, nvidia-curand-cu12, nvidia-cufft-cu12, nvidia-cuda-runtime-cu12, nvidia-cuda-nvrtc-cu12, nvidia-cuda-cupti-cu12, nvidia-cublas-cu12, nvidia-cusolver-cu12, nvidia-cudnn-cu12, torch, torchvision\n",
            "  Attempting uninstall: triton\n",
            "    Found existing installation: triton 3.1.0\n",
            "    Uninstalling triton-3.1.0:\n",
            "      Successfully uninstalled triton-3.1.0\n",
            "  Attempting uninstall: nvidia-nvtx-cu12\n",
            "    Found existing installation: nvidia-nvtx-cu12 12.4.127\n",
            "    Uninstalling nvidia-nvtx-cu12-12.4.127:\n",
            "      Successfully uninstalled nvidia-nvtx-cu12-12.4.127\n",
            "  Attempting uninstall: nvidia-nccl-cu12\n",
            "    Found existing installation: nvidia-nccl-cu12 2.21.5\n",
            "    Uninstalling nvidia-nccl-cu12-2.21.5:\n",
            "      Successfully uninstalled nvidia-nccl-cu12-2.21.5\n",
            "  Attempting uninstall: nvidia-cusparse-cu12\n",
            "    Found existing installation: nvidia-cusparse-cu12 12.5.1.3\n",
            "    Uninstalling nvidia-cusparse-cu12-12.5.1.3:\n",
            "      Successfully uninstalled nvidia-cusparse-cu12-12.5.1.3\n",
            "  Attempting uninstall: nvidia-curand-cu12\n",
            "    Found existing installation: nvidia-curand-cu12 10.3.6.82\n",
            "    Uninstalling nvidia-curand-cu12-10.3.6.82:\n",
            "      Successfully uninstalled nvidia-curand-cu12-10.3.6.82\n",
            "  Attempting uninstall: nvidia-cufft-cu12\n",
            "    Found existing installation: nvidia-cufft-cu12 11.2.3.61\n",
            "    Uninstalling nvidia-cufft-cu12-11.2.3.61:\n",
            "      Successfully uninstalled nvidia-cufft-cu12-11.2.3.61\n",
            "  Attempting uninstall: nvidia-cuda-runtime-cu12\n",
            "    Found existing installation: nvidia-cuda-runtime-cu12 12.5.82\n",
            "    Uninstalling nvidia-cuda-runtime-cu12-12.5.82:\n",
            "      Successfully uninstalled nvidia-cuda-runtime-cu12-12.5.82\n",
            "  Attempting uninstall: nvidia-cuda-nvrtc-cu12\n",
            "    Found existing installation: nvidia-cuda-nvrtc-cu12 12.5.82\n",
            "    Uninstalling nvidia-cuda-nvrtc-cu12-12.5.82:\n",
            "      Successfully uninstalled nvidia-cuda-nvrtc-cu12-12.5.82\n",
            "  Attempting uninstall: nvidia-cuda-cupti-cu12\n",
            "    Found existing installation: nvidia-cuda-cupti-cu12 12.5.82\n",
            "    Uninstalling nvidia-cuda-cupti-cu12-12.5.82:\n",
            "      Successfully uninstalled nvidia-cuda-cupti-cu12-12.5.82\n",
            "  Attempting uninstall: nvidia-cublas-cu12\n",
            "    Found existing installation: nvidia-cublas-cu12 12.5.3.2\n",
            "    Uninstalling nvidia-cublas-cu12-12.5.3.2:\n",
            "      Successfully uninstalled nvidia-cublas-cu12-12.5.3.2\n",
            "  Attempting uninstall: nvidia-cusolver-cu12\n",
            "    Found existing installation: nvidia-cusolver-cu12 11.6.3.83\n",
            "    Uninstalling nvidia-cusolver-cu12-11.6.3.83:\n",
            "      Successfully uninstalled nvidia-cusolver-cu12-11.6.3.83\n",
            "  Attempting uninstall: nvidia-cudnn-cu12\n",
            "    Found existing installation: nvidia-cudnn-cu12 9.3.0.75\n",
            "    Uninstalling nvidia-cudnn-cu12-9.3.0.75:\n",
            "      Successfully uninstalled nvidia-cudnn-cu12-9.3.0.75\n",
            "  Attempting uninstall: torch\n",
            "    Found existing installation: torch 2.5.1+cu124\n",
            "    Uninstalling torch-2.5.1+cu124:\n",
            "      Successfully uninstalled torch-2.5.1+cu124\n",
            "  Attempting uninstall: torchvision\n",
            "    Found existing installation: torchvision 0.20.1+cu124\n",
            "    Uninstalling torchvision-0.20.1+cu124:\n",
            "      Successfully uninstalled torchvision-0.20.1+cu124\n",
            "\u001b[31mERROR: pip's dependency resolver does not currently take into account all the packages that are installed. This behaviour is the source of the following dependency conflicts.\n",
            "torchaudio 2.5.1+cu124 requires torch==2.5.1, but you have torch 2.2.2 which is incompatible.\u001b[0m\u001b[31m\n",
            "\u001b[0mSuccessfully installed nvidia-cublas-cu12-12.1.3.1 nvidia-cuda-cupti-cu12-12.1.105 nvidia-cuda-nvrtc-cu12-12.1.105 nvidia-cuda-runtime-cu12-12.1.105 nvidia-cudnn-cu12-8.9.2.26 nvidia-cufft-cu12-11.0.2.54 nvidia-curand-cu12-10.3.2.106 nvidia-cusolver-cu12-11.4.5.107 nvidia-cusparse-cu12-12.1.0.106 nvidia-nccl-cu12-2.19.3 nvidia-nvtx-cu12-12.1.105 torch-2.2.2 torchvision-0.17.2 triton-2.2.0\n"
          ]
        },
        {
          "output_type": "display_data",
          "data": {
            "application/vnd.colab-display-data+json": {
              "pip_warning": {
                "packages": [
                  "torch",
                  "torchgen",
                  "torchvision",
                  "triton"
                ]
              },
              "id": "7177b145f91847a8ab22ea1f0b5ac70c"
            }
          },
          "metadata": {}
        }
      ],
      "source": [
        "# Install packages\n",
        "!pip install torchvision==0.17.2"
      ]
    },
    {
      "cell_type": "code",
      "source": [
        "#\n",
        "import torch\n",
        "import torch.nn as nn\n",
        "from torch.nn import functional as F\n",
        "\n",
        "from torch.utils.data import DataLoader\n",
        "import torchvision\n",
        "import torchvision.transform as transform"
      ],
      "metadata": {
        "id": "q9KlvJd2PBb-",
        "colab": {
          "base_uri": "https://localhost:8080/",
          "height": 349
        },
        "outputId": "53f5bec1-4c9c-4277-84b5-59190616629b"
      },
      "execution_count": null,
      "outputs": [
        {
          "output_type": "error",
          "ename": "ModuleNotFoundError",
          "evalue": "No module named 'torchvision.transform'",
          "traceback": [
            "\u001b[0;31m---------------------------------------------------------------------------\u001b[0m",
            "\u001b[0;31mModuleNotFoundError\u001b[0m                       Traceback (most recent call last)",
            "\u001b[0;32m<ipython-input-3-040597cfeed0>\u001b[0m in \u001b[0;36m<cell line: 0>\u001b[0;34m()\u001b[0m\n\u001b[1;32m      6\u001b[0m \u001b[0;32mfrom\u001b[0m \u001b[0mtorch\u001b[0m\u001b[0;34m.\u001b[0m\u001b[0mutils\u001b[0m\u001b[0;34m.\u001b[0m\u001b[0mdata\u001b[0m \u001b[0;32mimport\u001b[0m \u001b[0mDataLoader\u001b[0m\u001b[0;34m\u001b[0m\u001b[0;34m\u001b[0m\u001b[0m\n\u001b[1;32m      7\u001b[0m \u001b[0;32mimport\u001b[0m \u001b[0mtorchvision\u001b[0m\u001b[0;34m\u001b[0m\u001b[0;34m\u001b[0m\u001b[0m\n\u001b[0;32m----> 8\u001b[0;31m \u001b[0;32mimport\u001b[0m \u001b[0mtorchvision\u001b[0m\u001b[0;34m.\u001b[0m\u001b[0mtransform\u001b[0m \u001b[0;32mas\u001b[0m \u001b[0mtransform\u001b[0m\u001b[0;34m\u001b[0m\u001b[0;34m\u001b[0m\u001b[0m\n\u001b[0m",
            "\u001b[0;31mModuleNotFoundError\u001b[0m: No module named 'torchvision.transform'",
            "",
            "\u001b[0;31m---------------------------------------------------------------------------\u001b[0;32m\nNOTE: If your import is failing due to a missing package, you can\nmanually install dependencies using either !pip or !apt.\n\nTo view examples of installing some common dependencies, click the\n\"Open Examples\" button below.\n\u001b[0;31m---------------------------------------------------------------------------\u001b[0m\n"
          ],
          "errorDetails": {
            "actions": [
              {
                "action": "open_url",
                "actionText": "Open Examples",
                "url": "/notebooks/snippets/importing_libraries.ipynb"
              }
            ]
          }
        }
      ]
    },
    {
      "cell_type": "code",
      "source": [
        "#?\n",
        "torch.manual_seed(42)\n",
        "device = torch.device('cuda' if torch.cuda.is_available() else 'cpu')\n"
      ],
      "metadata": {
        "id": "Q0Ar5px1k7vF"
      },
      "execution_count": null,
      "outputs": []
    },
    {
      "cell_type": "markdown",
      "source": [
        "## LOAD DATA CIFAR10"
      ],
      "metadata": {
        "id": "s9lTN1HXsmeq"
      }
    },
    {
      "cell_type": "markdown",
      "source": [
        "What is [CIFAR10](https://www.cs.toronto.edu/~kriz/cifar.html)?\n",
        "\n",
        "\n"
      ],
      "metadata": {
        "id": "hBa5tjThsy2g"
      }
    },
    {
      "cell_type": "code",
      "source": [
        "batch_size = 4\n",
        "\n",
        "# Why need transform??\n",
        "transform =  transform.Compose(\n",
        "    [\n",
        "        transform.Resize((224, 224)),\n",
        "        transform.ToTensor(),\n",
        "        transform.Normalize([(0.5, 0.5, 0.5), (0.5, 0.5, 0.5)]) #?\n",
        "    ]\n",
        ")\n",
        "\n",
        "#download\n",
        "test_dataset = torch.vision.dataset.CIFAR10(root='./data', train=False, transform=transform, download=True)\n",
        "\n",
        "# split data train into val and train\n",
        "train_dataset = torchvision.dataset.CIFAR10(root='./data', train=True, transform=transform, download=True)\n",
        "train_subset_size = int(len(train_traindataset) * 0.9)\n",
        "val_subset_size = len(train_traindataset) - train_subset_size\n",
        "train_subset, val_subset = torch.utils.data.random_split(train_dataset, [train_subset_size,val_subset_size ])\n",
        "\n",
        "\n",
        "# create dataloader contain batches of data to train(mini-batch)\n",
        "train_loader = DataLoader(dataset=train_subset, batch_size=batch_size, shuffle=True, nums_worker=2)#?\n",
        "val_loader = DataLoader(dataset=val_subset, batch_size=batch_size, shuffle=False, nums_worker=2)\n",
        "test_loader = DataLoader(dataset=test_dataset, batch_size=batch_size, shuffle=False, nums_worker=2)\n"
      ],
      "metadata": {
        "id": "icHdsN5nlJrO"
      },
      "execution_count": null,
      "outputs": []
    },
    {
      "cell_type": "markdown",
      "source": [
        "## Build Model"
      ],
      "metadata": {
        "id": "lFY5ufFSJtgd"
      }
    },
    {
      "cell_type": "code",
      "source": [
        "# Patch Embedding\n",
        "# usage, parameters?\n",
        "class PatchEmbedding(nn.Module):\n",
        "  def __init__(self, embed_dim=512, patch_size=16, image_size=224):\n",
        "    super().__init__()\n",
        "    # 1 layer conv2d\n",
        "    # image have 3 channels\n",
        "    # why we don't need a bias?\n",
        "    # why embed dim have that value?\n",
        "    self.conv1 = nn.Conv2d(in_channels=3, out_channels=embed_dim, kernel_size=patch_size, stride=patch_size, bias=False)\n",
        "\n",
        "  def forward(self, x):\n",
        "    x = self.conv1()\n",
        "\n",
        "    # why we need reshape?\n",
        "    print(f\"x shape before reshape: {x.shape}\") # shape [*, width, grid, grid]\n",
        "    x = x.reshape(x.shap[0], x.shape[1], -1)\n",
        "    print(f\"x shape after reshape: {x.shape}\") # shape [*, width, grid ** 2]\n",
        "\n",
        "    # why need permute x shape?\n",
        "    x.permute(0, 2, 1)\n",
        "    return x\n"
      ],
      "metadata": {
        "id": "Cz9KBCEPKLrH"
      },
      "execution_count": null,
      "outputs": []
    },
    {
      "cell_type": "code",
      "source": [
        "# example\n",
        "patch_embedding = PatchEmbedding() # model\n",
        "x = torch.randn(1, 3, 224, 224)\n",
        "\n",
        "x = patch_embedding(x)\n",
        "print(x.shape)"
      ],
      "metadata": {
        "id": "k-n1nyEEV9LH"
      },
      "execution_count": null,
      "outputs": []
    },
    {
      "cell_type": "code",
      "source": [
        "# Patch Positional Embedding\n",
        "# usage, parameters?\n",
        "class PatchPositionalEmbedding(nn.Module):\n",
        "  def __init__(self, embed_dim=512, patch_size=16, image_size=224):\n",
        "    super().__init__()\n",
        "    self.conv1 = nn.Conv2d(in_channels=3, out_channels=embed_dim, kernel_size=patch_size, stride=patch_size, bias=False)\n",
        "    scale = embed_dim ** -0.5 #?\n",
        "    print(embed_dim)\n",
        "    data = scale * torch.randn((image_size // patch_size) ** 2, embed_dim)#?\n",
        "    self.positional_embedding = nn.Parameter(data)\n",
        "\n",
        "  def forward(self, x):\n",
        "    x = self.conv1(x) # shape = [*, width, grid]\n",
        "    x = x.reshape(x.shape[0], x.shape[1], -1) # shape = [*, width, grid ** 2]\n",
        "    x = x.permute(0, 2, 1)  # shape = [*, grid ** 2, width]\n",
        "\n",
        "    x = x + self.positional_embedding.to('cpu') #?\n",
        "    return x\n"
      ],
      "metadata": {
        "id": "EGZg031dski5"
      },
      "execution_count": null,
      "outputs": []
    },
    {
      "cell_type": "code",
      "source": [
        "patchpos_embedding = PatchPositionalEmbedding()\n",
        "x = torch.randn(1, 3, 224, 224)\n",
        "\n",
        "out = patchpos_embedding(x)\n",
        "print(out.shape)"
      ],
      "metadata": {
        "id": "h4lkPj-jJ16r"
      },
      "execution_count": null,
      "outputs": []
    },
    {
      "cell_type": "code",
      "source": [
        "# Adding [CLS] token\n",
        "class PatchPostionalEmbeddingCLSToken(nn.Module):\n",
        "  def __init__(self, embed_dim=512, patch_size=16, image_size=224):\n",
        "    super().__init__(self)\n",
        "    self.conv1 = nn.Conv2d(in_channels=3, out_channels=embed_dim, kernel_size=patch_size, stride=patch_size, bias=False)\n",
        "\n",
        "    scale = embed_dim ** -0.5\n",
        "\n",
        "    data_class_embedding = scale * torch.randn(embed_dim)\n",
        "    self.class_embedding = nn.Parameter(data_class_embedding)\n",
        "\n",
        "    #?\n",
        "    data_positional_embedding = scale * torch.randn((image_size // patch_size) ** 2 + 1, embed_dim)\n",
        "    self.positional_embedding = nn.Parameter(data_positional_embedding)\n",
        "\n",
        "  def forward(self, x):\n",
        "    x = self.conv1(x) # shape = [*, width, grid, grid]\n",
        "    x = x.reshape(x.shape[0], x.shape[1], -1) # shape = [*, witdh, grid ** 2]\n",
        "    x = x.permute(0, 2, 1) # shape = [*, grid ** 2, width]\n",
        "\n",
        "    # expanding the CLS embedding?\n",
        "    cls_embs = self.class_embedding.to(x.dtype) + torch.zeros(x.shape[0], 1, x.shape[-1], dtype=x.dtype, device=x.device)\n",
        "    x = torch.cat([cls_embs, x], dim=1) #shape = [*, grid ** 2 + 1, width]\n",
        "\n",
        "    x = x + self.positional_embedding.to(x.dtype)\n",
        "    return x\n"
      ],
      "metadata": {
        "id": "glLZ_dxeuy9T"
      },
      "execution_count": null,
      "outputs": []
    },
    {
      "cell_type": "code",
      "source": [
        "# ex\n",
        "patchpos_embedding = PatchPostionalEmbeddingCLSToken()\n",
        "x = torch.randn(1, 3, 224, 224)\n",
        "out = patchpos_embedding(x)\n",
        "print(out.shape)"
      ],
      "metadata": {
        "id": "4KtcrEyWEGmt"
      },
      "execution_count": null,
      "outputs": []
    },
    {
      "cell_type": "code",
      "source": [
        "# class\n",
        "class ViTTransformerEncoder(nn.Module):\n",
        "  def __init__(self, embed_dim, num_heads, ff_dim, dropout=0.1) -> None:\n",
        "    super().__init__()\n",
        "    self.norm_1 = nn.LayerNorm(normalized_shape=embed_dim, eps=1e-6)\n",
        "    self.attn = nn.MultiheadAttention(\n",
        "        embed_dim=embed_dim,\n",
        "        num_heads=num_heads,\n",
        "        batch_first=True\n",
        "    )\n",
        "    self.norm_2 = nn.LayerNorm(normalized_shape=embed_dim, eps=1e-6)\n",
        "    self.ffn = nn.Sequential(\n",
        "        nn.Linear(in_features=embed_dim, out_features=ff_dim, bias=True),\n",
        "        nn.GELU(),\n",
        "        nn.Linear(in_features=ff_dim, out_features=embed_dim, bias=True)\n",
        "    )\n",
        "    self.dropout_1 = nn.Dropout(p=dropout)\n",
        "    self.dropout_2 = nn.Dropout(p=dropout)\n",
        "\n",
        "  def forward(self, x):\n",
        "    # LayerNorm before Multi-Head Attention\n",
        "    norm_x1 = self.norm_1(x)\n",
        "    attn_output, _ = self.attn(norm_x1, norm_x1, norm_x1)\n",
        "    attn_output = self.dropout_1(attn_output)\n",
        "    x = x + attn_output # Residual connection\n",
        "\n",
        "    # LayerNorm before Feed-Forward Network\n",
        "    norm_x2 = self.norm_2(x)\n",
        "    ffn_output = self.ffn(norm_x2)\n",
        "    ffn_output = self.dropout_2(ffn_output)\n",
        "    x = x + ffn_output # Residual connection\n",
        "\n",
        "    return x"
      ],
      "metadata": {
        "id": "FPta8jigF2Ez"
      },
      "execution_count": null,
      "outputs": []
    },
    {
      "cell_type": "code",
      "source": [
        "#?\n",
        "class VisionTransformerCLS(nn.Module):\n",
        "  def __init__(self,\n",
        "               image_size, embed_dim, num_heads, ff_dim,\n",
        "               dropout=0.1, num_classes=10, patch_size=16) -> None:\n",
        "    super().__init__()\n",
        "    self.embed_layer = PatchPostionalEmbeddingCLSToken(\n",
        "        image_size=image_size, embed_dim=embed_dim, patch_size=patch_size\n",
        "    )\n",
        "    self.transformer_layer = ViTTransformerEncoder(\n",
        "        embed_dim, num_heads, ff_dim, dropout\n",
        "    )\n",
        "    why_20 = 20\n",
        "    self.fc1 = nn.Linear(in_features=embed_dim, out_features=why_20)# why 20?\n",
        "    self.fc2 = nn.Linear(in_features=why_20, out_features=num_classes)\n",
        "    self.dropout = nn.Dropout(p=dropout)\n",
        "    self.relu = nn.ReLU()\n",
        "\n",
        "  def forward(self, x):\n",
        "    x = self.embed_layer(x)\n",
        "    #Corrected to single input\n",
        "    x = self.transformer_layer(x)\n",
        "    x = x[:, 0, :]\n",
        "\n",
        "    # Classification head\n",
        "    x = self.dropout(x)\n",
        "    x = self.fc1(x)\n",
        "    x = self.relu(x) # Optional activation for fc1\n",
        "    x = self.dropout(x)\n",
        "    x = self.fc2(x)\n",
        "    return x\n"
      ],
      "metadata": {
        "id": "dkpgIkn-Ij3U"
      },
      "execution_count": null,
      "outputs": []
    },
    {
      "cell_type": "code",
      "source": [
        "# ex\n",
        "image_size = 224\n",
        "embed_dim = 512\n",
        "num_heads = 4\n",
        "ff_dim = 128\n",
        "dropout = 0.1\n",
        "\n",
        "vit = VisionTransformerCLS(image_size, embed_dim, num_heads, ff_dim, dropout)"
      ],
      "metadata": {
        "id": "rfS1XWN48Ubq"
      },
      "execution_count": null,
      "outputs": []
    },
    {
      "cell_type": "code",
      "source": [
        "#ex\n",
        "x = torch.randn(1, 3, 224, 224)\n",
        "out = vit(x) # call model to classify\n",
        "print(out.shape)"
      ],
      "metadata": {
        "id": "AFGkmNjqNWrT"
      },
      "execution_count": null,
      "outputs": []
    },
    {
      "cell_type": "markdown",
      "source": [
        "## Training"
      ],
      "metadata": {
        "id": "lLL_RR6sNujn"
      }
    },
    {
      "cell_type": "code",
      "source": [
        "import torch.optim as optim\n",
        "\n",
        "# Initialize model value\n",
        "image_size = 224\n",
        "embed_dim = 512\n",
        "num_heads = 4\n",
        "ff_dim = 128\n",
        "dropout = 0.1\n",
        "learning_rate = 1e - 5\n",
        "\n",
        "model = VisionTransformerCLS(\n",
        "    image_size, embed_dim, num_heads, ff_dim, dropout, num_classes=10\n",
        ")\n",
        "model.to(device)\n",
        "\n",
        "criterion = torch.nn.CrossEntropyLoss()\n",
        "optimizer = optim.Adam(model.parameters(), lr=learning_rate)"
      ],
      "metadata": {
        "id": "son_SW6iNsUt"
      },
      "execution_count": null,
      "outputs": []
    },
    {
      "cell_type": "code",
      "source": [
        "# train function\n",
        "def train_epoch(model, optimizer, criterion, train_dataloader, device='cpu', epoch=0, log_interval=50):\n",
        "  model.train()\n",
        "  total_acc, total_count = 0, 0 # total\n",
        "  losses = []\n",
        "  start_time = time.time()\n",
        "\n",
        "  for idx, (inputs, labels) in enumerate(train_dataloader):\n",
        "    inputs, labels = inputs.to(device), labels.to(device)\n",
        "\n",
        "    # reset gradient\n",
        "    optimizer.zero_grad()\n",
        "\n",
        "    # forward\n",
        "    predictions = model(inputs)\n",
        "\n",
        "    # loss\n",
        "    loss = criterion(predictions, labels)\n",
        "    losses.append(loss.item())\n",
        "\n",
        "    # backward\n",
        "    loss.backward()\n",
        "\n",
        "    # update weight\n",
        "    optimizer.step()\n",
        "\n",
        "    # Calculate the number of correct predictions in the current batch\n",
        "    #\n",
        "    total_acc += (predictions.argmax(1) == labels).sum().item()\n",
        "    # calculate train size\n",
        "    total_count += labels.size(0) # len(labels)\n",
        "\n",
        "    # print train for each epoch?...\n",
        "    # log_interval = num_epochs?\n",
        "    # idx =0,.. number of train loader(= train dataset / batch size) - 1\n",
        "    if idx % log_interval == 0 and idx > 0:\n",
        "      elapsed = time.time() - start_time\n",
        "      print(\n",
        "          \"| epoch {:3d} | {:5d}/{:5d} batches \"\n",
        "          \"| accuracy {:8.3f}\".format(\n",
        "              epoch, idx, len(train_dataloader), total_acc / total_count\n",
        "          )\n",
        "      )\n",
        "      total_acc, total_count = 0, 0\n",
        "      start_time = time.time()\n",
        "  epoch_acc = total_acc / total_count # average accuracy loss\n",
        "  epoch_loss = sum(losses) / len(losses) # average train loss\n",
        "  return epoch_acc, epoch_loss\n"
      ],
      "metadata": {
        "id": "zwhBd4NTPVah"
      },
      "execution_count": null,
      "outputs": []
    },
    {
      "cell_type": "code",
      "source": [
        "#validation fucntion\n",
        "def validation_epoch(model, criterion, val_dataloader, device='cpu'):\n",
        "  model.eval()\n",
        "  total_acc, total_count = 0, 0\n",
        "  losses = []\n",
        "\n",
        "  # does not need call update gradient\n",
        "  with torch.no_grad():\n",
        "    for idx, (inputs, labels) in enumerate(val_dataloader):\n",
        "      inputs, labels = inputs.to(device), labels.to(device)\n",
        "\n",
        "      predictions = model(inputs)\n",
        "\n",
        "      loss = criterion(predictions, labels)\n",
        "      loss.append(loss.item())\n",
        "\n",
        "      total_acc += (predictions.argmax(1) == labels).sum().item()\n",
        "      total_count += labels.size(0)\n",
        "\n",
        "  epoch_acc = total_acc / total_count\n",
        "  epoch_loss = sum(losses) / len(losses)\n",
        "  return epoch_acc, epoch_loss"
      ],
      "metadata": {
        "id": "14Wm2pWdRHI0"
      },
      "execution_count": null,
      "outputs": []
    },
    {
      "cell_type": "code",
      "source": [
        "def train(model, model_name, save_model_path, optimizer, criterion, dataloader, num_epochs, device='cpu'):\n",
        "  \"\"\"\n",
        "  Usage: Train, validate model and save model\n",
        "  dataloader = [train_dataloader, val_loader]\n",
        "  \"\"\"\n",
        "  train_lost_list, train_acc_list = []\n",
        "  val_lost_list, val_acc_list = []\n",
        "  times = []\n",
        "  best_loss_eval = 100\n",
        "  train_loader, val_loader = dataloader[0], dataloader[1]\n",
        "  for epoch in range(num_epochs):\n",
        "    epoch_start_time = time.time()\n",
        "    #train state\n",
        "    train_acc, train_lost = train_epoch(model, optimizer, criterion, train_dataloader, device, epoch, log_interval=50)\n",
        "\n",
        "    #validate state\n",
        "    val_acc, val_lost = validation_epoch(model, criterion, val_dataloader, device)\n",
        "\n",
        "    # save the best model\n",
        "    if eval_loss < best_loss_eval:\n",
        "      torch.save(model.state_dict(), save_model + f'/{model_name}.pt')\n",
        "\n",
        "    times.append(time.time() - epoch_start_time)\n",
        "\n",
        "    # append value\n",
        "    train_lost_list.append(train_lost)\n",
        "    train_acc_list.append(train_acc)\n",
        "    val_lost_list.append(val_lost)\n",
        "    val_acc_list.append(val_acc)\n",
        "\n",
        "    # print result for each epoch\n",
        "    print(\"-\" * 59)\n",
        "    print(\n",
        "        \"| End of epoch {:3d} | Time: {:5.2f}s | Train Accuracy {:8.3f} \"\n",
        "        \"| Validate Accuracy {:8.3f} | Validate Loss {:8.3f}\".format(\n",
        "            epoch + 1, time.time() - epoch_start_time, train_acc, train_loss, val_acc, val_loss\n",
        "        )\n",
        "    )\n",
        "    print(\"-\" * 59)\n",
        "  # Load best model de lam gi?\n",
        "  model.load_state_dict(torch.load(save_model + f'/{model_name}.pt'))\n",
        "  model.eval()\n",
        "  metrics = {\n",
        "      'train_accuracy' : train_acc_list,\n",
        "      'train_loss' : train_lost_list,\n",
        "      'val_accuracy' : val_acc_list,\n",
        "      'val_loss' : val_lost_list,\n",
        "      'time' : times\n",
        "  }\n",
        "  return model, metric"
      ],
      "metadata": {
        "id": "-ZClHdmWRp1V"
      },
      "execution_count": null,
      "outputs": []
    },
    {
      "cell_type": "code",
      "source": [
        "import os\n",
        "#input out put cua bai toan la gi, co the cai tien, kho khan cua bai toan la gi,\n",
        "# co the cai tien bai toan nay hay khong?\n",
        "# training and save model\n",
        "num_epochs = 50\n",
        "save_model_path = './model'\n",
        "os.makedirs(save_model_path, exist_ok=True)\n",
        "model_name = 'model_vit_cifar10'\n",
        "\n",
        "dataloader = [train_loader, val_loader]\n",
        "model, metrics = train(\n",
        "    model, model_name, save_model, optimizer, criterion, dataloader, num_epochs, device\n",
        ")"
      ],
      "metadata": {
        "id": "nYs2llzcO5YZ"
      },
      "execution_count": null,
      "outputs": []
    },
    {
      "cell_type": "markdown",
      "source": [
        "## Visualization"
      ],
      "metadata": {
        "id": "Djsf-Z59J4Z4"
      }
    },
    {
      "cell_type": "code",
      "source": [
        "import matplotlib.pyplot as plt\n",
        "\n",
        "def plot_result(num_epochs, train_accs, eval_accs, train_losses, eval_losses):\n",
        "  epochs = list(range(num_epochs))\n",
        "  fig, axs = plt.subplots(nrows= 1, ncols=2, figsize=(12, 6))\n",
        "\n",
        "  axs[0].plot(epochs, train_accs, label=\"Training Accuaracy\", color='green')\n",
        "  axs[0].plot(epochs, eval_accs, label=\"Evaluation Accuaracy\", color='orange')\n",
        "  axs[0].set(xlabel='Epoch', ylabel='Accuaracy')\n",
        "\n",
        "  axs[1].plot(epochs, train_losses, label=\"Training Loss\", color='green')\n",
        "  axs[1].plot(epochs, eval_losses, label=\"Evaluation Loss\", color='orange')\n",
        "  axs[1].set(xlabel='Epoch', ylabel='Loss')\n",
        "  plt.legend()\n"
      ],
      "metadata": {
        "id": "VCTJDfg5Patw"
      },
      "execution_count": null,
      "outputs": []
    },
    {
      "cell_type": "code",
      "source": [
        "plot_result(\n",
        "    num_epochs,\n",
        "    metrics[\"train_accuracy\"],\n",
        "    metrics[\"valid_accuracy\"],\n",
        "    metrics[\"train_loss\"],\n",
        "    metrics[\"valid_loss\"]\n",
        ")"
      ],
      "metadata": {
        "id": "ORy9vwk1J3pS"
      },
      "execution_count": null,
      "outputs": []
    },
    {
      "cell_type": "markdown",
      "source": [
        "## Evaluate by Test dataset"
      ],
      "metadata": {
        "id": "0ZeuB1htPkim"
      }
    },
    {
      "cell_type": "code",
      "source": [
        "test_target, test_predict = []\n",
        "model.load_state_dict(torch.load(save_model + f'/{model_name}.pt'))\n",
        "model.eval()\n",
        "with torch.no_grad():\n",
        "  for inputs, labels in test_loader:\n",
        "    inputs, labels = inputs.to(device), labels.to(device)\n",
        "    predictions = model()\n",
        "\n",
        "    test_target.append(inputs.cpu())\n",
        "    test_predict.append(predictions.cpu())\n",
        "test_target = torch.cat(test_target, dim=0)\n",
        "test_predict = torch.cat(test_predict, dim=0)\n",
        "\n",
        "test_acc = (torch.argmax(test_predict, dim=1)==test_target).sum().item() / len(test_target)\n",
        "print(f\"Test Accuracy: {test_acc:.4f}\")"
      ],
      "metadata": {
        "id": "yZhqeF9nPkAE"
      },
      "execution_count": null,
      "outputs": []
    }
  ],
  "metadata": {
    "colab": {
      "provenance": [],
      "include_colab_link": true
    },
    "kernelspec": {
      "display_name": "Python 3",
      "name": "python3"
    },
    "language_info": {
      "name": "python"
    }
  },
  "nbformat": 4,
  "nbformat_minor": 0
}