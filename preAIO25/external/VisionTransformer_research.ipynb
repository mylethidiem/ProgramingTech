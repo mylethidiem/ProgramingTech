{
  "cells": [
    {
      "cell_type": "markdown",
      "metadata": {
        "id": "view-in-github",
        "colab_type": "text"
      },
      "source": [
        "<a href=\"https://colab.research.google.com/github/mylethidiem/zero-to-hero/blob/main/preAIO25/external/VisionTransformer_research.ipynb\" target=\"_parent\"><img src=\"https://colab.research.google.com/assets/colab-badge.svg\" alt=\"Open In Colab\"/></a>"
      ]
    },
    {
      "cell_type": "markdown",
      "metadata": {
        "id": "XSpmFt9_S8qr"
      },
      "source": [
        "# **Vision Transformer**"
      ]
    },
    {
      "cell_type": "code",
      "execution_count": 1,
      "metadata": {
        "id": "R6kBYpHvKfcd",
        "colab": {
          "base_uri": "https://localhost:8080/"
        },
        "outputId": "0fec4e48-618d-4a51-aeb5-beae4e492fa3"
      },
      "outputs": [
        {
          "output_type": "stream",
          "name": "stdout",
          "text": [
            "Collecting torchvision==0.16.0\n",
            "  Downloading torchvision-0.16.0-cp311-cp311-manylinux1_x86_64.whl.metadata (6.6 kB)\n",
            "Requirement already satisfied: numpy in /usr/local/lib/python3.11/dist-packages (from torchvision==0.16.0) (1.26.4)\n",
            "Requirement already satisfied: requests in /usr/local/lib/python3.11/dist-packages (from torchvision==0.16.0) (2.32.3)\n",
            "Collecting torch==2.1.0 (from torchvision==0.16.0)\n",
            "  Downloading torch-2.1.0-cp311-cp311-manylinux1_x86_64.whl.metadata (25 kB)\n",
            "Requirement already satisfied: pillow!=8.3.*,>=5.3.0 in /usr/local/lib/python3.11/dist-packages (from torchvision==0.16.0) (11.1.0)\n",
            "Requirement already satisfied: filelock in /usr/local/lib/python3.11/dist-packages (from torch==2.1.0->torchvision==0.16.0) (3.17.0)\n",
            "Requirement already satisfied: typing-extensions in /usr/local/lib/python3.11/dist-packages (from torch==2.1.0->torchvision==0.16.0) (4.12.2)\n",
            "Requirement already satisfied: sympy in /usr/local/lib/python3.11/dist-packages (from torch==2.1.0->torchvision==0.16.0) (1.13.1)\n",
            "Requirement already satisfied: networkx in /usr/local/lib/python3.11/dist-packages (from torch==2.1.0->torchvision==0.16.0) (3.4.2)\n",
            "Requirement already satisfied: jinja2 in /usr/local/lib/python3.11/dist-packages (from torch==2.1.0->torchvision==0.16.0) (3.1.5)\n",
            "Requirement already satisfied: fsspec in /usr/local/lib/python3.11/dist-packages (from torch==2.1.0->torchvision==0.16.0) (2024.10.0)\n",
            "Collecting nvidia-cuda-nvrtc-cu12==12.1.105 (from torch==2.1.0->torchvision==0.16.0)\n",
            "  Downloading nvidia_cuda_nvrtc_cu12-12.1.105-py3-none-manylinux1_x86_64.whl.metadata (1.5 kB)\n",
            "Collecting nvidia-cuda-runtime-cu12==12.1.105 (from torch==2.1.0->torchvision==0.16.0)\n",
            "  Downloading nvidia_cuda_runtime_cu12-12.1.105-py3-none-manylinux1_x86_64.whl.metadata (1.5 kB)\n",
            "Collecting nvidia-cuda-cupti-cu12==12.1.105 (from torch==2.1.0->torchvision==0.16.0)\n",
            "  Downloading nvidia_cuda_cupti_cu12-12.1.105-py3-none-manylinux1_x86_64.whl.metadata (1.6 kB)\n",
            "Collecting nvidia-cudnn-cu12==8.9.2.26 (from torch==2.1.0->torchvision==0.16.0)\n",
            "  Downloading nvidia_cudnn_cu12-8.9.2.26-py3-none-manylinux1_x86_64.whl.metadata (1.6 kB)\n",
            "Collecting nvidia-cublas-cu12==12.1.3.1 (from torch==2.1.0->torchvision==0.16.0)\n",
            "  Downloading nvidia_cublas_cu12-12.1.3.1-py3-none-manylinux1_x86_64.whl.metadata (1.5 kB)\n",
            "Collecting nvidia-cufft-cu12==11.0.2.54 (from torch==2.1.0->torchvision==0.16.0)\n",
            "  Downloading nvidia_cufft_cu12-11.0.2.54-py3-none-manylinux1_x86_64.whl.metadata (1.5 kB)\n",
            "Collecting nvidia-curand-cu12==10.3.2.106 (from torch==2.1.0->torchvision==0.16.0)\n",
            "  Downloading nvidia_curand_cu12-10.3.2.106-py3-none-manylinux1_x86_64.whl.metadata (1.5 kB)\n",
            "Collecting nvidia-cusolver-cu12==11.4.5.107 (from torch==2.1.0->torchvision==0.16.0)\n",
            "  Downloading nvidia_cusolver_cu12-11.4.5.107-py3-none-manylinux1_x86_64.whl.metadata (1.6 kB)\n",
            "Collecting nvidia-cusparse-cu12==12.1.0.106 (from torch==2.1.0->torchvision==0.16.0)\n",
            "  Downloading nvidia_cusparse_cu12-12.1.0.106-py3-none-manylinux1_x86_64.whl.metadata (1.6 kB)\n",
            "Collecting nvidia-nccl-cu12==2.18.1 (from torch==2.1.0->torchvision==0.16.0)\n",
            "  Downloading nvidia_nccl_cu12-2.18.1-py3-none-manylinux1_x86_64.whl.metadata (1.8 kB)\n",
            "Collecting nvidia-nvtx-cu12==12.1.105 (from torch==2.1.0->torchvision==0.16.0)\n",
            "  Downloading nvidia_nvtx_cu12-12.1.105-py3-none-manylinux1_x86_64.whl.metadata (1.7 kB)\n",
            "Collecting triton==2.1.0 (from torch==2.1.0->torchvision==0.16.0)\n",
            "  Downloading triton-2.1.0-0-cp311-cp311-manylinux2014_x86_64.manylinux_2_17_x86_64.whl.metadata (1.3 kB)\n",
            "Requirement already satisfied: nvidia-nvjitlink-cu12 in /usr/local/lib/python3.11/dist-packages (from nvidia-cusolver-cu12==11.4.5.107->torch==2.1.0->torchvision==0.16.0) (12.5.82)\n",
            "Requirement already satisfied: charset-normalizer<4,>=2 in /usr/local/lib/python3.11/dist-packages (from requests->torchvision==0.16.0) (3.4.1)\n",
            "Requirement already satisfied: idna<4,>=2.5 in /usr/local/lib/python3.11/dist-packages (from requests->torchvision==0.16.0) (3.10)\n",
            "Requirement already satisfied: urllib3<3,>=1.21.1 in /usr/local/lib/python3.11/dist-packages (from requests->torchvision==0.16.0) (2.3.0)\n",
            "Requirement already satisfied: certifi>=2017.4.17 in /usr/local/lib/python3.11/dist-packages (from requests->torchvision==0.16.0) (2025.1.31)\n",
            "Requirement already satisfied: MarkupSafe>=2.0 in /usr/local/lib/python3.11/dist-packages (from jinja2->torch==2.1.0->torchvision==0.16.0) (3.0.2)\n",
            "Requirement already satisfied: mpmath<1.4,>=1.1.0 in /usr/local/lib/python3.11/dist-packages (from sympy->torch==2.1.0->torchvision==0.16.0) (1.3.0)\n",
            "Downloading torchvision-0.16.0-cp311-cp311-manylinux1_x86_64.whl (6.9 MB)\n",
            "\u001b[2K   \u001b[90m━━━━━━━━━━━━━━━━━━━━━━━━━━━━━━━━━━━━━━━━\u001b[0m \u001b[32m6.9/6.9 MB\u001b[0m \u001b[31m52.1 MB/s\u001b[0m eta \u001b[36m0:00:00\u001b[0m\n",
            "\u001b[?25hDownloading torch-2.1.0-cp311-cp311-manylinux1_x86_64.whl (670.2 MB)\n",
            "\u001b[2K   \u001b[90m━━━━━━━━━━━━━━━━━━━━━━━━━━━━━━━━━━━━━━━━\u001b[0m \u001b[32m670.2/670.2 MB\u001b[0m \u001b[31m2.0 MB/s\u001b[0m eta \u001b[36m0:00:00\u001b[0m\n",
            "\u001b[?25hDownloading nvidia_cublas_cu12-12.1.3.1-py3-none-manylinux1_x86_64.whl (410.6 MB)\n",
            "\u001b[2K   \u001b[90m━━━━━━━━━━━━━━━━━━━━━━━━━━━━━━━━━━━━━━━━\u001b[0m \u001b[32m410.6/410.6 MB\u001b[0m \u001b[31m2.8 MB/s\u001b[0m eta \u001b[36m0:00:00\u001b[0m\n",
            "\u001b[?25hDownloading nvidia_cuda_cupti_cu12-12.1.105-py3-none-manylinux1_x86_64.whl (14.1 MB)\n",
            "\u001b[2K   \u001b[90m━━━━━━━━━━━━━━━━━━━━━━━━━━━━━━━━━━━━━━━━\u001b[0m \u001b[32m14.1/14.1 MB\u001b[0m \u001b[31m86.1 MB/s\u001b[0m eta \u001b[36m0:00:00\u001b[0m\n",
            "\u001b[?25hDownloading nvidia_cuda_nvrtc_cu12-12.1.105-py3-none-manylinux1_x86_64.whl (23.7 MB)\n",
            "\u001b[2K   \u001b[90m━━━━━━━━━━━━━━━━━━━━━━━━━━━━━━━━━━━━━━━━\u001b[0m \u001b[32m23.7/23.7 MB\u001b[0m \u001b[31m78.9 MB/s\u001b[0m eta \u001b[36m0:00:00\u001b[0m\n",
            "\u001b[?25hDownloading nvidia_cuda_runtime_cu12-12.1.105-py3-none-manylinux1_x86_64.whl (823 kB)\n",
            "\u001b[2K   \u001b[90m━━━━━━━━━━━━━━━━━━━━━━━━━━━━━━━━━━━━━━━━\u001b[0m \u001b[32m823.6/823.6 kB\u001b[0m \u001b[31m50.7 MB/s\u001b[0m eta \u001b[36m0:00:00\u001b[0m\n",
            "\u001b[?25hDownloading nvidia_cudnn_cu12-8.9.2.26-py3-none-manylinux1_x86_64.whl (731.7 MB)\n",
            "\u001b[2K   \u001b[90m━━━━━━━━━━━━━━━━━━━━━━━━━━━━━━━━━━━━━━━━\u001b[0m \u001b[32m731.7/731.7 MB\u001b[0m \u001b[31m2.2 MB/s\u001b[0m eta \u001b[36m0:00:00\u001b[0m\n",
            "\u001b[?25hDownloading nvidia_cufft_cu12-11.0.2.54-py3-none-manylinux1_x86_64.whl (121.6 MB)\n",
            "\u001b[2K   \u001b[90m━━━━━━━━━━━━━━━━━━━━━━━━━━━━━━━━━━━━━━━━\u001b[0m \u001b[32m121.6/121.6 MB\u001b[0m \u001b[31m11.5 MB/s\u001b[0m eta \u001b[36m0:00:00\u001b[0m\n",
            "\u001b[?25hDownloading nvidia_curand_cu12-10.3.2.106-py3-none-manylinux1_x86_64.whl (56.5 MB)\n",
            "\u001b[2K   \u001b[90m━━━━━━━━━━━━━━━━━━━━━━━━━━━━━━━━━━━━━━━━\u001b[0m \u001b[32m56.5/56.5 MB\u001b[0m \u001b[31m39.2 MB/s\u001b[0m eta \u001b[36m0:00:00\u001b[0m\n",
            "\u001b[?25hDownloading nvidia_cusolver_cu12-11.4.5.107-py3-none-manylinux1_x86_64.whl (124.2 MB)\n",
            "\u001b[2K   \u001b[90m━━━━━━━━━━━━━━━━━━━━━━━━━━━━━━━━━━━━━━━━\u001b[0m \u001b[32m124.2/124.2 MB\u001b[0m \u001b[31m18.2 MB/s\u001b[0m eta \u001b[36m0:00:00\u001b[0m\n",
            "\u001b[?25hDownloading nvidia_cusparse_cu12-12.1.0.106-py3-none-manylinux1_x86_64.whl (196.0 MB)\n",
            "\u001b[2K   \u001b[90m━━━━━━━━━━━━━━━━━━━━━━━━━━━━━━━━━━━━━━━━\u001b[0m \u001b[32m196.0/196.0 MB\u001b[0m \u001b[31m4.8 MB/s\u001b[0m eta \u001b[36m0:00:00\u001b[0m\n",
            "\u001b[?25hDownloading nvidia_nccl_cu12-2.18.1-py3-none-manylinux1_x86_64.whl (209.8 MB)\n",
            "\u001b[2K   \u001b[90m━━━━━━━━━━━━━━━━━━━━━━━━━━━━━━━━━━━━━━━━\u001b[0m \u001b[32m209.8/209.8 MB\u001b[0m \u001b[31m4.3 MB/s\u001b[0m eta \u001b[36m0:00:00\u001b[0m\n",
            "\u001b[?25hDownloading nvidia_nvtx_cu12-12.1.105-py3-none-manylinux1_x86_64.whl (99 kB)\n",
            "\u001b[2K   \u001b[90m━━━━━━━━━━━━━━━━━━━━━━━━━━━━━━━━━━━━━━━━\u001b[0m \u001b[32m99.1/99.1 kB\u001b[0m \u001b[31m9.9 MB/s\u001b[0m eta \u001b[36m0:00:00\u001b[0m\n",
            "\u001b[?25hDownloading triton-2.1.0-0-cp311-cp311-manylinux2014_x86_64.manylinux_2_17_x86_64.whl (89.2 MB)\n",
            "\u001b[2K   \u001b[90m━━━━━━━━━━━━━━━━━━━━━━━━━━━━━━━━━━━━━━━━\u001b[0m \u001b[32m89.2/89.2 MB\u001b[0m \u001b[31m24.9 MB/s\u001b[0m eta \u001b[36m0:00:00\u001b[0m\n",
            "\u001b[?25hInstalling collected packages: triton, nvidia-nvtx-cu12, nvidia-nccl-cu12, nvidia-cusparse-cu12, nvidia-curand-cu12, nvidia-cufft-cu12, nvidia-cuda-runtime-cu12, nvidia-cuda-nvrtc-cu12, nvidia-cuda-cupti-cu12, nvidia-cublas-cu12, nvidia-cusolver-cu12, nvidia-cudnn-cu12, torch, torchvision\n",
            "  Attempting uninstall: triton\n",
            "    Found existing installation: triton 3.1.0\n",
            "    Uninstalling triton-3.1.0:\n",
            "      Successfully uninstalled triton-3.1.0\n",
            "  Attempting uninstall: nvidia-nvtx-cu12\n",
            "    Found existing installation: nvidia-nvtx-cu12 12.4.127\n",
            "    Uninstalling nvidia-nvtx-cu12-12.4.127:\n",
            "      Successfully uninstalled nvidia-nvtx-cu12-12.4.127\n",
            "  Attempting uninstall: nvidia-nccl-cu12\n",
            "    Found existing installation: nvidia-nccl-cu12 2.21.5\n",
            "    Uninstalling nvidia-nccl-cu12-2.21.5:\n",
            "      Successfully uninstalled nvidia-nccl-cu12-2.21.5\n",
            "  Attempting uninstall: nvidia-cusparse-cu12\n",
            "    Found existing installation: nvidia-cusparse-cu12 12.5.1.3\n",
            "    Uninstalling nvidia-cusparse-cu12-12.5.1.3:\n",
            "      Successfully uninstalled nvidia-cusparse-cu12-12.5.1.3\n",
            "  Attempting uninstall: nvidia-curand-cu12\n",
            "    Found existing installation: nvidia-curand-cu12 10.3.6.82\n",
            "    Uninstalling nvidia-curand-cu12-10.3.6.82:\n",
            "      Successfully uninstalled nvidia-curand-cu12-10.3.6.82\n",
            "  Attempting uninstall: nvidia-cufft-cu12\n",
            "    Found existing installation: nvidia-cufft-cu12 11.2.3.61\n",
            "    Uninstalling nvidia-cufft-cu12-11.2.3.61:\n",
            "      Successfully uninstalled nvidia-cufft-cu12-11.2.3.61\n",
            "  Attempting uninstall: nvidia-cuda-runtime-cu12\n",
            "    Found existing installation: nvidia-cuda-runtime-cu12 12.5.82\n",
            "    Uninstalling nvidia-cuda-runtime-cu12-12.5.82:\n",
            "      Successfully uninstalled nvidia-cuda-runtime-cu12-12.5.82\n",
            "  Attempting uninstall: nvidia-cuda-nvrtc-cu12\n",
            "    Found existing installation: nvidia-cuda-nvrtc-cu12 12.5.82\n",
            "    Uninstalling nvidia-cuda-nvrtc-cu12-12.5.82:\n",
            "      Successfully uninstalled nvidia-cuda-nvrtc-cu12-12.5.82\n",
            "  Attempting uninstall: nvidia-cuda-cupti-cu12\n",
            "    Found existing installation: nvidia-cuda-cupti-cu12 12.5.82\n",
            "    Uninstalling nvidia-cuda-cupti-cu12-12.5.82:\n",
            "      Successfully uninstalled nvidia-cuda-cupti-cu12-12.5.82\n",
            "  Attempting uninstall: nvidia-cublas-cu12\n",
            "    Found existing installation: nvidia-cublas-cu12 12.5.3.2\n",
            "    Uninstalling nvidia-cublas-cu12-12.5.3.2:\n",
            "      Successfully uninstalled nvidia-cublas-cu12-12.5.3.2\n",
            "  Attempting uninstall: nvidia-cusolver-cu12\n",
            "    Found existing installation: nvidia-cusolver-cu12 11.6.3.83\n",
            "    Uninstalling nvidia-cusolver-cu12-11.6.3.83:\n",
            "      Successfully uninstalled nvidia-cusolver-cu12-11.6.3.83\n",
            "  Attempting uninstall: nvidia-cudnn-cu12\n",
            "    Found existing installation: nvidia-cudnn-cu12 9.3.0.75\n",
            "    Uninstalling nvidia-cudnn-cu12-9.3.0.75:\n",
            "      Successfully uninstalled nvidia-cudnn-cu12-9.3.0.75\n",
            "  Attempting uninstall: torch\n",
            "    Found existing installation: torch 2.5.1+cu124\n",
            "    Uninstalling torch-2.5.1+cu124:\n",
            "      Successfully uninstalled torch-2.5.1+cu124\n",
            "  Attempting uninstall: torchvision\n",
            "    Found existing installation: torchvision 0.20.1+cu124\n",
            "    Uninstalling torchvision-0.20.1+cu124:\n",
            "      Successfully uninstalled torchvision-0.20.1+cu124\n",
            "\u001b[31mERROR: pip's dependency resolver does not currently take into account all the packages that are installed. This behaviour is the source of the following dependency conflicts.\n",
            "torchaudio 2.5.1+cu124 requires torch==2.5.1, but you have torch 2.1.0 which is incompatible.\u001b[0m\u001b[31m\n",
            "\u001b[0mSuccessfully installed nvidia-cublas-cu12-12.1.3.1 nvidia-cuda-cupti-cu12-12.1.105 nvidia-cuda-nvrtc-cu12-12.1.105 nvidia-cuda-runtime-cu12-12.1.105 nvidia-cudnn-cu12-8.9.2.26 nvidia-cufft-cu12-11.0.2.54 nvidia-curand-cu12-10.3.2.106 nvidia-cusolver-cu12-11.4.5.107 nvidia-cusparse-cu12-12.1.0.106 nvidia-nccl-cu12-2.18.1 nvidia-nvtx-cu12-12.1.105 torch-2.1.0 torchvision-0.16.0 triton-2.1.0\n"
          ]
        }
      ],
      "source": [
        "# Install packages\n",
        "!pip install torchvision==0.16.0"
      ]
    },
    {
      "cell_type": "code",
      "source": [
        "#\n",
        "import torch\n",
        "import torch.nn as nn\n",
        "from torch.nn import functional as F\n",
        "\n",
        "from torch.utils.data import DataLoader\n",
        "import torchvision\n",
        "import torchvision.transforms as transforms"
      ],
      "metadata": {
        "id": "q9KlvJd2PBb-"
      },
      "execution_count": 2,
      "outputs": []
    },
    {
      "cell_type": "code",
      "source": [
        "device = torch.device('cuda' if torch.cuda.is_available() else 'cpu')\n",
        "print(device)\n",
        "def set_seed(seed):\n",
        "  torch.manual_seed(seed)\n",
        "SEED = 42\n",
        "set_seed(SEED)"
      ],
      "metadata": {
        "id": "Q0Ar5px1k7vF",
        "colab": {
          "base_uri": "https://localhost:8080/"
        },
        "outputId": "c5e53791-6afb-4785-8336-ac2d90cb4d24"
      },
      "execution_count": 3,
      "outputs": [
        {
          "output_type": "stream",
          "name": "stdout",
          "text": [
            "cuda\n"
          ]
        }
      ]
    },
    {
      "cell_type": "markdown",
      "source": [
        "## LOAD DATA CIFAR10"
      ],
      "metadata": {
        "id": "s9lTN1HXsmeq"
      }
    },
    {
      "cell_type": "markdown",
      "source": [
        "What is [CIFAR10](https://www.cs.toronto.edu/~kriz/cifar.html)?\n",
        "\n",
        "\n"
      ],
      "metadata": {
        "id": "hBa5tjThsy2g"
      }
    },
    {
      "cell_type": "code",
      "source": [
        "batch_size = 4\n",
        "\n",
        "# Why need transform??\n",
        "transform =  transforms.Compose(\n",
        "    [\n",
        "        transforms.Resize((224, 224)),\n",
        "        transforms.ToTensor(),\n",
        "        transforms.Normalize((0.5, 0.5, 0.5), (0.5, 0.5, 0.5)) #?\n",
        "    ]\n",
        ")\n",
        "\n",
        "#download\n",
        "test_dataset = torchvision.datasets.CIFAR10(root='./data', train=False,\n",
        "                                             transform=transform, download=True)\n",
        "\n",
        "# split data train into val and train\n",
        "train_dataset = torchvision.datasets.CIFAR10(root='./data', train=True,\n",
        "                                            transform=transform, download=True)\n",
        "train_subset_size = int(len(train_dataset) * 0.9)\n",
        "val_subset_size = len(train_dataset) - train_subset_size\n",
        "train_subset, val_subset = torch.utils.data.random_split(train_dataset, [train_subset_size,val_subset_size ])\n",
        "\n",
        "\n",
        "# create dataloader contain batches of data to train(mini-batch)\n",
        "train_loader = DataLoader(dataset=train_subset, batch_size=batch_size, shuffle=True, num_workers=2)#?\n",
        "val_loader = DataLoader(dataset=val_subset, batch_size=batch_size, shuffle=False, num_workers=2)\n",
        "test_loader = DataLoader(dataset=test_dataset, batch_size=batch_size, shuffle=False, num_workers=2)\n",
        "print(f\"Train size: {len(train_subset)}\")\n",
        "print(f\"Train batches: {len(train_loader)}\")\n",
        "print(f\"Validation size: {len(val_subset)}\")\n",
        "print(f\"Test size: {len(test_dataset)}\")"
      ],
      "metadata": {
        "id": "icHdsN5nlJrO",
        "colab": {
          "base_uri": "https://localhost:8080/"
        },
        "outputId": "40ecca89-2a8b-4854-aa1a-270943c194b1"
      },
      "execution_count": 4,
      "outputs": [
        {
          "output_type": "stream",
          "name": "stdout",
          "text": [
            "Downloading https://www.cs.toronto.edu/~kriz/cifar-10-python.tar.gz to ./data/cifar-10-python.tar.gz\n"
          ]
        },
        {
          "output_type": "stream",
          "name": "stderr",
          "text": [
            "100%|██████████| 170498071/170498071 [00:02<00:00, 77593124.91it/s]\n"
          ]
        },
        {
          "output_type": "stream",
          "name": "stdout",
          "text": [
            "Extracting ./data/cifar-10-python.tar.gz to ./data\n",
            "Files already downloaded and verified\n",
            "Train size: 45000\n",
            "Train batches: 11250\n",
            "Validation size: 5000\n",
            "Test size: 10000\n"
          ]
        }
      ]
    },
    {
      "cell_type": "markdown",
      "source": [
        "## Build Model"
      ],
      "metadata": {
        "id": "lFY5ufFSJtgd"
      }
    },
    {
      "cell_type": "markdown",
      "source": [
        "### A little research"
      ],
      "metadata": {
        "id": "gwOX5H6MVOtO"
      }
    },
    {
      "cell_type": "code",
      "source": [
        "# Patch Embedding\n",
        "# usage, parameters?\n",
        "# Khong xai\n",
        "class PatchEmbedding(nn.Module):\n",
        "  def __init__(self, embed_dim=512, patch_size=16, image_size=224):\n",
        "    super().__init__()\n",
        "    # 1 layer conv2d\n",
        "    # image have 3 channels\n",
        "    # why we don't need a bias?\n",
        "    # why embed dim have that value?\n",
        "    self.conv1 = nn.Conv2d(in_channels=3, out_channels=embed_dim, kernel_size=patch_size, stride=patch_size, bias=False)\n",
        "\n",
        "  def forward(self, x):\n",
        "    x = self.conv1(x)\n",
        "\n",
        "    # why we need reshape?\n",
        "    print(f\"x shape before reshape: {x.shape}\") # shape [*, width, grid, grid]\n",
        "    x = x.reshape(x.shape[0], x.shape[1], -1)\n",
        "    print(f\"x shape after reshape: {x.shape}\") # shape [*, width, grid ** 2]\n",
        "\n",
        "    # why need permute x shape?\n",
        "    x.permute(0, 2, 1)\n",
        "    return x\n"
      ],
      "metadata": {
        "id": "Cz9KBCEPKLrH"
      },
      "execution_count": 5,
      "outputs": []
    },
    {
      "cell_type": "code",
      "source": [
        "# example\n",
        "patch_embedding = PatchEmbedding()\n",
        "x = torch.randn(1, 3, 224, 224)\n",
        "\n",
        "out = patch_embedding(x)\n",
        "print(out.shape)"
      ],
      "metadata": {
        "id": "k-n1nyEEV9LH",
        "colab": {
          "base_uri": "https://localhost:8080/"
        },
        "outputId": "5a7c2698-9a13-478c-f1f1-f341f1091e20"
      },
      "execution_count": 6,
      "outputs": [
        {
          "output_type": "stream",
          "name": "stdout",
          "text": [
            "x shape before reshape: torch.Size([1, 512, 14, 14])\n",
            "x shape after reshape: torch.Size([1, 512, 196])\n",
            "torch.Size([1, 512, 196])\n"
          ]
        }
      ]
    },
    {
      "cell_type": "code",
      "source": [
        "# Patch Positional Embedding\n",
        "# usage, parameters?\n",
        "class PatchPositionalEmbedding(nn.Module):\n",
        "  def __init__(self, embed_dim=512, patch_size=16, image_size=224):\n",
        "    super().__init__()\n",
        "    self.conv1 = nn.Conv2d(in_channels=3, out_channels=embed_dim, kernel_size=patch_size, stride=patch_size, bias=False)\n",
        "    scale = embed_dim ** -0.5 #?\n",
        "    print(embed_dim)\n",
        "    data = scale * torch.randn((image_size // patch_size) ** 2, embed_dim)#?\n",
        "    self.positional_embedding = nn.Parameter(data)\n",
        "\n",
        "  def forward(self, x):\n",
        "    x = self.conv1(x) # shape = [*, width, grid]\n",
        "    x = x.reshape(x.shape[0], x.shape[1], -1) # shape = [*, width, grid ** 2]\n",
        "    x = x.permute(0, 2, 1)  # shape = [*, grid ** 2, width]\n",
        "\n",
        "    x = x + self.positional_embedding.to('cpu') #?\n",
        "    return x\n"
      ],
      "metadata": {
        "id": "EGZg031dski5"
      },
      "execution_count": 7,
      "outputs": []
    },
    {
      "cell_type": "code",
      "source": [
        "patchpos_embedding = PatchPositionalEmbedding()\n",
        "x = torch.randn(1, 3, 224, 224)\n",
        "\n",
        "out = patchpos_embedding(x)\n",
        "print(out.shape)"
      ],
      "metadata": {
        "id": "h4lkPj-jJ16r",
        "colab": {
          "base_uri": "https://localhost:8080/"
        },
        "outputId": "f2027715-0374-4a0d-9bca-15feb2f52063"
      },
      "execution_count": 8,
      "outputs": [
        {
          "output_type": "stream",
          "name": "stdout",
          "text": [
            "512\n",
            "torch.Size([1, 196, 512])\n"
          ]
        }
      ]
    },
    {
      "cell_type": "markdown",
      "source": [
        "### Build model"
      ],
      "metadata": {
        "id": "6MPUYuahVY09"
      }
    },
    {
      "cell_type": "code",
      "source": [
        "# Adding [CLS] token\n",
        "class PatchPostionalEmbeddingCLSToken(nn.Module):\n",
        "  def __init__(self, embed_dim=512, patch_size=16, image_size=224):\n",
        "    super().__init__()\n",
        "    self.conv1 = nn.Conv2d(in_channels=3, out_channels=embed_dim, kernel_size=patch_size, stride=patch_size, bias=False)\n",
        "\n",
        "    scale = embed_dim ** -0.5\n",
        "\n",
        "    data_class_embedding = scale * torch.randn(embed_dim)\n",
        "    self.class_embedding = nn.Parameter(data_class_embedding)\n",
        "\n",
        "    #?\n",
        "    data_positional_embedding = scale * torch.randn((image_size // patch_size) ** 2 + 1, embed_dim)\n",
        "    self.positional_embedding = nn.Parameter(data_positional_embedding)\n",
        "\n",
        "  def forward(self, x):\n",
        "    x = self.conv1(x) # shape = [*, width, grid, grid]\n",
        "    x = x.reshape(x.shape[0], x.shape[1], -1) # shape = [*, witdh, grid ** 2]\n",
        "    x = x.permute(0, 2, 1) # shape = [*, grid ** 2, width]\n",
        "\n",
        "    # expanding the CLS embedding?\n",
        "    cls_embs = self.class_embedding.to(x.dtype) + torch.zeros(x.shape[0], 1, x.shape[-1], dtype=x.dtype, device=x.device)\n",
        "    x = torch.cat([cls_embs, x], dim=1) #shape = [*, grid ** 2 + 1, width]\n",
        "\n",
        "    x = x + self.positional_embedding.to(x.dtype)\n",
        "    return x\n"
      ],
      "metadata": {
        "id": "glLZ_dxeuy9T"
      },
      "execution_count": 9,
      "outputs": []
    },
    {
      "cell_type": "code",
      "source": [
        "# ex\n",
        "patchpos_embedding = PatchPostionalEmbeddingCLSToken()\n",
        "x = torch.randn(1, 3, 224, 224)\n",
        "out = patchpos_embedding(x)\n",
        "print(out.shape)"
      ],
      "metadata": {
        "id": "4KtcrEyWEGmt",
        "colab": {
          "base_uri": "https://localhost:8080/"
        },
        "outputId": "b4242288-4e67-4361-c22e-328c70db83c7"
      },
      "execution_count": 10,
      "outputs": [
        {
          "output_type": "stream",
          "name": "stdout",
          "text": [
            "torch.Size([1, 197, 512])\n"
          ]
        }
      ]
    },
    {
      "cell_type": "code",
      "source": [
        "# class\n",
        "class ViTTransformerEncoder(nn.Module):\n",
        "  def __init__(self, embed_dim, num_heads, ff_dim, dropout=0.1) -> None:\n",
        "    super().__init__()\n",
        "    self.norm_1 = nn.LayerNorm(normalized_shape=embed_dim, eps=1e-6)\n",
        "    self.attn = nn.MultiheadAttention(\n",
        "        embed_dim=embed_dim,\n",
        "        num_heads=num_heads,\n",
        "        batch_first=True\n",
        "    )\n",
        "    self.norm_2 = nn.LayerNorm(normalized_shape=embed_dim, eps=1e-6)\n",
        "    self.ffn = nn.Sequential(\n",
        "        nn.Linear(in_features=embed_dim, out_features=ff_dim, bias=True),\n",
        "        nn.GELU(),\n",
        "        nn.Linear(in_features=ff_dim, out_features=embed_dim, bias=True)\n",
        "    )\n",
        "    self.dropout_1 = nn.Dropout(p=dropout)\n",
        "    self.dropout_2 = nn.Dropout(p=dropout)\n",
        "\n",
        "  def forward(self, x):\n",
        "    # LayerNorm before Multi-Head Attention\n",
        "    norm_x1 = self.norm_1(x)\n",
        "    attn_output, _ = self.attn(norm_x1, norm_x1, norm_x1)\n",
        "    attn_output = self.dropout_1(attn_output)\n",
        "    x = x + attn_output # Residual connection\n",
        "\n",
        "    # LayerNorm before Feed-Forward Network\n",
        "    norm_x2 = self.norm_2(x)\n",
        "    ffn_output = self.ffn(norm_x2)\n",
        "    ffn_output = self.dropout_2(ffn_output)\n",
        "    x = x + ffn_output # Residual connection\n",
        "\n",
        "    return x"
      ],
      "metadata": {
        "id": "FPta8jigF2Ez"
      },
      "execution_count": 11,
      "outputs": []
    },
    {
      "cell_type": "code",
      "source": [
        "#?\n",
        "class VisionTransformerCLS(nn.Module):\n",
        "  def __init__(self,\n",
        "               image_size, embed_dim, num_heads, ff_dim,\n",
        "               dropout=0.1, num_classes=10, patch_size=16) -> None:\n",
        "    super().__init__()\n",
        "    self.embed_layer = PatchPostionalEmbeddingCLSToken(\n",
        "        image_size=image_size, embed_dim=embed_dim, patch_size=patch_size\n",
        "    )\n",
        "    self.transformer_layer = ViTTransformerEncoder(\n",
        "        embed_dim, num_heads, ff_dim, dropout\n",
        "    )\n",
        "    why_20 = 20\n",
        "    self.fc1 = nn.Linear(in_features=embed_dim, out_features=why_20)# why 20?\n",
        "    self.fc2 = nn.Linear(in_features=why_20, out_features=num_classes)\n",
        "    self.dropout = nn.Dropout(p=dropout)\n",
        "    self.relu = nn.ReLU()\n",
        "\n",
        "  def forward(self, x):\n",
        "    x = self.embed_layer(x)\n",
        "    #Corrected to single input\n",
        "    x = self.transformer_layer(x)\n",
        "    x = x[:, 0, :]\n",
        "\n",
        "    # Classification head\n",
        "    x = self.dropout(x)\n",
        "    x = self.fc1(x)\n",
        "    x = self.relu(x) # Optional activation for fc1\n",
        "    x = self.dropout(x)\n",
        "    x = self.fc2(x)\n",
        "    return x\n"
      ],
      "metadata": {
        "id": "dkpgIkn-Ij3U"
      },
      "execution_count": 12,
      "outputs": []
    },
    {
      "cell_type": "code",
      "source": [
        "# ex\n",
        "image_size = 224\n",
        "embed_dim = 512\n",
        "num_heads = 4\n",
        "ff_dim = 128\n",
        "dropout = 0.1\n",
        "\n",
        "vit = VisionTransformerCLS(image_size, embed_dim, num_heads, ff_dim, dropout)"
      ],
      "metadata": {
        "id": "rfS1XWN48Ubq"
      },
      "execution_count": 13,
      "outputs": []
    },
    {
      "cell_type": "code",
      "source": [
        "#ex\n",
        "x = torch.randn(1, 3, 224, 224)\n",
        "out = vit(x) # call model to classify\n",
        "print(out.shape)"
      ],
      "metadata": {
        "id": "AFGkmNjqNWrT",
        "colab": {
          "base_uri": "https://localhost:8080/"
        },
        "outputId": "47bab788-8e61-472a-866d-64908958cb01"
      },
      "execution_count": 14,
      "outputs": [
        {
          "output_type": "stream",
          "name": "stdout",
          "text": [
            "torch.Size([1, 10])\n"
          ]
        }
      ]
    },
    {
      "cell_type": "markdown",
      "source": [
        "## Training"
      ],
      "metadata": {
        "id": "lLL_RR6sNujn"
      }
    },
    {
      "cell_type": "code",
      "source": [
        "import torch.optim as optim\n",
        "\n",
        "# Initialize model value\n",
        "image_size = 224\n",
        "embed_dim = 512\n",
        "num_heads = 4\n",
        "ff_dim = 128\n",
        "dropout = 0.1\n",
        "learning_rate = 1e-5\n",
        "\n",
        "model = VisionTransformerCLS(\n",
        "    image_size, embed_dim, num_heads, ff_dim, dropout, num_classes=10\n",
        ")\n",
        "model.to(device)\n",
        "\n",
        "criterion = torch.nn.CrossEntropyLoss()\n",
        "optimizer = optim.Adam(model.parameters(), lr=learning_rate)"
      ],
      "metadata": {
        "id": "son_SW6iNsUt"
      },
      "execution_count": 15,
      "outputs": []
    },
    {
      "cell_type": "code",
      "source": [
        "import time\n",
        "\n",
        "# train function\n",
        "def train_epoch(model, optimizer, criterion, train_dataloader, device, epoch=0, log_interval=50):\n",
        "  model.train()\n",
        "  total_acc, total_count = 0, 0 # total\n",
        "  losses = []\n",
        "  start_time = time.time()\n",
        "\n",
        "  for idx, (inputs, train_labels) in enumerate(train_dataloader):\n",
        "    inputs, train_labels = inputs.to(device), train_labels.to(device)\n",
        "\n",
        "    # reset gradient\n",
        "    optimizer.zero_grad()\n",
        "\n",
        "    # forward\n",
        "    predictions = model(inputs)\n",
        "\n",
        "    # loss\n",
        "    loss = criterion(predictions, train_labels)\n",
        "    losses.append(loss.item())\n",
        "\n",
        "    # backward\n",
        "    loss.backward()\n",
        "\n",
        "    # update weight\n",
        "    optimizer.step()\n",
        "\n",
        "    # Calculate the number of correct predictions in the current batch\n",
        "    #\n",
        "    total_acc += (predictions.argmax(1) == train_labels).sum().item()\n",
        "    # calculate train size\n",
        "    total_count += train_labels.size(0) # len(train_labels)\n",
        "\n",
        "    # print train for each epoch?...\n",
        "    # log_interval = num_epochs?\n",
        "    # idx =0,.. number of train loader(= train dataset / batch size) - 1\n",
        "    if idx % log_interval == 0 and idx > 0:\n",
        "      elapsed = time.time() - start_time\n",
        "      print(\n",
        "          \"| epoch {:3d} | {:5d}/{:5d} batches \"\n",
        "          \"| accuracy {:8.3f}\".format(\n",
        "              epoch, idx, len(train_dataloader), total_acc / total_count\n",
        "          )\n",
        "      )\n",
        "      total_acc, total_count = 0, 0 # why reset them?\n",
        "      start_time = time.time()\n",
        "  epoch_acc = total_acc / total_count # average accuracy loss\n",
        "  epoch_loss = sum(losses) / len(losses) # average train loss\n",
        "  return epoch_acc, epoch_loss\n"
      ],
      "metadata": {
        "id": "zwhBd4NTPVah"
      },
      "execution_count": 31,
      "outputs": []
    },
    {
      "cell_type": "code",
      "source": [
        "#validation fucntion\n",
        "def validation_epoch(model, criterion, val_dataloader, device):\n",
        "  model.eval()\n",
        "  total_acc, total_count = 0, 0\n",
        "  losses = []\n",
        "\n",
        "  # does not need call update gradient\n",
        "  with torch.no_grad():\n",
        "    for idx, (inputs, val_labels) in enumerate(val_dataloader):\n",
        "      inputs, val_labels = inputs.to(device), val_labels.to(device)\n",
        "\n",
        "      predictions = model(inputs)\n",
        "\n",
        "      loss = criterion(predictions, val_labels)\n",
        "      losses.append(loss.item())\n",
        "\n",
        "      total_acc += (predictions.argmax(1) == val_labels).sum().item()\n",
        "      total_count += val_labels.size(0)\n",
        "\n",
        "  epoch_acc = total_acc / total_count\n",
        "  epoch_loss = sum(losses) / len(losses)\n",
        "  return epoch_acc, epoch_loss"
      ],
      "metadata": {
        "id": "14Wm2pWdRHI0"
      },
      "execution_count": 17,
      "outputs": []
    },
    {
      "cell_type": "markdown",
      "source": [],
      "metadata": {
        "id": "AOdb5dxjT7e9"
      }
    },
    {
      "cell_type": "code",
      "source": [
        "def train(model, model_name, save_model_path, optimizer, criterion, dataloader, num_epochs, device):\n",
        "  \"\"\"\n",
        "  Usage: Train, validate model and save model\n",
        "  dataloader = [train_dataloader, val_loader]\n",
        "  \"\"\"\n",
        "  train_lost_list, train_acc_list = [], []\n",
        "  val_lost_list, val_acc_list = [], []\n",
        "  times = []\n",
        "  best_loss_eval = 100\n",
        "  train_loader, val_loader = dataloader[0], dataloader[1]\n",
        "  for epoch in range(num_epochs):\n",
        "    epoch_start_time = time.time()\n",
        "    #train state\n",
        "    train_acc, train_lost = train_epoch(model, optimizer, criterion, train_loader, device, epoch + 1, log_interval=int(len(train_loader) / 6))\n",
        "\n",
        "    #validate state\n",
        "    val_acc, val_lost = validation_epoch(model, criterion, val_loader, device)\n",
        "\n",
        "    # save the best model\n",
        "    if val_lost < best_loss_eval:\n",
        "      torch.save(model.state_dict(), save_model_path + f'/{model_name}.pt')\n",
        "\n",
        "    times.append(time.time() - epoch_start_time)\n",
        "\n",
        "    # append value\n",
        "    train_lost_list.append(train_lost)\n",
        "    train_acc_list.append(train_acc)\n",
        "    val_lost_list.append(val_lost)\n",
        "    val_acc_list.append(val_acc)\n",
        "\n",
        "    # print result for each epoch\n",
        "    print(\"-\" * 59)\n",
        "    print(\n",
        "        \"| End of epoch {:3d} | Time: {:5.2f}s | Train Accuracy {:8.3f} \"\n",
        "        \"| Validate Accuracy {:8.3f} | Validate Loss {:8.3f}\".format(\n",
        "            epoch + 1, time.time() - epoch_start_time, train_acc, train_lost, val_acc, val_lost\n",
        "        )\n",
        "    )\n",
        "    print(\"-\" * 59)\n",
        "  # Load best model de lam gi?\n",
        "  model.load_state_dict(torch.load(save_model_path + f'/{model_name}.pt'))\n",
        "  model.eval()\n",
        "  metrics = {\n",
        "      'train_accuracy' : train_acc_list,\n",
        "      'train_loss' : train_lost_list,\n",
        "      'val_accuracy' : val_acc_list,\n",
        "      'val_loss' : val_lost_list,\n",
        "      'time' : times\n",
        "  }\n",
        "  return model, metrics"
      ],
      "metadata": {
        "id": "-ZClHdmWRp1V"
      },
      "execution_count": 18,
      "outputs": []
    },
    {
      "cell_type": "code",
      "source": [
        "import os\n",
        "#input out put cua bai toan la gi, co the cai tien, kho khan cua bai toan la gi,\n",
        "# co the cai tien bai toan nay hay khong?\n",
        "# training and save model\n",
        "num_epochs = 50\n",
        "save_model_path = './model'\n",
        "os.makedirs(save_model_path, exist_ok=True)\n",
        "model_name = 'model_vit_cifar10'\n",
        "\n",
        "dataloader = [train_loader, val_loader]\n",
        "print(device)\n",
        "model, metrics = train(\n",
        "    model, model_name, save_model_path, optimizer, criterion, dataloader, num_epochs, device\n",
        ")"
      ],
      "metadata": {
        "id": "nYs2llzcO5YZ",
        "colab": {
          "base_uri": "https://localhost:8080/"
        },
        "outputId": "82fcb794-f517-430b-fff2-8a9382a5f1e6"
      },
      "execution_count": 32,
      "outputs": [
        {
          "output_type": "stream",
          "name": "stdout",
          "text": [
            "cuda\n",
            "| epoch   1 |  1875/11250 batches | accuracy    0.622\n",
            "| epoch   1 |  3750/11250 batches | accuracy    0.623\n",
            "| epoch   1 |  5625/11250 batches | accuracy    0.627\n",
            "| epoch   1 |  7500/11250 batches | accuracy    0.619\n",
            "| epoch   1 |  9375/11250 batches | accuracy    0.618\n",
            "-----------------------------------------------------------\n",
            "| End of epoch   1 | Time: 82.87s | Train Accuracy    0.615 | Validate Accuracy    1.060 | Validate Loss    0.593\n",
            "-----------------------------------------------------------\n",
            "| epoch   2 |  1875/11250 batches | accuracy    0.622\n",
            "| epoch   2 |  3750/11250 batches | accuracy    0.626\n",
            "| epoch   2 |  5625/11250 batches | accuracy    0.613\n",
            "| epoch   2 |  7500/11250 batches | accuracy    0.609\n",
            "| epoch   2 |  9375/11250 batches | accuracy    0.625\n",
            "-----------------------------------------------------------\n",
            "| End of epoch   2 | Time: 82.07s | Train Accuracy    0.625 | Validate Accuracy    1.058 | Validate Loss    0.599\n",
            "-----------------------------------------------------------\n",
            "| epoch   3 |  1875/11250 batches | accuracy    0.624\n",
            "| epoch   3 |  3750/11250 batches | accuracy    0.623\n",
            "| epoch   3 |  5625/11250 batches | accuracy    0.622\n",
            "| epoch   3 |  7500/11250 batches | accuracy    0.634\n",
            "| epoch   3 |  9375/11250 batches | accuracy    0.615\n",
            "-----------------------------------------------------------\n",
            "| End of epoch   3 | Time: 83.22s | Train Accuracy    0.629 | Validate Accuracy    1.053 | Validate Loss    0.599\n",
            "-----------------------------------------------------------\n",
            "| epoch   4 |  1875/11250 batches | accuracy    0.625\n",
            "| epoch   4 |  3750/11250 batches | accuracy    0.627\n",
            "| epoch   4 |  5625/11250 batches | accuracy    0.623\n",
            "| epoch   4 |  7500/11250 batches | accuracy    0.627\n",
            "| epoch   4 |  9375/11250 batches | accuracy    0.616\n",
            "-----------------------------------------------------------\n",
            "| End of epoch   4 | Time: 83.88s | Train Accuracy    0.621 | Validate Accuracy    1.053 | Validate Loss    0.598\n",
            "-----------------------------------------------------------\n",
            "| epoch   5 |  1875/11250 batches | accuracy    0.633\n",
            "| epoch   5 |  3750/11250 batches | accuracy    0.624\n",
            "| epoch   5 |  5625/11250 batches | accuracy    0.632\n",
            "| epoch   5 |  7500/11250 batches | accuracy    0.620\n",
            "| epoch   5 |  9375/11250 batches | accuracy    0.628\n",
            "-----------------------------------------------------------\n",
            "| End of epoch   5 | Time: 83.46s | Train Accuracy    0.621 | Validate Accuracy    1.046 | Validate Loss    0.608\n",
            "-----------------------------------------------------------\n",
            "| epoch   6 |  1875/11250 batches | accuracy    0.622\n",
            "| epoch   6 |  3750/11250 batches | accuracy    0.628\n",
            "| epoch   6 |  5625/11250 batches | accuracy    0.632\n",
            "| epoch   6 |  7500/11250 batches | accuracy    0.630\n",
            "| epoch   6 |  9375/11250 batches | accuracy    0.627\n",
            "-----------------------------------------------------------\n",
            "| End of epoch   6 | Time: 83.24s | Train Accuracy    0.634 | Validate Accuracy    1.041 | Validate Loss    0.598\n",
            "-----------------------------------------------------------\n",
            "| epoch   7 |  1875/11250 batches | accuracy    0.636\n",
            "| epoch   7 |  3750/11250 batches | accuracy    0.623\n",
            "| epoch   7 |  5625/11250 batches | accuracy    0.637\n",
            "| epoch   7 |  7500/11250 batches | accuracy    0.633\n",
            "| epoch   7 |  9375/11250 batches | accuracy    0.621\n",
            "-----------------------------------------------------------\n",
            "| End of epoch   7 | Time: 84.71s | Train Accuracy    0.622 | Validate Accuracy    1.036 | Validate Loss    0.605\n",
            "-----------------------------------------------------------\n",
            "| epoch   8 |  1875/11250 batches | accuracy    0.631\n",
            "| epoch   8 |  3750/11250 batches | accuracy    0.631\n",
            "| epoch   8 |  5625/11250 batches | accuracy    0.630\n",
            "| epoch   8 |  7500/11250 batches | accuracy    0.626\n",
            "| epoch   8 |  9375/11250 batches | accuracy    0.633\n",
            "-----------------------------------------------------------\n",
            "| End of epoch   8 | Time: 83.82s | Train Accuracy    0.636 | Validate Accuracy    1.031 | Validate Loss    0.601\n",
            "-----------------------------------------------------------\n",
            "| epoch   9 |  1875/11250 batches | accuracy    0.621\n",
            "| epoch   9 |  3750/11250 batches | accuracy    0.633\n",
            "| epoch   9 |  5625/11250 batches | accuracy    0.634\n",
            "| epoch   9 |  7500/11250 batches | accuracy    0.641\n",
            "| epoch   9 |  9375/11250 batches | accuracy    0.627\n",
            "-----------------------------------------------------------\n",
            "| End of epoch   9 | Time: 83.79s | Train Accuracy    0.631 | Validate Accuracy    1.029 | Validate Loss    0.602\n",
            "-----------------------------------------------------------\n",
            "| epoch  10 |  1875/11250 batches | accuracy    0.638\n",
            "| epoch  10 |  3750/11250 batches | accuracy    0.637\n",
            "| epoch  10 |  5625/11250 batches | accuracy    0.633\n",
            "| epoch  10 |  7500/11250 batches | accuracy    0.633\n",
            "| epoch  10 |  9375/11250 batches | accuracy    0.627\n",
            "-----------------------------------------------------------\n",
            "| End of epoch  10 | Time: 83.38s | Train Accuracy    0.635 | Validate Accuracy    1.024 | Validate Loss    0.599\n",
            "-----------------------------------------------------------\n",
            "| epoch  11 |  1875/11250 batches | accuracy    0.635\n",
            "| epoch  11 |  3750/11250 batches | accuracy    0.631\n",
            "| epoch  11 |  5625/11250 batches | accuracy    0.637\n",
            "| epoch  11 |  7500/11250 batches | accuracy    0.632\n",
            "| epoch  11 |  9375/11250 batches | accuracy    0.637\n",
            "-----------------------------------------------------------\n",
            "| End of epoch  11 | Time: 83.67s | Train Accuracy    0.639 | Validate Accuracy    1.023 | Validate Loss    0.615\n",
            "-----------------------------------------------------------\n",
            "| epoch  12 |  1875/11250 batches | accuracy    0.637\n",
            "| epoch  12 |  3750/11250 batches | accuracy    0.645\n",
            "| epoch  12 |  5625/11250 batches | accuracy    0.642\n",
            "| epoch  12 |  7500/11250 batches | accuracy    0.641\n",
            "| epoch  12 |  9375/11250 batches | accuracy    0.641\n",
            "-----------------------------------------------------------\n",
            "| End of epoch  12 | Time: 85.02s | Train Accuracy    0.635 | Validate Accuracy    1.021 | Validate Loss    0.602\n",
            "-----------------------------------------------------------\n",
            "| epoch  13 |  1875/11250 batches | accuracy    0.636\n",
            "| epoch  13 |  3750/11250 batches | accuracy    0.630\n",
            "| epoch  13 |  5625/11250 batches | accuracy    0.632\n",
            "| epoch  13 |  7500/11250 batches | accuracy    0.651\n",
            "| epoch  13 |  9375/11250 batches | accuracy    0.631\n",
            "-----------------------------------------------------------\n",
            "| End of epoch  13 | Time: 83.38s | Train Accuracy    0.636 | Validate Accuracy    1.015 | Validate Loss    0.610\n",
            "-----------------------------------------------------------\n",
            "| epoch  14 |  1875/11250 batches | accuracy    0.638\n",
            "| epoch  14 |  3750/11250 batches | accuracy    0.636\n",
            "| epoch  14 |  5625/11250 batches | accuracy    0.635\n",
            "| epoch  14 |  7500/11250 batches | accuracy    0.634\n",
            "| epoch  14 |  9375/11250 batches | accuracy    0.642\n",
            "-----------------------------------------------------------\n",
            "| End of epoch  14 | Time: 83.27s | Train Accuracy    0.634 | Validate Accuracy    1.015 | Validate Loss    0.607\n",
            "-----------------------------------------------------------\n",
            "| epoch  15 |  1875/11250 batches | accuracy    0.647\n",
            "| epoch  15 |  3750/11250 batches | accuracy    0.634\n",
            "| epoch  15 |  5625/11250 batches | accuracy    0.641\n",
            "| epoch  15 |  7500/11250 batches | accuracy    0.643\n",
            "| epoch  15 |  9375/11250 batches | accuracy    0.640\n",
            "-----------------------------------------------------------\n",
            "| End of epoch  15 | Time: 83.74s | Train Accuracy    0.642 | Validate Accuracy    1.007 | Validate Loss    0.611\n",
            "-----------------------------------------------------------\n",
            "| epoch  16 |  1875/11250 batches | accuracy    0.644\n",
            "| epoch  16 |  3750/11250 batches | accuracy    0.643\n",
            "| epoch  16 |  5625/11250 batches | accuracy    0.633\n",
            "| epoch  16 |  7500/11250 batches | accuracy    0.641\n",
            "| epoch  16 |  9375/11250 batches | accuracy    0.646\n",
            "-----------------------------------------------------------\n",
            "| End of epoch  16 | Time: 83.92s | Train Accuracy    0.636 | Validate Accuracy    1.006 | Validate Loss    0.609\n",
            "-----------------------------------------------------------\n",
            "| epoch  17 |  1875/11250 batches | accuracy    0.636\n",
            "| epoch  17 |  3750/11250 batches | accuracy    0.648\n",
            "| epoch  17 |  5625/11250 batches | accuracy    0.632\n",
            "| epoch  17 |  7500/11250 batches | accuracy    0.650\n",
            "| epoch  17 |  9375/11250 batches | accuracy    0.648\n",
            "-----------------------------------------------------------\n",
            "| End of epoch  17 | Time: 84.15s | Train Accuracy    0.634 | Validate Accuracy    1.003 | Validate Loss    0.613\n",
            "-----------------------------------------------------------\n",
            "| epoch  18 |  1875/11250 batches | accuracy    0.655\n",
            "| epoch  18 |  3750/11250 batches | accuracy    0.634\n",
            "| epoch  18 |  5625/11250 batches | accuracy    0.653\n",
            "| epoch  18 |  7500/11250 batches | accuracy    0.645\n",
            "| epoch  18 |  9375/11250 batches | accuracy    0.644\n",
            "-----------------------------------------------------------\n",
            "| End of epoch  18 | Time: 84.25s | Train Accuracy    0.636 | Validate Accuracy    0.999 | Validate Loss    0.601\n",
            "-----------------------------------------------------------\n",
            "| epoch  19 |  1875/11250 batches | accuracy    0.643\n",
            "| epoch  19 |  3750/11250 batches | accuracy    0.652\n",
            "| epoch  19 |  5625/11250 batches | accuracy    0.649\n",
            "| epoch  19 |  7500/11250 batches | accuracy    0.636\n",
            "| epoch  19 |  9375/11250 batches | accuracy    0.634\n",
            "-----------------------------------------------------------\n",
            "| End of epoch  19 | Time: 84.56s | Train Accuracy    0.641 | Validate Accuracy    0.996 | Validate Loss    0.608\n",
            "-----------------------------------------------------------\n",
            "| epoch  20 |  1875/11250 batches | accuracy    0.646\n",
            "| epoch  20 |  3750/11250 batches | accuracy    0.642\n",
            "| epoch  20 |  5625/11250 batches | accuracy    0.653\n",
            "| epoch  20 |  7500/11250 batches | accuracy    0.642\n",
            "| epoch  20 |  9375/11250 batches | accuracy    0.640\n",
            "-----------------------------------------------------------\n",
            "| End of epoch  20 | Time: 83.26s | Train Accuracy    0.643 | Validate Accuracy    0.995 | Validate Loss    0.599\n",
            "-----------------------------------------------------------\n",
            "| epoch  21 |  1875/11250 batches | accuracy    0.645\n",
            "| epoch  21 |  3750/11250 batches | accuracy    0.649\n",
            "| epoch  21 |  5625/11250 batches | accuracy    0.645\n",
            "| epoch  21 |  7500/11250 batches | accuracy    0.637\n",
            "| epoch  21 |  9375/11250 batches | accuracy    0.643\n",
            "-----------------------------------------------------------\n",
            "| End of epoch  21 | Time: 82.82s | Train Accuracy    0.639 | Validate Accuracy    0.993 | Validate Loss    0.599\n",
            "-----------------------------------------------------------\n",
            "| epoch  22 |  1875/11250 batches | accuracy    0.648\n",
            "| epoch  22 |  3750/11250 batches | accuracy    0.647\n",
            "| epoch  22 |  5625/11250 batches | accuracy    0.647\n",
            "| epoch  22 |  7500/11250 batches | accuracy    0.649\n",
            "| epoch  22 |  9375/11250 batches | accuracy    0.644\n",
            "-----------------------------------------------------------\n",
            "| End of epoch  22 | Time: 82.36s | Train Accuracy    0.649 | Validate Accuracy    0.991 | Validate Loss    0.606\n",
            "-----------------------------------------------------------\n",
            "| epoch  23 |  1875/11250 batches | accuracy    0.662\n",
            "| epoch  23 |  3750/11250 batches | accuracy    0.649\n",
            "| epoch  23 |  5625/11250 batches | accuracy    0.646\n",
            "| epoch  23 |  7500/11250 batches | accuracy    0.653\n",
            "| epoch  23 |  9375/11250 batches | accuracy    0.652\n",
            "-----------------------------------------------------------\n",
            "| End of epoch  23 | Time: 83.61s | Train Accuracy    0.633 | Validate Accuracy    0.982 | Validate Loss    0.613\n",
            "-----------------------------------------------------------\n",
            "| epoch  24 |  1875/11250 batches | accuracy    0.657\n",
            "| epoch  24 |  3750/11250 batches | accuracy    0.646\n",
            "| epoch  24 |  5625/11250 batches | accuracy    0.644\n",
            "| epoch  24 |  7500/11250 batches | accuracy    0.648\n",
            "| epoch  24 |  9375/11250 batches | accuracy    0.648\n",
            "-----------------------------------------------------------\n",
            "| End of epoch  24 | Time: 84.10s | Train Accuracy    0.651 | Validate Accuracy    0.980 | Validate Loss    0.602\n",
            "-----------------------------------------------------------\n",
            "| epoch  25 |  1875/11250 batches | accuracy    0.647\n",
            "| epoch  25 |  3750/11250 batches | accuracy    0.659\n",
            "| epoch  25 |  5625/11250 batches | accuracy    0.659\n",
            "| epoch  25 |  7500/11250 batches | accuracy    0.649\n",
            "| epoch  25 |  9375/11250 batches | accuracy    0.648\n",
            "-----------------------------------------------------------\n",
            "| End of epoch  25 | Time: 83.01s | Train Accuracy    0.647 | Validate Accuracy    0.979 | Validate Loss    0.608\n",
            "-----------------------------------------------------------\n",
            "| epoch  26 |  1875/11250 batches | accuracy    0.658\n",
            "| epoch  26 |  3750/11250 batches | accuracy    0.652\n",
            "| epoch  26 |  5625/11250 batches | accuracy    0.655\n",
            "| epoch  26 |  7500/11250 batches | accuracy    0.654\n",
            "| epoch  26 |  9375/11250 batches | accuracy    0.643\n",
            "-----------------------------------------------------------\n",
            "| End of epoch  26 | Time: 83.98s | Train Accuracy    0.660 | Validate Accuracy    0.976 | Validate Loss    0.613\n",
            "-----------------------------------------------------------\n",
            "| epoch  27 |  1875/11250 batches | accuracy    0.646\n",
            "| epoch  27 |  3750/11250 batches | accuracy    0.657\n",
            "| epoch  27 |  5625/11250 batches | accuracy    0.651\n",
            "| epoch  27 |  7500/11250 batches | accuracy    0.654\n",
            "| epoch  27 |  9375/11250 batches | accuracy    0.643\n",
            "-----------------------------------------------------------\n",
            "| End of epoch  27 | Time: 82.95s | Train Accuracy    0.655 | Validate Accuracy    0.973 | Validate Loss    0.607\n",
            "-----------------------------------------------------------\n",
            "| epoch  28 |  1875/11250 batches | accuracy    0.654\n",
            "| epoch  28 |  3750/11250 batches | accuracy    0.658\n",
            "| epoch  28 |  5625/11250 batches | accuracy    0.655\n",
            "| epoch  28 |  7500/11250 batches | accuracy    0.649\n",
            "| epoch  28 |  9375/11250 batches | accuracy    0.645\n",
            "-----------------------------------------------------------\n",
            "| End of epoch  28 | Time: 83.39s | Train Accuracy    0.661 | Validate Accuracy    0.967 | Validate Loss    0.622\n",
            "-----------------------------------------------------------\n",
            "| epoch  29 |  1875/11250 batches | accuracy    0.653\n",
            "| epoch  29 |  3750/11250 batches | accuracy    0.652\n",
            "| epoch  29 |  5625/11250 batches | accuracy    0.661\n",
            "| epoch  29 |  7500/11250 batches | accuracy    0.656\n",
            "| epoch  29 |  9375/11250 batches | accuracy    0.657\n",
            "-----------------------------------------------------------\n",
            "| End of epoch  29 | Time: 83.50s | Train Accuracy    0.655 | Validate Accuracy    0.965 | Validate Loss    0.609\n",
            "-----------------------------------------------------------\n",
            "| epoch  30 |  1875/11250 batches | accuracy    0.661\n",
            "| epoch  30 |  3750/11250 batches | accuracy    0.659\n",
            "| epoch  30 |  5625/11250 batches | accuracy    0.663\n",
            "| epoch  30 |  7500/11250 batches | accuracy    0.657\n",
            "| epoch  30 |  9375/11250 batches | accuracy    0.648\n",
            "-----------------------------------------------------------\n",
            "| End of epoch  30 | Time: 83.64s | Train Accuracy    0.652 | Validate Accuracy    0.964 | Validate Loss    0.609\n",
            "-----------------------------------------------------------\n",
            "| epoch  31 |  1875/11250 batches | accuracy    0.662\n",
            "| epoch  31 |  3750/11250 batches | accuracy    0.651\n",
            "| epoch  31 |  5625/11250 batches | accuracy    0.655\n",
            "| epoch  31 |  7500/11250 batches | accuracy    0.666\n",
            "| epoch  31 |  9375/11250 batches | accuracy    0.664\n",
            "-----------------------------------------------------------\n",
            "| End of epoch  31 | Time: 83.35s | Train Accuracy    0.657 | Validate Accuracy    0.958 | Validate Loss    0.614\n",
            "-----------------------------------------------------------\n",
            "| epoch  32 |  1875/11250 batches | accuracy    0.658\n",
            "| epoch  32 |  3750/11250 batches | accuracy    0.661\n",
            "| epoch  32 |  5625/11250 batches | accuracy    0.653\n",
            "| epoch  32 |  7500/11250 batches | accuracy    0.655\n",
            "| epoch  32 |  9375/11250 batches | accuracy    0.654\n",
            "-----------------------------------------------------------\n",
            "| End of epoch  32 | Time: 82.01s | Train Accuracy    0.658 | Validate Accuracy    0.959 | Validate Loss    0.604\n",
            "-----------------------------------------------------------\n",
            "| epoch  33 |  1875/11250 batches | accuracy    0.654\n",
            "| epoch  33 |  3750/11250 batches | accuracy    0.659\n",
            "| epoch  33 |  5625/11250 batches | accuracy    0.663\n",
            "| epoch  33 |  7500/11250 batches | accuracy    0.653\n",
            "| epoch  33 |  9375/11250 batches | accuracy    0.666\n",
            "-----------------------------------------------------------\n",
            "| End of epoch  33 | Time: 82.13s | Train Accuracy    0.660 | Validate Accuracy    0.957 | Validate Loss    0.610\n",
            "-----------------------------------------------------------\n",
            "| epoch  34 |  1875/11250 batches | accuracy    0.662\n",
            "| epoch  34 |  3750/11250 batches | accuracy    0.664\n",
            "| epoch  34 |  5625/11250 batches | accuracy    0.660\n",
            "| epoch  34 |  7500/11250 batches | accuracy    0.656\n",
            "| epoch  34 |  9375/11250 batches | accuracy    0.657\n",
            "-----------------------------------------------------------\n",
            "| End of epoch  34 | Time: 82.96s | Train Accuracy    0.656 | Validate Accuracy    0.953 | Validate Loss    0.611\n",
            "-----------------------------------------------------------\n",
            "| epoch  35 |  1875/11250 batches | accuracy    0.664\n",
            "| epoch  35 |  3750/11250 batches | accuracy    0.659\n",
            "| epoch  35 |  5625/11250 batches | accuracy    0.654\n",
            "| epoch  35 |  7500/11250 batches | accuracy    0.674\n",
            "| epoch  35 |  9375/11250 batches | accuracy    0.664\n",
            "-----------------------------------------------------------\n",
            "| End of epoch  35 | Time: 81.94s | Train Accuracy    0.670 | Validate Accuracy    0.948 | Validate Loss    0.619\n",
            "-----------------------------------------------------------\n",
            "| epoch  36 |  1875/11250 batches | accuracy    0.667\n",
            "| epoch  36 |  3750/11250 batches | accuracy    0.652\n",
            "| epoch  36 |  5625/11250 batches | accuracy    0.667\n",
            "| epoch  36 |  7500/11250 batches | accuracy    0.651\n",
            "| epoch  36 |  9375/11250 batches | accuracy    0.661\n",
            "-----------------------------------------------------------\n",
            "| End of epoch  36 | Time: 82.44s | Train Accuracy    0.669 | Validate Accuracy    0.947 | Validate Loss    0.607\n",
            "-----------------------------------------------------------\n",
            "| epoch  37 |  1875/11250 batches | accuracy    0.666\n",
            "| epoch  37 |  3750/11250 batches | accuracy    0.665\n",
            "| epoch  37 |  5625/11250 batches | accuracy    0.662\n",
            "| epoch  37 |  7500/11250 batches | accuracy    0.662\n",
            "| epoch  37 |  9375/11250 batches | accuracy    0.654\n",
            "-----------------------------------------------------------\n",
            "| End of epoch  37 | Time: 82.79s | Train Accuracy    0.657 | Validate Accuracy    0.944 | Validate Loss    0.609\n",
            "-----------------------------------------------------------\n",
            "| epoch  38 |  1875/11250 batches | accuracy    0.666\n",
            "| epoch  38 |  3750/11250 batches | accuracy    0.661\n",
            "| epoch  38 |  5625/11250 batches | accuracy    0.665\n",
            "| epoch  38 |  7500/11250 batches | accuracy    0.655\n",
            "| epoch  38 |  9375/11250 batches | accuracy    0.660\n",
            "-----------------------------------------------------------\n",
            "| End of epoch  38 | Time: 82.74s | Train Accuracy    0.663 | Validate Accuracy    0.943 | Validate Loss    0.617\n",
            "-----------------------------------------------------------\n",
            "| epoch  39 |  1875/11250 batches | accuracy    0.673\n",
            "| epoch  39 |  3750/11250 batches | accuracy    0.659\n",
            "| epoch  39 |  5625/11250 batches | accuracy    0.671\n",
            "| epoch  39 |  7500/11250 batches | accuracy    0.671\n",
            "| epoch  39 |  9375/11250 batches | accuracy    0.659\n",
            "-----------------------------------------------------------\n",
            "| End of epoch  39 | Time: 81.74s | Train Accuracy    0.659 | Validate Accuracy    0.936 | Validate Loss    0.598\n",
            "-----------------------------------------------------------\n",
            "| epoch  40 |  1875/11250 batches | accuracy    0.662\n",
            "| epoch  40 |  3750/11250 batches | accuracy    0.662\n",
            "| epoch  40 |  5625/11250 batches | accuracy    0.669\n",
            "| epoch  40 |  7500/11250 batches | accuracy    0.671\n",
            "| epoch  40 |  9375/11250 batches | accuracy    0.669\n",
            "-----------------------------------------------------------\n",
            "| End of epoch  40 | Time: 81.91s | Train Accuracy    0.666 | Validate Accuracy    0.935 | Validate Loss    0.617\n",
            "-----------------------------------------------------------\n",
            "| epoch  41 |  1875/11250 batches | accuracy    0.661\n",
            "| epoch  41 |  3750/11250 batches | accuracy    0.671\n",
            "| epoch  41 |  5625/11250 batches | accuracy    0.671\n",
            "| epoch  41 |  7500/11250 batches | accuracy    0.668\n",
            "| epoch  41 |  9375/11250 batches | accuracy    0.665\n",
            "-----------------------------------------------------------\n",
            "| End of epoch  41 | Time: 82.45s | Train Accuracy    0.667 | Validate Accuracy    0.932 | Validate Loss    0.610\n",
            "-----------------------------------------------------------\n",
            "| epoch  42 |  1875/11250 batches | accuracy    0.668\n",
            "| epoch  42 |  3750/11250 batches | accuracy    0.669\n",
            "| epoch  42 |  5625/11250 batches | accuracy    0.669\n",
            "| epoch  42 |  7500/11250 batches | accuracy    0.675\n",
            "| epoch  42 |  9375/11250 batches | accuracy    0.660\n",
            "-----------------------------------------------------------\n",
            "| End of epoch  42 | Time: 83.15s | Train Accuracy    0.665 | Validate Accuracy    0.930 | Validate Loss    0.609\n",
            "-----------------------------------------------------------\n",
            "| epoch  43 |  1875/11250 batches | accuracy    0.674\n",
            "| epoch  43 |  3750/11250 batches | accuracy    0.668\n",
            "| epoch  43 |  5625/11250 batches | accuracy    0.663\n",
            "| epoch  43 |  7500/11250 batches | accuracy    0.673\n",
            "| epoch  43 |  9375/11250 batches | accuracy    0.671\n",
            "-----------------------------------------------------------\n",
            "| End of epoch  43 | Time: 83.31s | Train Accuracy    0.660 | Validate Accuracy    0.931 | Validate Loss    0.608\n",
            "-----------------------------------------------------------\n",
            "| epoch  44 |  1875/11250 batches | accuracy    0.662\n",
            "| epoch  44 |  3750/11250 batches | accuracy    0.668\n",
            "| epoch  44 |  5625/11250 batches | accuracy    0.660\n",
            "| epoch  44 |  7500/11250 batches | accuracy    0.667\n",
            "| epoch  44 |  9375/11250 batches | accuracy    0.672\n",
            "-----------------------------------------------------------\n",
            "| End of epoch  44 | Time: 83.59s | Train Accuracy    0.671 | Validate Accuracy    0.925 | Validate Loss    0.624\n",
            "-----------------------------------------------------------\n",
            "| epoch  45 |  1875/11250 batches | accuracy    0.678\n",
            "| epoch  45 |  3750/11250 batches | accuracy    0.664\n",
            "| epoch  45 |  5625/11250 batches | accuracy    0.670\n",
            "| epoch  45 |  7500/11250 batches | accuracy    0.671\n",
            "| epoch  45 |  9375/11250 batches | accuracy    0.664\n",
            "-----------------------------------------------------------\n",
            "| End of epoch  45 | Time: 83.60s | Train Accuracy    0.669 | Validate Accuracy    0.924 | Validate Loss    0.616\n",
            "-----------------------------------------------------------\n",
            "| epoch  46 |  1875/11250 batches | accuracy    0.678\n",
            "| epoch  46 |  3750/11250 batches | accuracy    0.669\n",
            "| epoch  46 |  5625/11250 batches | accuracy    0.674\n",
            "| epoch  46 |  7500/11250 batches | accuracy    0.671\n",
            "| epoch  46 |  9375/11250 batches | accuracy    0.665\n",
            "-----------------------------------------------------------\n",
            "| End of epoch  46 | Time: 82.88s | Train Accuracy    0.663 | Validate Accuracy    0.918 | Validate Loss    0.609\n",
            "-----------------------------------------------------------\n",
            "| epoch  47 |  1875/11250 batches | accuracy    0.674\n",
            "| epoch  47 |  3750/11250 batches | accuracy    0.669\n",
            "| epoch  47 |  5625/11250 batches | accuracy    0.674\n",
            "| epoch  47 |  7500/11250 batches | accuracy    0.661\n",
            "| epoch  47 |  9375/11250 batches | accuracy    0.662\n",
            "-----------------------------------------------------------\n",
            "| End of epoch  47 | Time: 82.54s | Train Accuracy    0.669 | Validate Accuracy    0.920 | Validate Loss    0.615\n",
            "-----------------------------------------------------------\n",
            "| epoch  48 |  1875/11250 batches | accuracy    0.672\n",
            "| epoch  48 |  3750/11250 batches | accuracy    0.669\n",
            "| epoch  48 |  5625/11250 batches | accuracy    0.672\n",
            "| epoch  48 |  7500/11250 batches | accuracy    0.670\n",
            "| epoch  48 |  9375/11250 batches | accuracy    0.672\n",
            "-----------------------------------------------------------\n",
            "| End of epoch  48 | Time: 84.13s | Train Accuracy    0.669 | Validate Accuracy    0.915 | Validate Loss    0.617\n",
            "-----------------------------------------------------------\n",
            "| epoch  49 |  1875/11250 batches | accuracy    0.673\n",
            "| epoch  49 |  3750/11250 batches | accuracy    0.675\n",
            "| epoch  49 |  5625/11250 batches | accuracy    0.682\n",
            "| epoch  49 |  7500/11250 batches | accuracy    0.666\n",
            "| epoch  49 |  9375/11250 batches | accuracy    0.673\n",
            "-----------------------------------------------------------\n",
            "| End of epoch  49 | Time: 84.93s | Train Accuracy    0.673 | Validate Accuracy    0.914 | Validate Loss    0.618\n",
            "-----------------------------------------------------------\n",
            "| epoch  50 |  1875/11250 batches | accuracy    0.670\n",
            "| epoch  50 |  3750/11250 batches | accuracy    0.676\n",
            "| epoch  50 |  5625/11250 batches | accuracy    0.678\n",
            "| epoch  50 |  7500/11250 batches | accuracy    0.667\n",
            "| epoch  50 |  9375/11250 batches | accuracy    0.679\n",
            "-----------------------------------------------------------\n",
            "| End of epoch  50 | Time: 85.18s | Train Accuracy    0.669 | Validate Accuracy    0.910 | Validate Loss    0.625\n",
            "-----------------------------------------------------------\n"
          ]
        }
      ]
    },
    {
      "cell_type": "markdown",
      "source": [
        "## Visualization"
      ],
      "metadata": {
        "id": "Djsf-Z59J4Z4"
      }
    },
    {
      "cell_type": "code",
      "source": [
        "import matplotlib.pyplot as plt\n",
        "\n",
        "def plot_result(num_epochs, train_accs, eval_accs, train_losses, eval_losses):\n",
        "  epochs = list(range(num_epochs))\n",
        "  fig, axs = plt.subplots(nrows= 1, ncols=2, figsize=(12, 6))\n",
        "\n",
        "  axs[0].plot(epochs, train_accs, label=\"Training\", color='green')\n",
        "  axs[0].plot(epochs, eval_accs, label=\"Evaluation\", color='orange')\n",
        "  axs[0].set(xlabel='Epoch', ylabel='Accuaracy')\n",
        "\n",
        "  axs[1].plot(epochs, train_losses, label=\"Training\", color='green')\n",
        "  axs[1].plot(epochs, eval_losses, label=\"Evaluation\", color='orange')\n",
        "  axs[1].set(xlabel='Epoch', ylabel='Loss')\n",
        "  plt.legend()\n"
      ],
      "metadata": {
        "id": "VCTJDfg5Patw"
      },
      "execution_count": 26,
      "outputs": []
    },
    {
      "cell_type": "code",
      "source": [
        "# time = metrics[\"time\"]\n",
        "# print(f\"Time: {time}\")\n",
        "plot_result(\n",
        "    num_epochs,\n",
        "    metrics[\"train_accuracy\"],\n",
        "    metrics[\"val_accuracy\"],\n",
        "    metrics[\"train_loss\"],\n",
        "    metrics[\"val_loss\"]\n",
        ")"
      ],
      "metadata": {
        "id": "ORy9vwk1J3pS",
        "outputId": "6d4b2fa5-0842-4c73-dff1-1714da61836c",
        "colab": {
          "base_uri": "https://localhost:8080/",
          "height": 435
        }
      },
      "execution_count": 27,
      "outputs": [
        {
          "output_type": "stream",
          "name": "stdout",
          "text": [
            "Time: [83.99163055419922, 84.89216685295105, 84.99026131629944, 84.1863284111023, 84.92597389221191, 83.90126657485962, 84.20581936836243, 83.51889896392822, 83.99138402938843, 82.48646116256714, 82.38265657424927, 85.12681770324707, 83.54847645759583, 84.47974586486816, 83.92367935180664, 83.67428970336914, 83.65442538261414, 84.24236536026001, 84.9475314617157, 85.03503060340881, 84.44227623939514, 83.94026374816895, 84.27025818824768, 83.14112305641174, 82.344975233078, 82.29176640510559, 82.92314648628235, 82.33475518226624, 82.42697978019714, 81.88991451263428, 83.30937957763672, 83.8397786617279, 83.84990906715393, 83.09508299827576, 83.28100204467773, 83.46615886688232, 83.22508239746094, 82.45219993591309, 81.86322069168091, 83.03476548194885, 83.00923323631287, 82.595956325531, 81.85066604614258, 82.22138452529907, 82.57606983184814, 82.42946887016296, 82.16560482978821, 82.7574999332428, 82.45539212226868, 81.44425868988037]\n"
          ]
        },
        {
          "output_type": "display_data",
          "data": {
            "text/plain": [
              "<Figure size 1200x600 with 2 Axes>"
            ],
            "image/png": "[encoded data removed]"
          },
          "metadata": {}
        }
      ]
    },
    {
      "cell_type": "markdown",
      "source": [
        "## Evaluate by Test dataset"
      ],
      "metadata": {
        "id": "0ZeuB1htPkim"
      }
    },
    {
      "cell_type": "code",
      "source": [
        "test_target, test_predict = [], []\n",
        "model.load_state_dict(torch.load(save_model_path + f'/{model_name}.pt'))\n",
        "model.eval()\n",
        "with torch.no_grad():\n",
        "  for inputs, labels in test_loader:\n",
        "    inputs, labels = inputs.to(device), labels.to(device)\n",
        "    predictions = model(inputs)\n",
        "\n",
        "    test_target.append(labels.cpu())\n",
        "    test_predict.append(predictions.cpu())\n",
        "test_target = torch.cat(test_target, dim=0)\n",
        "test_predict = torch.cat(test_predict, dim=0)\n",
        "\n",
        "test_acc = (torch.argmax(test_predict, dim=1)==test_target).sum().item() / len(test_target)\n",
        "print(f\"Test Accuracy: {test_acc:.4f}\")"
      ],
      "metadata": {
        "id": "yZhqeF9nPkAE",
        "outputId": "53109f96-39b7-4f34-b55e-4bbf5e51dc0d",
        "colab": {
          "base_uri": "https://localhost:8080/"
        }
      },
      "execution_count": 30,
      "outputs": [
        {
          "output_type": "stream",
          "name": "stdout",
          "text": [
            "Test Accuracy: 0.5916\n"
          ]
        }
      ]
    }
  ],
  "metadata": {
    "colab": {
      "provenance": [],
      "machine_shape": "hm",
      "gpuType": "T4",
      "include_colab_link": true
    },
    "kernelspec": {
      "display_name": "Python 3",
      "name": "python3"
    },
    "language_info": {
      "name": "python"
    },
    "accelerator": "GPU"
  },
  "nbformat": 4,
  "nbformat_minor": 0
}